{
 "cells": [
  {
   "cell_type": "code",
   "execution_count": 3,
   "metadata": {},
   "outputs": [],
   "source": [
    "import numpy as np\n",
    "import pandas as pd"
   ]
  },
  {
   "cell_type": "code",
   "execution_count": 10,
   "metadata": {
    "tags": []
   },
   "outputs": [
    {
     "name": "stdout",
     "output_type": "stream",
     "text": [
      "<class 'pandas.core.frame.DataFrame'>\n",
      "RangeIndex: 87631 entries, 0 to 87630\n",
      "Data columns (total 12 columns):\n",
      " #   Column                    Non-Null Count  Dtype\n",
      "---  ------                    --------------  -----\n",
      " 0   Unnamed: 0                87631 non-null  int64\n",
      " 1   year                      87631 non-null  int64\n",
      " 2   month                     87631 non-null  int64\n",
      " 3   day                       87631 non-null  int64\n",
      " 4   hour                      87631 non-null  int64\n",
      " 5   num_calls                 87631 non-null  int64\n",
      " 6   BRONX                     87631 non-null  int64\n",
      " 7   BROOKLYN                  87631 non-null  int64\n",
      " 8   MANHATTAN                 87631 non-null  int64\n",
      " 9   QUEENS                    87631 non-null  int64\n",
      " 10  RICHMOND / STATEN ISLAND  87631 non-null  int64\n",
      " 11  UNKNOWN                   87631 non-null  int64\n",
      "dtypes: int64(12)\n",
      "memory usage: 8.0 MB\n"
     ]
    }
   ],
   "source": [
    "df = pd.read_csv('../data/hourlycounts_through2019.csv')\n",
    "df.info()"
   ]
  },
  {
   "cell_type": "code",
   "execution_count": 11,
   "metadata": {},
   "outputs": [
    {
     "data": {
      "text/html": [
       "<div>\n",
       "<style scoped>\n",
       "    .dataframe tbody tr th:only-of-type {\n",
       "        vertical-align: middle;\n",
       "    }\n",
       "\n",
       "    .dataframe tbody tr th {\n",
       "        vertical-align: top;\n",
       "    }\n",
       "\n",
       "    .dataframe thead th {\n",
       "        text-align: right;\n",
       "    }\n",
       "</style>\n",
       "<table border=\"1\" class=\"dataframe\">\n",
       "  <thead>\n",
       "    <tr style=\"text-align: right;\">\n",
       "      <th></th>\n",
       "      <th>Unnamed: 0</th>\n",
       "      <th>year</th>\n",
       "      <th>month</th>\n",
       "      <th>day</th>\n",
       "      <th>hour</th>\n",
       "      <th>num_calls</th>\n",
       "      <th>BRONX</th>\n",
       "      <th>BROOKLYN</th>\n",
       "      <th>MANHATTAN</th>\n",
       "      <th>QUEENS</th>\n",
       "      <th>RICHMOND / STATEN ISLAND</th>\n",
       "      <th>UNKNOWN</th>\n",
       "    </tr>\n",
       "  </thead>\n",
       "  <tbody>\n",
       "    <tr>\n",
       "      <th>0</th>\n",
       "      <td>0</td>\n",
       "      <td>2010</td>\n",
       "      <td>1</td>\n",
       "      <td>1</td>\n",
       "      <td>1</td>\n",
       "      <td>347</td>\n",
       "      <td>60</td>\n",
       "      <td>80</td>\n",
       "      <td>153</td>\n",
       "      <td>45</td>\n",
       "      <td>9</td>\n",
       "      <td>0</td>\n",
       "    </tr>\n",
       "    <tr>\n",
       "      <th>1</th>\n",
       "      <td>1</td>\n",
       "      <td>2010</td>\n",
       "      <td>1</td>\n",
       "      <td>1</td>\n",
       "      <td>2</td>\n",
       "      <td>318</td>\n",
       "      <td>75</td>\n",
       "      <td>83</td>\n",
       "      <td>93</td>\n",
       "      <td>58</td>\n",
       "      <td>9</td>\n",
       "      <td>0</td>\n",
       "    </tr>\n",
       "    <tr>\n",
       "      <th>2</th>\n",
       "      <td>2</td>\n",
       "      <td>2010</td>\n",
       "      <td>1</td>\n",
       "      <td>1</td>\n",
       "      <td>3</td>\n",
       "      <td>262</td>\n",
       "      <td>63</td>\n",
       "      <td>62</td>\n",
       "      <td>85</td>\n",
       "      <td>45</td>\n",
       "      <td>7</td>\n",
       "      <td>0</td>\n",
       "    </tr>\n",
       "    <tr>\n",
       "      <th>3</th>\n",
       "      <td>3</td>\n",
       "      <td>2010</td>\n",
       "      <td>1</td>\n",
       "      <td>1</td>\n",
       "      <td>4</td>\n",
       "      <td>281</td>\n",
       "      <td>63</td>\n",
       "      <td>69</td>\n",
       "      <td>90</td>\n",
       "      <td>52</td>\n",
       "      <td>7</td>\n",
       "      <td>0</td>\n",
       "    </tr>\n",
       "    <tr>\n",
       "      <th>4</th>\n",
       "      <td>4</td>\n",
       "      <td>2010</td>\n",
       "      <td>1</td>\n",
       "      <td>1</td>\n",
       "      <td>5</td>\n",
       "      <td>201</td>\n",
       "      <td>55</td>\n",
       "      <td>55</td>\n",
       "      <td>48</td>\n",
       "      <td>39</td>\n",
       "      <td>4</td>\n",
       "      <td>0</td>\n",
       "    </tr>\n",
       "  </tbody>\n",
       "</table>\n",
       "</div>"
      ],
      "text/plain": [
       "   Unnamed: 0  year  month  day  hour  num_calls  BRONX  BROOKLYN  MANHATTAN  \\\n",
       "0           0  2010      1    1     1        347     60        80        153   \n",
       "1           1  2010      1    1     2        318     75        83         93   \n",
       "2           2  2010      1    1     3        262     63        62         85   \n",
       "3           3  2010      1    1     4        281     63        69         90   \n",
       "4           4  2010      1    1     5        201     55        55         48   \n",
       "\n",
       "   QUEENS  RICHMOND / STATEN ISLAND  UNKNOWN  \n",
       "0      45                         9        0  \n",
       "1      58                         9        0  \n",
       "2      45                         7        0  \n",
       "3      52                         7        0  \n",
       "4      39                         4        0  "
      ]
     },
     "execution_count": 11,
     "metadata": {},
     "output_type": "execute_result"
    }
   ],
   "source": [
    "df.head()"
   ]
  },
  {
   "cell_type": "code",
   "execution_count": 33,
   "metadata": {},
   "outputs": [],
   "source": [
    "import matplotlib.pyplot as plt\n",
    "import seaborn as sns\n",
    "\n",
    "from sklearn.model_selection import train_test_split\n",
    "from sklearn.preprocessing import StandardScaler\n",
    "from sklearn.linear_model import LinearRegression\n",
    "from sklearn.metrics import r2_score, mean_squared_error\n",
    "\n",
    "from tensorflow.keras.models import Sequential\n",
    "from tensorflow.keras.layers import Dense, Input\n"
   ]
  },
  {
   "cell_type": "code",
   "execution_count": 14,
   "metadata": {},
   "outputs": [
    {
     "data": {
      "image/png": "[encoded data removed]",
      "text/plain": [
       "<Figure size 432x288 with 1 Axes>"
      ]
     },
     "metadata": {
      "needs_background": "light"
     },
     "output_type": "display_data"
    }
   ],
   "source": [
    "plt.scatter(df['month'],df['num_calls']);"
   ]
  },
  {
   "cell_type": "code",
   "execution_count": 22,
   "metadata": {},
   "outputs": [
    {
     "data": {
      "text/plain": [
       "(12,)"
      ]
     },
     "execution_count": 22,
     "metadata": {},
     "output_type": "execute_result"
    }
   ],
   "source": [
    "chk = df.groupby('month')['num_calls'].sum()\n",
    "chk.shape"
   ]
  },
  {
   "cell_type": "code",
   "execution_count": 23,
   "metadata": {},
   "outputs": [
    {
     "data": {
      "image/png": "[encoded data removed]",
      "text/plain": [
       "<Figure size 432x288 with 1 Axes>"
      ]
     },
     "metadata": {
      "needs_background": "light"
     },
     "output_type": "display_data"
    }
   ],
   "source": [
    "plt.plot(chk);"
   ]
  },
  {
   "cell_type": "code",
   "execution_count": 26,
   "metadata": {},
   "outputs": [],
   "source": [
    "df.drop(columns=['Unnamed: 0'], inplace=True)\n"
   ]
  },
  {
   "cell_type": "code",
   "execution_count": 28,
   "metadata": {},
   "outputs": [
    {
     "data": {
      "text/plain": [
       "year                        0.211975\n",
       "month                       0.024806\n",
       "day                        -0.025615\n",
       "hour                        0.620379\n",
       "num_calls                   1.000000\n",
       "BRONX                       0.896584\n",
       "BROOKLYN                    0.918724\n",
       "MANHATTAN                   0.907948\n",
       "QUEENS                      0.879657\n",
       "RICHMOND / STATEN ISLAND    0.624136\n",
       "UNKNOWN                     0.001204\n",
       "Name: num_calls, dtype: float64"
      ]
     },
     "execution_count": 28,
     "metadata": {},
     "output_type": "execute_result"
    }
   ],
   "source": [
    "df.corr()['num_calls']"
   ]
  },
  {
   "cell_type": "code",
   "execution_count": 32,
   "metadata": {},
   "outputs": [
    {
     "data": {
      "image/png": "[encoded data removed]",
      "text/plain": [
       "<Figure size 432x288 with 1 Axes>"
      ]
     },
     "metadata": {
      "needs_background": "light"
     },
     "output_type": "display_data"
    }
   ],
   "source": [
    "chk = df.groupby('hour')['num_calls'].mean()\n",
    "plt.plot(chk);"
   ]
  },
  {
   "cell_type": "code",
   "execution_count": 54,
   "metadata": {},
   "outputs": [],
   "source": [
    "X = df[['month', 'hour']]\n",
    "y = df['num_calls']\n",
    "X_train, X_test, y_train, y_test = train_test_split(X,y,random_state=42)\n"
   ]
  },
  {
   "cell_type": "code",
   "execution_count": 55,
   "metadata": {
    "tags": []
   },
   "outputs": [
    {
     "name": "stdout",
     "output_type": "stream",
     "text": [
      "Train/Test Score:\n",
      "0.38453475793105607 0.3883517992300095\n",
      "R2: 0.3883517992300095, RMS: 40.68395309302714\n"
     ]
    },
    {
     "data": {
      "image/png": "[encoded data removed]",
      "text/plain": [
       "<Figure size 432x288 with 1 Axes>"
      ]
     },
     "metadata": {
      "needs_background": "light"
     },
     "output_type": "display_data"
    }
   ],
   "source": [
    "lr = LinearRegression()\n",
    "lr.fit(X_train,y_train)\n",
    "preds = lr.predict(X_test)\n",
    "print('Train/Test Score:')\n",
    "print(lr.score(X_train,y_train), lr.score(X_test,y_test))\n",
    "R2 = r2_score(y_test,preds)\n",
    "RMS = mean_squared_error(y_test,preds,squared=False)\n",
    "print(f'R2: {R2}, RMS: {RMS}')\n",
    "\n",
    "plt.plot([0, 500], [0, 500], color='black')\n",
    "plt.scatter(y_test,preds);"
   ]
  },
  {
   "cell_type": "code",
   "execution_count": 56,
   "metadata": {},
   "outputs": [],
   "source": [
    "# NULL HYPOTHESIS, FOR COMPARISON:\n",
    "\n",
    "preds0 = [y_train.median() for y in y_test]"
   ]
  },
  {
   "cell_type": "code",
   "execution_count": 57,
   "metadata": {},
   "outputs": [
    {
     "name": "stdout",
     "output_type": "stream",
     "text": [
      "R2: -0.017503540541283114, RMS: 52.47352723802459\n"
     ]
    },
    {
     "data": {
      "image/png": "[encoded data removed]",
      "text/plain": [
       "<Figure size 432x288 with 1 Axes>"
      ]
     },
     "metadata": {
      "needs_background": "light"
     },
     "output_type": "display_data"
    }
   ],
   "source": [
    "R20 = r2_score(y_test,preds0)\n",
    "RMS0 = mean_squared_error(y_test,preds0,squared=False)\n",
    "print(f'R2: {R20}, RMS: {RMS0}')\n",
    "\n",
    "plt.plot([0, 500], [0, 500], color='black')\n",
    "plt.scatter(y_test,preds0);"
   ]
  },
  {
   "cell_type": "code",
   "execution_count": 58,
   "metadata": {
    "tags": []
   },
   "outputs": [],
   "source": [
    "sc = StandardScaler()\n",
    "X_train_sc = sc.fit_transform(X_train)\n",
    "X_test_sc = sc.transform(X_test)"
   ]
  },
  {
   "cell_type": "code",
   "execution_count": 59,
   "metadata": {},
   "outputs": [],
   "source": [
    "y_train = np.array(y_train)\n",
    "y_test  = np.array(y_test)"
   ]
  },
  {
   "cell_type": "code",
   "execution_count": 60,
   "metadata": {
    "tags": []
   },
   "outputs": [
    {
     "name": "stdout",
     "output_type": "stream",
     "text": [
      "Train on 65723 samples, validate on 21908 samples\n",
      "Epoch 1/20\n",
      "65723/65723 [==============================] - 4s 64us/sample - loss: 16553.0848 - mae: 109.7023 - val_loss: 3022.1653 - val_mae: 44.3857\n",
      "Epoch 2/20\n",
      "65723/65723 [==============================] - 3s 51us/sample - loss: 2502.0005 - mae: 40.5744 - val_loss: 2073.7612 - val_mae: 37.0314\n",
      "Epoch 3/20\n",
      "65723/65723 [==============================] - 3s 43us/sample - loss: 1858.8035 - mae: 35.0772 - val_loss: 1665.6644 - val_mae: 33.2811\n",
      "Epoch 4/20\n",
      "65723/65723 [==============================] - 2s 35us/sample - loss: 1473.5719 - mae: 31.0873 - val_loss: 1261.3320 - val_mae: 28.7702\n",
      "Epoch 5/20\n",
      "65723/65723 [==============================] - 2s 32us/sample - loss: 1155.9734 - mae: 27.1996 - val_loss: 1078.4381 - val_mae: 25.9759\n",
      "Epoch 6/20\n",
      "65723/65723 [==============================] - 2s 32us/sample - loss: 1062.4790 - mae: 25.7634 - val_loss: 1033.3621 - val_mae: 25.4060\n",
      "Epoch 7/20\n",
      "65723/65723 [==============================] - 2s 31us/sample - loss: 1029.2740 - mae: 25.2552 - val_loss: 1001.3429 - val_mae: 24.9327\n",
      "Epoch 8/20\n",
      "65723/65723 [==============================] - 2s 36us/sample - loss: 1000.6975 - mae: 24.8343 - val_loss: 978.1098 - val_mae: 24.4696\n",
      "Epoch 9/20\n",
      "65723/65723 [==============================] - 2s 38us/sample - loss: 978.7474 - mae: 24.5098 - val_loss: 960.7168 - val_mae: 24.4426\n",
      "Epoch 10/20\n",
      "65723/65723 [==============================] - 2s 33us/sample - loss: 961.6219 - mae: 24.2544 - val_loss: 942.6180 - val_mae: 23.9404\n",
      "Epoch 11/20\n",
      "65723/65723 [==============================] - 2s 32us/sample - loss: 948.1803 - mae: 24.0546 - val_loss: 934.7631 - val_mae: 23.7892\n",
      "Epoch 12/20\n",
      "65723/65723 [==============================] - 2s 32us/sample - loss: 938.0269 - mae: 23.9200 - val_loss: 923.6747 - val_mae: 23.7597\n",
      "Epoch 13/20\n",
      "65723/65723 [==============================] - 2s 35us/sample - loss: 932.2785 - mae: 23.8283 - val_loss: 919.1279 - val_mae: 23.6461\n",
      "Epoch 14/20\n",
      "65723/65723 [==============================] - 2s 32us/sample - loss: 926.9081 - mae: 23.7400 - val_loss: 913.8034 - val_mae: 23.6520\n",
      "Epoch 15/20\n",
      "65723/65723 [==============================] - 2s 33us/sample - loss: 923.3330 - mae: 23.6844 - val_loss: 915.8479 - val_mae: 23.4954\n",
      "Epoch 16/20\n",
      "65723/65723 [==============================] - 2s 33us/sample - loss: 919.8303 - mae: 23.6323 - val_loss: 906.7574 - val_mae: 23.4547\n",
      "Epoch 17/20\n",
      "65723/65723 [==============================] - 2s 36us/sample - loss: 916.2245 - mae: 23.5839 - val_loss: 906.5242 - val_mae: 23.5140\n",
      "Epoch 18/20\n",
      "65723/65723 [==============================] - 2s 32us/sample - loss: 915.2818 - mae: 23.5648 - val_loss: 903.6619 - val_mae: 23.4055\n",
      "Epoch 19/20\n",
      "65723/65723 [==============================] - 2s 35us/sample - loss: 912.8068 - mae: 23.5153 - val_loss: 903.7660 - val_mae: 23.4580\n",
      "Epoch 20/20\n",
      "65723/65723 [==============================] - 2s 36us/sample - loss: 911.8963 - mae: 23.5157 - val_loss: 899.4778 - val_mae: 23.4104\n"
     ]
    }
   ],
   "source": [
    "\n",
    "model = Sequential()\n",
    "model.add(Input(shape=X_train_sc.shape[1]))\n",
    "model.add(Dense(32, activation='relu'))\n",
    "model.add(Dense(32, activation='relu'))\n",
    "model.add(Dense(16, activation='relu'))\n",
    "model.add(Dense(8, activation='relu'))\n",
    "model.add(Dense(1, activation=None))\n",
    "model.compile(loss='mse', optimizer='adam', metrics=['mae'])\n",
    "results = model.fit(X_train_sc, y_train, epochs=20, batch_size=256, validation_data=(X_test_sc, y_test))\n",
    "\n"
   ]
  },
  {
   "cell_type": "code",
   "execution_count": 61,
   "metadata": {},
   "outputs": [
    {
     "data": {
      "image/png": "[encoded data removed]",
      "text/plain": [
       "<Figure size 864x576 with 1 Axes>"
      ]
     },
     "metadata": {
      "needs_background": "light"
     },
     "output_type": "display_data"
    }
   ],
   "source": [
    "train_loss = results.history['loss']\n",
    "test_loss = results.history['val_loss']\n",
    "\n",
    "plt.figure(figsize=(12, 8))\n",
    "plt.plot(train_loss, label='Training loss', color='navy')\n",
    "plt.plot(test_loss, label='Testing loss', color='skyblue')\n",
    "plt.legend();"
   ]
  },
  {
   "cell_type": "code",
   "execution_count": 62,
   "metadata": {},
   "outputs": [],
   "source": [
    "preds_nn = model.predict(X_test_sc)"
   ]
  },
  {
   "cell_type": "code",
   "execution_count": 63,
   "metadata": {},
   "outputs": [
    {
     "name": "stdout",
     "output_type": "stream",
     "text": [
      "Train/Test Score:\n",
      "R2: 0.6676115946536576, RMS: 29.991295550119954\n"
     ]
    },
    {
     "data": {
      "image/png": "[encoded data removed]",
      "text/plain": [
       "<Figure size 432x288 with 1 Axes>"
      ]
     },
     "metadata": {
      "needs_background": "light"
     },
     "output_type": "display_data"
    }
   ],
   "source": [
    "print('Train/Test Score:')\n",
    "R2 = r2_score(y_test,preds_nn)\n",
    "RMS = mean_squared_error(y_test,preds_nn,squared=False)\n",
    "print(f'R2: {R2}, RMS: {RMS}')\n",
    "\n",
    "plt.plot([0, 500], [0, 500], color='black')\n",
    "plt.scatter(y_test,preds_nn);"
   ]
  },
  {
   "cell_type": "code",
   "execution_count": 64,
   "metadata": {},
   "outputs": [
    {
     "name": "stdout",
     "output_type": "stream",
     "text": [
      "<class 'pandas.core.frame.DataFrame'>\n",
      "Int64Index: 65723 entries, 21525 to 15795\n",
      "Data columns (total 2 columns):\n",
      " #   Column  Non-Null Count  Dtype\n",
      "---  ------  --------------  -----\n",
      " 0   month   65723 non-null  int64\n",
      " 1   hour    65723 non-null  int64\n",
      "dtypes: int64(2)\n",
      "memory usage: 1.5 MB\n"
     ]
    }
   ],
   "source": [
    "X_train.info()"
   ]
  },
  {
   "cell_type": "code",
   "execution_count": null,
   "metadata": {},
   "outputs": [],
   "source": []
  }
 ],
 "metadata": {
  "kernelspec": {
   "display_name": "Python 3",
   "language": "python",
   "name": "python3"
  },
  "language_info": {
   "codemirror_mode": {
    "name": "ipython",
    "version": 3
   },
   "file_extension": ".py",
   "mimetype": "text/x-python",
   "name": "python",
   "nbconvert_exporter": "python",
   "pygments_lexer": "ipython3",
   "version": "3.8.5"
  }
 },
 "nbformat": 4,
 "nbformat_minor": 5
}
