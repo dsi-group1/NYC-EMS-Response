{
 "cells": [
  {
   "cell_type": "code",
   "execution_count": 32,
   "metadata": {},
   "outputs": [],
   "source": [
    "import numpy as np\n",
    "import pandas as pd"
   ]
  },
  {
   "cell_type": "markdown",
   "metadata": {},
   "source": [
    "Import hourly counts data, + plus weather data, and merge:"
   ]
  },
  {
   "cell_type": "code",
   "execution_count": 39,
   "metadata": {
    "tags": []
   },
   "outputs": [],
   "source": [
    "df = pd.read_csv('../data/hourlycounts_through2019.csv')\n",
    "weather = pd.read_csv('./data/cntrlprk_weather.csv')\n",
    "new_df = pd.merge(df, weather,  how='left', left_on=['year', 'month', 'day'], right_on = ['YEAR', 'MONTH', 'DAY'])\n",
    "new_df.drop(columns=['Unnamed: 0_x', 'Unnamed: 0_y'],inplace=True)\n",
    "new_df.drop(columns=['YEAR', 'MONTH', 'DAY'], inplace=True)"
   ]
  },
  {
   "cell_type": "code",
   "execution_count": 40,
   "metadata": {},
   "outputs": [
    {
     "data": {
      "text/plain": [
       "(0, 23)"
      ]
     },
     "execution_count": 40,
     "metadata": {},
     "output_type": "execute_result"
    }
   ],
   "source": [
    "df['hour'].min(), df['hour'].max()"
   ]
  },
  {
   "cell_type": "code",
   "execution_count": 41,
   "metadata": {},
   "outputs": [
    {
     "data": {
      "text/html": [
       "<div>\n",
       "<style scoped>\n",
       "    .dataframe tbody tr th:only-of-type {\n",
       "        vertical-align: middle;\n",
       "    }\n",
       "\n",
       "    .dataframe tbody tr th {\n",
       "        vertical-align: top;\n",
       "    }\n",
       "\n",
       "    .dataframe thead th {\n",
       "        text-align: right;\n",
       "    }\n",
       "</style>\n",
       "<table border=\"1\" class=\"dataframe\">\n",
       "  <thead>\n",
       "    <tr style=\"text-align: right;\">\n",
       "      <th></th>\n",
       "      <th>Unnamed: 0.1</th>\n",
       "      <th>year</th>\n",
       "      <th>month</th>\n",
       "      <th>day</th>\n",
       "      <th>hour</th>\n",
       "      <th>num_calls</th>\n",
       "      <th>BRONX</th>\n",
       "      <th>BROOKLYN</th>\n",
       "      <th>MANHATTAN</th>\n",
       "      <th>QUEENS</th>\n",
       "      <th>...</th>\n",
       "      <th>STATION</th>\n",
       "      <th>NAME</th>\n",
       "      <th>DATE</th>\n",
       "      <th>AWND</th>\n",
       "      <th>PRCP</th>\n",
       "      <th>SNOW</th>\n",
       "      <th>SNWD</th>\n",
       "      <th>TMAX</th>\n",
       "      <th>TMIN</th>\n",
       "      <th>TAVG_CALC</th>\n",
       "    </tr>\n",
       "  </thead>\n",
       "  <tbody>\n",
       "    <tr>\n",
       "      <th>0</th>\n",
       "      <td>0</td>\n",
       "      <td>2010</td>\n",
       "      <td>1</td>\n",
       "      <td>1</td>\n",
       "      <td>1</td>\n",
       "      <td>347</td>\n",
       "      <td>60</td>\n",
       "      <td>80</td>\n",
       "      <td>153</td>\n",
       "      <td>45</td>\n",
       "      <td>...</td>\n",
       "      <td>USW00094728</td>\n",
       "      <td>NY CITY CENTRAL PARK, NY US</td>\n",
       "      <td>2010-01-01</td>\n",
       "      <td>3.36</td>\n",
       "      <td>0.03</td>\n",
       "      <td>0.0</td>\n",
       "      <td>0.0</td>\n",
       "      <td>40.0</td>\n",
       "      <td>33.0</td>\n",
       "      <td>36.5</td>\n",
       "    </tr>\n",
       "    <tr>\n",
       "      <th>1</th>\n",
       "      <td>1</td>\n",
       "      <td>2010</td>\n",
       "      <td>1</td>\n",
       "      <td>1</td>\n",
       "      <td>2</td>\n",
       "      <td>318</td>\n",
       "      <td>75</td>\n",
       "      <td>83</td>\n",
       "      <td>93</td>\n",
       "      <td>58</td>\n",
       "      <td>...</td>\n",
       "      <td>USW00094728</td>\n",
       "      <td>NY CITY CENTRAL PARK, NY US</td>\n",
       "      <td>2010-01-01</td>\n",
       "      <td>3.36</td>\n",
       "      <td>0.03</td>\n",
       "      <td>0.0</td>\n",
       "      <td>0.0</td>\n",
       "      <td>40.0</td>\n",
       "      <td>33.0</td>\n",
       "      <td>36.5</td>\n",
       "    </tr>\n",
       "    <tr>\n",
       "      <th>2</th>\n",
       "      <td>2</td>\n",
       "      <td>2010</td>\n",
       "      <td>1</td>\n",
       "      <td>1</td>\n",
       "      <td>3</td>\n",
       "      <td>262</td>\n",
       "      <td>63</td>\n",
       "      <td>62</td>\n",
       "      <td>85</td>\n",
       "      <td>45</td>\n",
       "      <td>...</td>\n",
       "      <td>USW00094728</td>\n",
       "      <td>NY CITY CENTRAL PARK, NY US</td>\n",
       "      <td>2010-01-01</td>\n",
       "      <td>3.36</td>\n",
       "      <td>0.03</td>\n",
       "      <td>0.0</td>\n",
       "      <td>0.0</td>\n",
       "      <td>40.0</td>\n",
       "      <td>33.0</td>\n",
       "      <td>36.5</td>\n",
       "    </tr>\n",
       "    <tr>\n",
       "      <th>3</th>\n",
       "      <td>3</td>\n",
       "      <td>2010</td>\n",
       "      <td>1</td>\n",
       "      <td>1</td>\n",
       "      <td>4</td>\n",
       "      <td>281</td>\n",
       "      <td>63</td>\n",
       "      <td>69</td>\n",
       "      <td>90</td>\n",
       "      <td>52</td>\n",
       "      <td>...</td>\n",
       "      <td>USW00094728</td>\n",
       "      <td>NY CITY CENTRAL PARK, NY US</td>\n",
       "      <td>2010-01-01</td>\n",
       "      <td>3.36</td>\n",
       "      <td>0.03</td>\n",
       "      <td>0.0</td>\n",
       "      <td>0.0</td>\n",
       "      <td>40.0</td>\n",
       "      <td>33.0</td>\n",
       "      <td>36.5</td>\n",
       "    </tr>\n",
       "    <tr>\n",
       "      <th>4</th>\n",
       "      <td>4</td>\n",
       "      <td>2010</td>\n",
       "      <td>1</td>\n",
       "      <td>1</td>\n",
       "      <td>5</td>\n",
       "      <td>201</td>\n",
       "      <td>55</td>\n",
       "      <td>55</td>\n",
       "      <td>48</td>\n",
       "      <td>39</td>\n",
       "      <td>...</td>\n",
       "      <td>USW00094728</td>\n",
       "      <td>NY CITY CENTRAL PARK, NY US</td>\n",
       "      <td>2010-01-01</td>\n",
       "      <td>3.36</td>\n",
       "      <td>0.03</td>\n",
       "      <td>0.0</td>\n",
       "      <td>0.0</td>\n",
       "      <td>40.0</td>\n",
       "      <td>33.0</td>\n",
       "      <td>36.5</td>\n",
       "    </tr>\n",
       "  </tbody>\n",
       "</table>\n",
       "<p>5 rows × 22 columns</p>\n",
       "</div>"
      ],
      "text/plain": [
       "   Unnamed: 0.1  year  month  day  hour  num_calls  BRONX  BROOKLYN  \\\n",
       "0             0  2010      1    1     1        347     60        80   \n",
       "1             1  2010      1    1     2        318     75        83   \n",
       "2             2  2010      1    1     3        262     63        62   \n",
       "3             3  2010      1    1     4        281     63        69   \n",
       "4             4  2010      1    1     5        201     55        55   \n",
       "\n",
       "   MANHATTAN  QUEENS  ...      STATION                         NAME  \\\n",
       "0        153      45  ...  USW00094728  NY CITY CENTRAL PARK, NY US   \n",
       "1         93      58  ...  USW00094728  NY CITY CENTRAL PARK, NY US   \n",
       "2         85      45  ...  USW00094728  NY CITY CENTRAL PARK, NY US   \n",
       "3         90      52  ...  USW00094728  NY CITY CENTRAL PARK, NY US   \n",
       "4         48      39  ...  USW00094728  NY CITY CENTRAL PARK, NY US   \n",
       "\n",
       "         DATE  AWND  PRCP  SNOW  SNWD  TMAX  TMIN  TAVG_CALC  \n",
       "0  2010-01-01  3.36  0.03   0.0   0.0  40.0  33.0       36.5  \n",
       "1  2010-01-01  3.36  0.03   0.0   0.0  40.0  33.0       36.5  \n",
       "2  2010-01-01  3.36  0.03   0.0   0.0  40.0  33.0       36.5  \n",
       "3  2010-01-01  3.36  0.03   0.0   0.0  40.0  33.0       36.5  \n",
       "4  2010-01-01  3.36  0.03   0.0   0.0  40.0  33.0       36.5  \n",
       "\n",
       "[5 rows x 22 columns]"
      ]
     },
     "execution_count": 41,
     "metadata": {},
     "output_type": "execute_result"
    }
   ],
   "source": [
    "new_df.head()"
   ]
  },
  {
   "cell_type": "markdown",
   "metadata": {},
   "source": [
    "SAVE NEW MERGED DATA:"
   ]
  },
  {
   "cell_type": "code",
   "execution_count": 42,
   "metadata": {},
   "outputs": [],
   "source": [
    "new_df.to_csv('./data/hourlycounts_weather.csv')"
   ]
  },
  {
   "cell_type": "markdown",
   "metadata": {},
   "source": [
    "EDA:"
   ]
  },
  {
   "cell_type": "code",
   "execution_count": 43,
   "metadata": {},
   "outputs": [],
   "source": [
    "import matplotlib.pyplot as plt\n",
    "import seaborn as sns\n"
   ]
  },
  {
   "cell_type": "code",
   "execution_count": 44,
   "metadata": {},
   "outputs": [
    {
     "data": {
      "image/png": "[encoded data removed]",
      "text/plain": [
       "<Figure size 432x288 with 1 Axes>"
      ]
     },
     "metadata": {
      "needs_background": "light"
     },
     "output_type": "display_data"
    }
   ],
   "source": [
    "plt.scatter(new_df['month'],new_df['num_calls']);"
   ]
  },
  {
   "cell_type": "markdown",
   "metadata": {},
   "source": [
    "The relationship between month and call volume is messy. Let's clean it up a bit:"
   ]
  },
  {
   "cell_type": "code",
   "execution_count": 45,
   "metadata": {},
   "outputs": [
    {
     "data": {
      "text/plain": [
       "(12,)"
      ]
     },
     "execution_count": 45,
     "metadata": {},
     "output_type": "execute_result"
    }
   ],
   "source": [
    "chk = new_df.groupby('month')['num_calls'].sum()\n",
    "chk.shape"
   ]
  },
  {
   "cell_type": "code",
   "execution_count": 46,
   "metadata": {},
   "outputs": [
    {
     "data": {
      "image/png": "[encoded data removed]",
      "text/plain": [
       "<Figure size 432x288 with 1 Axes>"
      ]
     },
     "metadata": {
      "needs_background": "light"
     },
     "output_type": "display_data"
    }
   ],
   "source": [
    "plt.plot(chk);"
   ]
  },
  {
   "cell_type": "markdown",
   "metadata": {},
   "source": [
    "Which features are most important?"
   ]
  },
  {
   "cell_type": "code",
   "execution_count": 47,
   "metadata": {},
   "outputs": [
    {
     "data": {
      "text/plain": [
       "Unnamed: 0.1                0.213306\n",
       "year                        0.211975\n",
       "month                       0.024806\n",
       "day                        -0.025615\n",
       "hour                        0.588059\n",
       "num_calls                   1.000000\n",
       "BRONX                       0.896584\n",
       "BROOKLYN                    0.918724\n",
       "MANHATTAN                   0.907948\n",
       "QUEENS                      0.879657\n",
       "RICHMOND / STATEN ISLAND    0.624136\n",
       "UNKNOWN                     0.001204\n",
       "AWND                       -0.094331\n",
       "PRCP                       -0.014071\n",
       "SNOW                       -0.016506\n",
       "SNWD                       -0.028409\n",
       "TMAX                        0.103907\n",
       "TMIN                        0.099909\n",
       "TAVG_CALC                   0.103021\n",
       "Name: num_calls, dtype: float64"
      ]
     },
     "execution_count": 47,
     "metadata": {},
     "output_type": "execute_result"
    }
   ],
   "source": [
    "new_df.corr()['num_calls']"
   ]
  },
  {
   "cell_type": "markdown",
   "metadata": {},
   "source": [
    "Correlations are not high, but that doesn't mean there's no relationship -- probably they are not linear."
   ]
  },
  {
   "cell_type": "code",
   "execution_count": 48,
   "metadata": {},
   "outputs": [
    {
     "data": {
      "image/png": "[encoded data removed]",
      "text/plain": [
       "<Figure size 432x288 with 1 Axes>"
      ]
     },
     "metadata": {
      "needs_background": "light"
     },
     "output_type": "display_data"
    }
   ],
   "source": [
    "chk0 = new_df['TMAX'].unique()\n",
    "chk0.sort()\n",
    "chk1 = new_df.groupby('TMAX')['num_calls'].mean()\n",
    "plt.scatter(chk0,chk1);\n",
    "plt.xlabel('MAX DAILY TEMP');\n",
    "plt.ylabel('AVERAGE NUMBER OF CALLS');\n",
    "\n",
    "# Call volume vs. Max temperature is definitely non-linear\n",
    "\n",
    "# (calls can spike on either extreme)"
   ]
  },
  {
   "cell_type": "code",
   "execution_count": 49,
   "metadata": {},
   "outputs": [
    {
     "data": {
      "image/png": "[encoded data removed]",
      "text/plain": [
       "<Figure size 432x288 with 1 Axes>"
      ]
     },
     "metadata": {
      "needs_background": "light"
     },
     "output_type": "display_data"
    }
   ],
   "source": [
    "chk0 = new_df['hour'].unique()\n",
    "chk0.sort()\n",
    "chk1 = new_df.groupby('hour')['num_calls'].mean()\n",
    "plt.scatter(chk0,chk1);\n",
    "plt.xlabel('HOUR');\n",
    "plt.ylabel('AVERAGE NUMBER OF CALLS');\n",
    "\n",
    "# So is Call volume vs. Hour (more calls in daytime, fewer at night)"
   ]
  },
  {
   "cell_type": "markdown",
   "metadata": {},
   "source": [
    "Linear modeling will likely require polynomial features."
   ]
  },
  {
   "cell_type": "code",
   "execution_count": 50,
   "metadata": {},
   "outputs": [
    {
     "name": "stdout",
     "output_type": "stream",
     "text": [
      "<class 'pandas.core.frame.DataFrame'>\n",
      "Int64Index: 87631 entries, 0 to 87630\n",
      "Data columns (total 22 columns):\n",
      " #   Column                    Non-Null Count  Dtype  \n",
      "---  ------                    --------------  -----  \n",
      " 0   Unnamed: 0.1              87631 non-null  int64  \n",
      " 1   year                      87631 non-null  int64  \n",
      " 2   month                     87631 non-null  int64  \n",
      " 3   day                       87631 non-null  int64  \n",
      " 4   hour                      87631 non-null  int64  \n",
      " 5   num_calls                 87631 non-null  int64  \n",
      " 6   BRONX                     87631 non-null  int64  \n",
      " 7   BROOKLYN                  87631 non-null  int64  \n",
      " 8   MANHATTAN                 87631 non-null  int64  \n",
      " 9   QUEENS                    87631 non-null  int64  \n",
      " 10  RICHMOND / STATEN ISLAND  87631 non-null  int64  \n",
      " 11  UNKNOWN                   87631 non-null  int64  \n",
      " 12  STATION                   87631 non-null  object \n",
      " 13  NAME                      87631 non-null  object \n",
      " 14  DATE                      87631 non-null  object \n",
      " 15  AWND                      83336 non-null  float64\n",
      " 16  PRCP                      87631 non-null  float64\n",
      " 17  SNOW                      87631 non-null  float64\n",
      " 18  SNWD                      87631 non-null  float64\n",
      " 19  TMAX                      87631 non-null  float64\n",
      " 20  TMIN                      87631 non-null  float64\n",
      " 21  TAVG_CALC                 87631 non-null  float64\n",
      "dtypes: float64(7), int64(12), object(3)\n",
      "memory usage: 15.4+ MB\n"
     ]
    }
   ],
   "source": [
    "# Check for NULLS:\n",
    "\n",
    "new_df.info()"
   ]
  },
  {
   "cell_type": "markdown",
   "metadata": {},
   "source": [
    "Once again wind has a lot of nulls -- as a first pass we will probably drop this column."
   ]
  },
  {
   "cell_type": "code",
   "execution_count": null,
   "metadata": {},
   "outputs": [],
   "source": []
  },
  {
   "cell_type": "code",
   "execution_count": null,
   "metadata": {},
   "outputs": [],
   "source": []
  }
 ],
 "metadata": {
  "kernelspec": {
   "display_name": "Python 3",
   "language": "python",
   "name": "python3"
  },
  "language_info": {
   "codemirror_mode": {
    "name": "ipython",
    "version": 3
   },
   "file_extension": ".py",
   "mimetype": "text/x-python",
   "name": "python",
   "nbconvert_exporter": "python",
   "pygments_lexer": "ipython3",
   "version": "3.8.5"
  }
 },
 "nbformat": 4,
 "nbformat_minor": 5
}
