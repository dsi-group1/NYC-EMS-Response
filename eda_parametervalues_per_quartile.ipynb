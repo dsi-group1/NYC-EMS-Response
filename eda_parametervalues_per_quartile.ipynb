{
 "cells": [
  {
   "cell_type": "code",
   "execution_count": 1,
   "metadata": {},
   "outputs": [],
   "source": [
    "import numpy as np\n",
    "import pandas as pd\n",
    "import matplotlib.pyplot as plt\n",
    "import seaborn as sns\n"
   ]
  },
  {
   "cell_type": "markdown",
   "metadata": {},
   "source": [
    "EDA - Which parameter values correspond with higher or lower values of call volume?\n"
   ]
  },
  {
   "cell_type": "code",
   "execution_count": 5,
   "metadata": {},
   "outputs": [],
   "source": [
    "df = pd.read_csv('~/Desktop/calls_weather_tfk.csv')\n"
   ]
  },
  {
   "cell_type": "code",
   "execution_count": 7,
   "metadata": {},
   "outputs": [
    {
     "data": {
      "text/plain": [
       "count    25465.000000\n",
       "mean       136.328569\n",
       "std         54.236394\n",
       "min          3.000000\n",
       "25%         88.000000\n",
       "50%        128.000000\n",
       "75%        184.000000\n",
       "max        429.000000\n",
       "Name: num_calls, dtype: float64"
      ]
     },
     "execution_count": 7,
     "metadata": {},
     "output_type": "execute_result"
    }
   ],
   "source": [
    "df['num_calls'].describe()"
   ]
  },
  {
   "cell_type": "markdown",
   "metadata": {},
   "source": [
    "The quartiles are: 3-88 calls, 89-128 calls, 129-184 calls, and 184-429 calls."
   ]
  },
  {
   "cell_type": "code",
   "execution_count": 8,
   "metadata": {},
   "outputs": [],
   "source": [
    "calls = list(df['num_calls'])\n",
    "quartiles = []\n",
    "for c in calls:\n",
    "    if c<=88:    quartiles.append(1)\n",
    "    elif c<=128: quartiles.append(2)\n",
    "    elif c<=184: quartiles.append(3)\n",
    "    elif c<=429: quartiles.append(4)\n",
    "df['quartile'] = quartiles"
   ]
  },
  {
   "cell_type": "code",
   "execution_count": 79,
   "metadata": {},
   "outputs": [
    {
     "data": {
      "text/html": [
       "<div>\n",
       "<style scoped>\n",
       "    .dataframe tbody tr th:only-of-type {\n",
       "        vertical-align: middle;\n",
       "    }\n",
       "\n",
       "    .dataframe tbody tr th {\n",
       "        vertical-align: top;\n",
       "    }\n",
       "\n",
       "    .dataframe thead th {\n",
       "        text-align: right;\n",
       "    }\n",
       "</style>\n",
       "<table border=\"1\" class=\"dataframe\">\n",
       "  <thead>\n",
       "    <tr style=\"text-align: right;\">\n",
       "      <th></th>\n",
       "      <th>num_calls</th>\n",
       "      <th>hour</th>\n",
       "      <th>TAVG_CALC</th>\n",
       "      <th>Incidences</th>\n",
       "      <th>day</th>\n",
       "      <th>month</th>\n",
       "      <th>PRCP</th>\n",
       "      <th>SNWD</th>\n",
       "      <th>SNOW</th>\n",
       "    </tr>\n",
       "  </thead>\n",
       "  <tbody>\n",
       "    <tr>\n",
       "      <th>count</th>\n",
       "      <td>6586.000000</td>\n",
       "      <td>6586.000000</td>\n",
       "      <td>6586.000000</td>\n",
       "      <td>6586.000000</td>\n",
       "      <td>6586.000000</td>\n",
       "      <td>6586.000000</td>\n",
       "      <td>6586.000000</td>\n",
       "      <td>6586.000000</td>\n",
       "      <td>6586.000000</td>\n",
       "    </tr>\n",
       "    <tr>\n",
       "      <th>mean</th>\n",
       "      <td>73.295172</td>\n",
       "      <td>4.279836</td>\n",
       "      <td>56.067340</td>\n",
       "      <td>5.566657</td>\n",
       "      <td>15.877467</td>\n",
       "      <td>6.492104</td>\n",
       "      <td>0.144763</td>\n",
       "      <td>0.433556</td>\n",
       "      <td>0.088415</td>\n",
       "    </tr>\n",
       "    <tr>\n",
       "      <th>std</th>\n",
       "      <td>9.722077</td>\n",
       "      <td>1.551410</td>\n",
       "      <td>16.545269</td>\n",
       "      <td>4.129808</td>\n",
       "      <td>8.730941</td>\n",
       "      <td>3.417186</td>\n",
       "      <td>0.420715</td>\n",
       "      <td>2.135681</td>\n",
       "      <td>0.866570</td>\n",
       "    </tr>\n",
       "    <tr>\n",
       "      <th>min</th>\n",
       "      <td>3.000000</td>\n",
       "      <td>1.000000</td>\n",
       "      <td>7.000000</td>\n",
       "      <td>1.000000</td>\n",
       "      <td>1.000000</td>\n",
       "      <td>1.000000</td>\n",
       "      <td>0.000000</td>\n",
       "      <td>0.000000</td>\n",
       "      <td>0.000000</td>\n",
       "    </tr>\n",
       "    <tr>\n",
       "      <th>25%</th>\n",
       "      <td>66.000000</td>\n",
       "      <td>3.000000</td>\n",
       "      <td>43.000000</td>\n",
       "      <td>3.000000</td>\n",
       "      <td>8.000000</td>\n",
       "      <td>4.000000</td>\n",
       "      <td>0.000000</td>\n",
       "      <td>0.000000</td>\n",
       "      <td>0.000000</td>\n",
       "    </tr>\n",
       "    <tr>\n",
       "      <th>50%</th>\n",
       "      <td>74.000000</td>\n",
       "      <td>4.000000</td>\n",
       "      <td>57.000000</td>\n",
       "      <td>5.000000</td>\n",
       "      <td>16.000000</td>\n",
       "      <td>6.000000</td>\n",
       "      <td>0.000000</td>\n",
       "      <td>0.000000</td>\n",
       "      <td>0.000000</td>\n",
       "    </tr>\n",
       "    <tr>\n",
       "      <th>75%</th>\n",
       "      <td>81.000000</td>\n",
       "      <td>6.000000</td>\n",
       "      <td>70.000000</td>\n",
       "      <td>7.000000</td>\n",
       "      <td>23.000000</td>\n",
       "      <td>10.000000</td>\n",
       "      <td>0.050000</td>\n",
       "      <td>0.000000</td>\n",
       "      <td>0.000000</td>\n",
       "    </tr>\n",
       "    <tr>\n",
       "      <th>max</th>\n",
       "      <td>88.000000</td>\n",
       "      <td>11.000000</td>\n",
       "      <td>94.000000</td>\n",
       "      <td>34.000000</td>\n",
       "      <td>31.000000</td>\n",
       "      <td>12.000000</td>\n",
       "      <td>5.810000</td>\n",
       "      <td>23.000000</td>\n",
       "      <td>27.300000</td>\n",
       "    </tr>\n",
       "  </tbody>\n",
       "</table>\n",
       "</div>"
      ],
      "text/plain": [
       "         num_calls         hour    TAVG_CALC   Incidences          day  \\\n",
       "count  6586.000000  6586.000000  6586.000000  6586.000000  6586.000000   \n",
       "mean     73.295172     4.279836    56.067340     5.566657    15.877467   \n",
       "std       9.722077     1.551410    16.545269     4.129808     8.730941   \n",
       "min       3.000000     1.000000     7.000000     1.000000     1.000000   \n",
       "25%      66.000000     3.000000    43.000000     3.000000     8.000000   \n",
       "50%      74.000000     4.000000    57.000000     5.000000    16.000000   \n",
       "75%      81.000000     6.000000    70.000000     7.000000    23.000000   \n",
       "max      88.000000    11.000000    94.000000    34.000000    31.000000   \n",
       "\n",
       "             month         PRCP         SNWD         SNOW  \n",
       "count  6586.000000  6586.000000  6586.000000  6586.000000  \n",
       "mean      6.492104     0.144763     0.433556     0.088415  \n",
       "std       3.417186     0.420715     2.135681     0.866570  \n",
       "min       1.000000     0.000000     0.000000     0.000000  \n",
       "25%       4.000000     0.000000     0.000000     0.000000  \n",
       "50%       6.000000     0.000000     0.000000     0.000000  \n",
       "75%      10.000000     0.050000     0.000000     0.000000  \n",
       "max      12.000000     5.810000    23.000000    27.300000  "
      ]
     },
     "execution_count": 79,
     "metadata": {},
     "output_type": "execute_result"
    }
   ],
   "source": [
    "cols = ['num_calls', 'hour', 'TAVG_CALC', 'Incidences', 'day', 'month', 'PRCP', 'SNWD', 'SNOW']\n",
    "df[df['quartile']==1][cols].describe()"
   ]
  },
  {
   "cell_type": "code",
   "execution_count": 80,
   "metadata": {},
   "outputs": [
    {
     "data": {
      "text/html": [
       "<div>\n",
       "<style scoped>\n",
       "    .dataframe tbody tr th:only-of-type {\n",
       "        vertical-align: middle;\n",
       "    }\n",
       "\n",
       "    .dataframe tbody tr th {\n",
       "        vertical-align: top;\n",
       "    }\n",
       "\n",
       "    .dataframe thead tr th {\n",
       "        text-align: left;\n",
       "    }\n",
       "\n",
       "    .dataframe thead tr:last-of-type th {\n",
       "        text-align: right;\n",
       "    }\n",
       "</style>\n",
       "<table border=\"1\" class=\"dataframe\">\n",
       "  <thead>\n",
       "    <tr>\n",
       "      <th></th>\n",
       "      <th colspan=\"8\" halign=\"left\">num_calls</th>\n",
       "    </tr>\n",
       "    <tr>\n",
       "      <th></th>\n",
       "      <th>count</th>\n",
       "      <th>mean</th>\n",
       "      <th>std</th>\n",
       "      <th>min</th>\n",
       "      <th>25%</th>\n",
       "      <th>50%</th>\n",
       "      <th>75%</th>\n",
       "      <th>max</th>\n",
       "    </tr>\n",
       "    <tr>\n",
       "      <th>quartile</th>\n",
       "      <th></th>\n",
       "      <th></th>\n",
       "      <th></th>\n",
       "      <th></th>\n",
       "      <th></th>\n",
       "      <th></th>\n",
       "      <th></th>\n",
       "      <th></th>\n",
       "    </tr>\n",
       "  </thead>\n",
       "  <tbody>\n",
       "    <tr>\n",
       "      <th>1</th>\n",
       "      <td>6586.0</td>\n",
       "      <td>73.295172</td>\n",
       "      <td>9.722077</td>\n",
       "      <td>3.0</td>\n",
       "      <td>66.0</td>\n",
       "      <td>74.0</td>\n",
       "      <td>81.0</td>\n",
       "      <td>88.0</td>\n",
       "    </tr>\n",
       "    <tr>\n",
       "      <th>2</th>\n",
       "      <td>6195.0</td>\n",
       "      <td>106.184019</td>\n",
       "      <td>11.551448</td>\n",
       "      <td>89.0</td>\n",
       "      <td>96.0</td>\n",
       "      <td>105.0</td>\n",
       "      <td>116.0</td>\n",
       "      <td>128.0</td>\n",
       "    </tr>\n",
       "    <tr>\n",
       "      <th>3</th>\n",
       "      <td>6318.0</td>\n",
       "      <td>157.022159</td>\n",
       "      <td>16.438751</td>\n",
       "      <td>129.0</td>\n",
       "      <td>143.0</td>\n",
       "      <td>157.0</td>\n",
       "      <td>172.0</td>\n",
       "      <td>184.0</td>\n",
       "    </tr>\n",
       "    <tr>\n",
       "      <th>4</th>\n",
       "      <td>6366.0</td>\n",
       "      <td>210.337575</td>\n",
       "      <td>19.326652</td>\n",
       "      <td>185.0</td>\n",
       "      <td>195.0</td>\n",
       "      <td>207.0</td>\n",
       "      <td>222.0</td>\n",
       "      <td>429.0</td>\n",
       "    </tr>\n",
       "  </tbody>\n",
       "</table>\n",
       "</div>"
      ],
      "text/plain": [
       "         num_calls                                                          \n",
       "             count        mean        std    min    25%    50%    75%    max\n",
       "quartile                                                                    \n",
       "1           6586.0   73.295172   9.722077    3.0   66.0   74.0   81.0   88.0\n",
       "2           6195.0  106.184019  11.551448   89.0   96.0  105.0  116.0  128.0\n",
       "3           6318.0  157.022159  16.438751  129.0  143.0  157.0  172.0  184.0\n",
       "4           6366.0  210.337575  19.326652  185.0  195.0  207.0  222.0  429.0"
      ]
     },
     "execution_count": 80,
     "metadata": {},
     "output_type": "execute_result"
    }
   ],
   "source": [
    "df.groupby('quartile')[['num_calls']].describe()"
   ]
  },
  {
   "cell_type": "code",
   "execution_count": 78,
   "metadata": {},
   "outputs": [
    {
     "name": "stdout",
     "output_type": "stream",
     "text": [
      "Averages for each quartile of call volume:\n"
     ]
    },
    {
     "data": {
      "text/html": [
       "<div>\n",
       "<style scoped>\n",
       "    .dataframe tbody tr th:only-of-type {\n",
       "        vertical-align: middle;\n",
       "    }\n",
       "\n",
       "    .dataframe tbody tr th {\n",
       "        vertical-align: top;\n",
       "    }\n",
       "\n",
       "    .dataframe thead th {\n",
       "        text-align: right;\n",
       "    }\n",
       "</style>\n",
       "<table border=\"1\" class=\"dataframe\">\n",
       "  <thead>\n",
       "    <tr style=\"text-align: right;\">\n",
       "      <th></th>\n",
       "      <th>hour</th>\n",
       "      <th>temperature</th>\n",
       "      <th>traffic incidents</th>\n",
       "      <th>day</th>\n",
       "      <th>month</th>\n",
       "      <th>precipitation</th>\n",
       "      <th>snow depth</th>\n",
       "      <th>snowfall</th>\n",
       "    </tr>\n",
       "    <tr>\n",
       "      <th>quartile</th>\n",
       "      <th></th>\n",
       "      <th></th>\n",
       "      <th></th>\n",
       "      <th></th>\n",
       "      <th></th>\n",
       "      <th></th>\n",
       "      <th></th>\n",
       "      <th></th>\n",
       "    </tr>\n",
       "  </thead>\n",
       "  <tbody>\n",
       "    <tr>\n",
       "      <th>1</th>\n",
       "      <td>4.279836</td>\n",
       "      <td>56.067340</td>\n",
       "      <td>5.566657</td>\n",
       "      <td>15.877467</td>\n",
       "      <td>6.492104</td>\n",
       "      <td>0.144763</td>\n",
       "      <td>0.433556</td>\n",
       "      <td>0.088415</td>\n",
       "    </tr>\n",
       "    <tr>\n",
       "      <th>2</th>\n",
       "      <td>4.732688</td>\n",
       "      <td>59.072881</td>\n",
       "      <td>4.718805</td>\n",
       "      <td>15.779500</td>\n",
       "      <td>6.614689</td>\n",
       "      <td>0.127019</td>\n",
       "      <td>0.356158</td>\n",
       "      <td>0.073801</td>\n",
       "    </tr>\n",
       "    <tr>\n",
       "      <th>3</th>\n",
       "      <td>9.344096</td>\n",
       "      <td>57.874802</td>\n",
       "      <td>6.286800</td>\n",
       "      <td>15.829218</td>\n",
       "      <td>6.252770</td>\n",
       "      <td>0.137167</td>\n",
       "      <td>0.365654</td>\n",
       "      <td>0.092308</td>\n",
       "    </tr>\n",
       "    <tr>\n",
       "      <th>4</th>\n",
       "      <td>12.408420</td>\n",
       "      <td>59.448790</td>\n",
       "      <td>10.153629</td>\n",
       "      <td>15.304430</td>\n",
       "      <td>5.989161</td>\n",
       "      <td>0.126588</td>\n",
       "      <td>0.453063</td>\n",
       "      <td>0.093230</td>\n",
       "    </tr>\n",
       "  </tbody>\n",
       "</table>\n",
       "</div>"
      ],
      "text/plain": [
       "               hour  temperature  traffic incidents        day     month  \\\n",
       "quartile                                                                   \n",
       "1          4.279836    56.067340           5.566657  15.877467  6.492104   \n",
       "2          4.732688    59.072881           4.718805  15.779500  6.614689   \n",
       "3          9.344096    57.874802           6.286800  15.829218  6.252770   \n",
       "4         12.408420    59.448790          10.153629  15.304430  5.989161   \n",
       "\n",
       "          precipitation  snow depth  snowfall  \n",
       "quartile                                       \n",
       "1              0.144763    0.433556  0.088415  \n",
       "2              0.127019    0.356158  0.073801  \n",
       "3              0.137167    0.365654  0.092308  \n",
       "4              0.126588    0.453063  0.093230  "
      ]
     },
     "execution_count": 78,
     "metadata": {},
     "output_type": "execute_result"
    }
   ],
   "source": [
    "chk = df.groupby('quartile')[cols].mean()\n",
    "chk.columns = ['hour', 'temperature', 'traffic incidents', 'day', 'month', 'precipitation', 'snow depth', 'snowfall']\n",
    "print('Averages for each quartile of call volume:')\n",
    "chk"
   ]
  },
  {
   "cell_type": "code",
   "execution_count": 120,
   "metadata": {},
   "outputs": [
    {
     "data": {
      "image/png": "[encoded data removed]",
      "text/plain": [
       "<Figure size 864x360 with 2 Axes>"
      ]
     },
     "metadata": {
      "needs_background": "light"
     },
     "output_type": "display_data"
    }
   ],
   "source": [
    "fig = plt.figure(figsize=(12,5));\n",
    "ax = fig.add_subplot(121);\n",
    "sns.barplot(x=df['quartile'], y=df['hour'], ci=None);\n",
    "plt.xlabel('Quartile of Call Volume');\n",
    "plt.ylabel('Average Hour of the Day');\n",
    "ax = fig.add_subplot(122);\n",
    "sns.barplot(x=df['quartile'], y=df['Incidences'], ci=None);\n",
    "plt.xlabel('Quartile of Call Volume');\n",
    "plt.ylabel('Average # of Traffic Incidents');\n"
   ]
  },
  {
   "cell_type": "code",
   "execution_count": 117,
   "metadata": {},
   "outputs": [],
   "source": [
    "temps = list(df['TAVG_CALC'])\n",
    "quartiles = []\n",
    "for c in temps:\n",
    "    if c<=45:     quartiles.append(1)\n",
    "    elif c<=59.5: quartiles.append(2)\n",
    "    elif c<=73:   quartiles.append(3)\n",
    "    elif c<=94:   quartiles.append(4)\n",
    "df['temperature quartile'] = quartiles"
   ]
  },
  {
   "cell_type": "code",
   "execution_count": 118,
   "metadata": {},
   "outputs": [
    {
     "data": {
      "image/png": "[encoded data removed]",
      "text/plain": [
       "<Figure size 864x360 with 2 Axes>"
      ]
     },
     "metadata": {
      "needs_background": "light"
     },
     "output_type": "display_data"
    }
   ],
   "source": [
    "fig = plt.figure(figsize=(12,5));\n",
    "ax = fig.add_subplot(121);\n",
    "temp_quartile_calls = np.array(df.groupby('temperature quartile')['num_calls'].mean())-130\n",
    "sns.barplot(x=['7-45', '45-59.5', '59.5-73', '73-94'], y=temp_quartile_calls, ci=None);\n",
    "plt.xlabel('Average Temperature (F)');\n",
    "plt.yticks([0, 5, 10, 15], labels=[130, 135, 140, 145]);\n",
    "plt.title('AVERAGE NUMBER OF CALLS');\n",
    "\n",
    "ax = fig.add_subplot(122);\n",
    "temp_quartile_calls = np.array(df.groupby('temperature quartile')['num_calls'].std())-53\n",
    "sns.barplot(x=['7-45', '45-59.5', '59.5-73', '73-94'], y=temp_quartile_calls, ci=None);\n",
    "plt.xlabel('Average Temperature (F)');\n",
    "plt.yticks([0, 0.5, 1, 1.5], labels=[53, 53.5, 54, 54.5]);\n",
    "plt.title('STD. DEV. OF NUMBER OF CALLS');\n"
   ]
  },
  {
   "cell_type": "code",
   "execution_count": 90,
   "metadata": {},
   "outputs": [
    {
     "data": {
      "image/png": "[encoded data removed]",
      "text/plain": [
       "<Figure size 432x288 with 1 Axes>"
      ]
     },
     "metadata": {
      "needs_background": "light"
     },
     "output_type": "display_data"
    }
   ],
   "source": [
    "chk0 = df['TAVG_CALC'].unique()\n",
    "chk0.sort()\n",
    "chk1 = df.groupby('TAVG_CALC')['num_calls'].mean()\n",
    "plt.scatter(chk0,chk1);\n",
    "plt.xlabel('AVG DAILY TEMP');\n",
    "plt.ylabel('AVERAGE NUMBER OF CALLS');\n"
   ]
  },
  {
   "cell_type": "code",
   "execution_count": null,
   "metadata": {},
   "outputs": [],
   "source": []
  }
 ],
 "metadata": {
  "kernelspec": {
   "display_name": "Python 3",
   "language": "python",
   "name": "python3"
  },
  "language_info": {
   "codemirror_mode": {
    "name": "ipython",
    "version": 3
   },
   "file_extension": ".py",
   "mimetype": "text/x-python",
   "name": "python",
   "nbconvert_exporter": "python",
   "pygments_lexer": "ipython3",
   "version": "3.8.5"
  }
 },
 "nbformat": 4,
 "nbformat_minor": 5
}
