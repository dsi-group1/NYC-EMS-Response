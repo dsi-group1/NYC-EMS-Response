{
 "cells": [
  {
   "cell_type": "code",
   "execution_count": 35,
   "metadata": {},
   "outputs": [],
   "source": [
    "import pandas as pd\n",
    "import numpy as np\n",
    "import matplotlib.pyplot as plt\n",
    "import seaborn as sns\n",
    "from math import sqrt\n",
    "\n",
    "from sklearn.model_selection import train_test_split\n",
    "from sklearn.linear_model import LinearRegression, Lasso, Ridge\n",
    "from sklearn.preprocessing import StandardScaler\n",
    "from sklearn.ensemble import BaggingRegressor, RandomForestRegressor\n",
    "from sklearn.metrics import r2_score, mean_squared_error\n",
    "\n",
    "from tensorflow.keras.models import Sequential\n",
    "from tensorflow.keras.layers import Dense, Dropout\n",
    "from tensorflow.keras.regularizers import l2\n",
    "from tensorflow.keras.callbacks import EarlyStopping"
   ]
  },
  {
   "cell_type": "code",
   "execution_count": 36,
   "metadata": {},
   "outputs": [],
   "source": [
    "df = pd.read_csv('../data/final_calls_weather_tfk.csv')"
   ]
  },
  {
   "cell_type": "code",
   "execution_count": 37,
   "metadata": {
    "jupyter": {
     "source_hidden": true
    }
   },
   "outputs": [],
   "source": [
    "# NOTE: features[N:M] actually is features[N] through features [M-1] -- it's non-inclusive\n",
    "\n",
    "# features[0]       --- 'CAD_INCIDENT_ID'                                            ---- DROP (only an index)\n",
    "# features[1]       --- 'INITIAL_SEVERITY_LEVEL_CODE'\n",
    "# features[2]       --- 'FINAL_SEVERITY_LEVEL_CODE'\n",
    "# features[3]       --- 'FIRST_ASSIGNMENT_DATETIME'                                  ---- DROP\n",
    "# features[4]       --- 'VALID_DISPATCH_RSPNS_TIME_INDC' \n",
    "# features[5]       --- 'DISPATCH_RESPONSE_SECONDS_QY'                               ---- DROP\n",
    "# features[6]       --- 'FIRST_ACTIVATION_DATETIME' \n",
    "# features[7]       --- 'VALID_INCIDENT_RSPNS_TIME_INDC'\n",
    "# features[8]       --- 'INCIDENT_RESPONSE_SECONDS_QY'                               ------> y\n",
    "# features[9]       --- 'INCIDENT_TRAVEL_TM_SECONDS_QY'\n",
    "# features[10]      --- 'INCIDENT_CLOSE_DATETIME' \n",
    "# features[11]      --- 'HELD_INDICATOR' \n",
    "# features[12]      --- 'REOPEN_INDICATOR'\n",
    "# features[13]      --- 'SPECIAL_EVENT_INDICATOR' \n",
    "# features[14]      --- 'STANDBY_INDICATOR'\n",
    "# features[15]      --- 'TRANSFER_INDICATOR'\n",
    "# features[16:96]   --- 'INITIAL_CALL_TYPE' dummies\n",
    "# features[96:186]  --- 'FINAL_CALL_TYPE' dummies\n",
    "# features[186:195] --- 'INCIDENT_DISPOSITION_CODE' dummies\n",
    "# features[195:198] --- 'BOROUGH' dummies\n",
    "# features[198:230] --- 'INCIDENT_DISPATCH_AREA' dummies\n",
    "# features[230:594] --- 'ZIPCODE' dummies\n",
    "# features[594:670] --- 'POLICEPRECINCT' dummies\n",
    "# features[670:720] --- 'CITYCOUNCILDISTRICT' dummies\n",
    "# features[720:788] --- 'COMMUNITYDISTRICT' dummies\n",
    "# features[788:819] --- 'COMMUNITYSCHOOLDISTRICT' dummies\n",
    "# features[829:831] --- 'CONGRESSIONALDISTRICT' dummies\n",
    "# features[831]     --- 'CALL_YEAR'\n",
    "# features[832]     --- 'CALL_DAY'\n",
    "# features[833]     --- 'CALL_TIME'\n",
    "# features[834]     --- 'CALL_UTC'\n",
    "# features[835:846] --- 'CALL_MONTH' dummies\n",
    "# features[846]     --- 'CALL_MONTH' (numeric)\n",
    "# features[847]     --- 'AWIND'\n",
    "# features[848]     --- 'PRCP'\n",
    "# features[849]     --- 'SNOW'\n",
    "# features[850]     --- 'SNWD'\n",
    "# features[851]     --- 'TMAX'\n",
    "# features[852]     --- 'TMIN'\n",
    "# features[853]     --- 'TAVG_CALC'"
   ]
  },
  {
   "cell_type": "code",
   "execution_count": 38,
   "metadata": {},
   "outputs": [
    {
     "data": {
      "text/plain": [
       "count    25465.000000\n",
       "mean       136.328569\n",
       "std         54.236394\n",
       "min          3.000000\n",
       "25%         88.000000\n",
       "50%        128.000000\n",
       "75%        184.000000\n",
       "max        429.000000\n",
       "Name: num_calls, dtype: float64"
      ]
     },
     "execution_count": 38,
     "metadata": {},
     "output_type": "execute_result"
    }
   ],
   "source": [
    "df['num_calls'].describe()"
   ]
  },
  {
   "cell_type": "code",
   "execution_count": 39,
   "metadata": {},
   "outputs": [
    {
     "data": {
      "text/plain": [
       "Index(['Unnamed: 0', 'Unnamed: 0.1', 'year', 'month', 'day', 'hour',\n",
       "       'num_calls', 'BRONX', 'BROOKLYN', 'MANHATTAN', 'QUEENS',\n",
       "       'RICHMOND / STATEN ISLAND', 'UNKNOWN', 'STATION', 'NAME', 'DATE',\n",
       "       'AWND', 'PRCP', 'SNOW', 'SNWD', 'TMAX', 'TMIN', 'TAVG_CALC',\n",
       "       'Traffic Incidents'],\n",
       "      dtype='object')"
      ]
     },
     "execution_count": 39,
     "metadata": {},
     "output_type": "execute_result"
    }
   ],
   "source": [
    "df.columns"
   ]
  },
  {
   "cell_type": "code",
   "execution_count": 40,
   "metadata": {},
   "outputs": [],
   "source": [
    "# Clean Data and Remove features that would outright count up to the total number of calls\n",
    "features = ['Unnamed: 0', 'Unnamed: 0.1', 'BRONX', 'BROOKLYN', 'MANHATTAN', 'QUEENS', \n",
    "            'RICHMOND / STATEN ISLAND', 'UNKNOWN', 'NAME', 'num_calls', 'DATE']\n",
    "\n",
    "\n",
    "X = df.drop(columns= features)\n",
    "\n",
    "X = X.fillna(X['AWND'].mean())\n",
    "\n",
    "X = pd.get_dummies(data = X, columns = ['STATION'], drop_first = True)\n",
    "\n",
    "y = df['num_calls']\n",
    "\n",
    "X_train, X_test, y_train, y_test = train_test_split(X, y, random_state = 42)"
   ]
  },
  {
   "cell_type": "code",
   "execution_count": 41,
   "metadata": {},
   "outputs": [
    {
     "data": {
      "text/plain": [
       "Index(['year', 'month', 'day', 'hour', 'AWND', 'PRCP', 'SNOW', 'SNWD', 'TMAX',\n",
       "       'TMIN', 'TAVG_CALC', 'Traffic Incidents'],\n",
       "      dtype='object')"
      ]
     },
     "execution_count": 41,
     "metadata": {},
     "output_type": "execute_result"
    }
   ],
   "source": [
    "X.columns"
   ]
  },
  {
   "cell_type": "code",
   "execution_count": 42,
   "metadata": {},
   "outputs": [],
   "source": [
    "# scaling data\n",
    "sc = StandardScaler()\n",
    "\n",
    "X_train_sc = sc.fit_transform(X_train)\n",
    "X_test_sc = sc.transform(X_test)"
   ]
  },
  {
   "cell_type": "code",
   "execution_count": 43,
   "metadata": {},
   "outputs": [],
   "source": [
    "X = X.fillna(X['AWND'].mean())"
   ]
  },
  {
   "cell_type": "code",
   "execution_count": 44,
   "metadata": {},
   "outputs": [
    {
     "name": "stdout",
     "output_type": "stream",
     "text": [
      "Training: 0.5144276829337519\n",
      "Testing: 0.5188483809790554\n"
     ]
    }
   ],
   "source": [
    "# linear regression is go to for modelling since it is the simplest in this case\n",
    "linreg = LinearRegression()\n",
    "\n",
    "linreg.fit(X_train_sc, y_train)\n",
    "\n",
    "print(f'Training: {linreg.score(X_train_sc, y_train)}')\n",
    "print(f'Testing: {linreg.score(X_test_sc, y_test)}')"
   ]
  },
  {
   "cell_type": "markdown",
   "metadata": {},
   "source": [
    "This does not seem likely, not sure yet why this is the result but there is definitely something not quite right here."
   ]
  },
  {
   "cell_type": "code",
   "execution_count": 45,
   "metadata": {},
   "outputs": [
    {
     "name": "stdout",
     "output_type": "stream",
     "text": [
      "Training: 0.5120454233455058\n",
      "Testing: 0.5163948752009309\n"
     ]
    }
   ],
   "source": [
    "lasso = Lasso(max_iter = 10_000)\n",
    "\n",
    "lasso.fit(X_train_sc, y_train)\n",
    "\n",
    "print(f'Training: {lasso.score(X_train_sc, y_train)}')\n",
    "print(f'Testing: {lasso.score(X_test_sc, y_test)}')"
   ]
  },
  {
   "cell_type": "code",
   "execution_count": 46,
   "metadata": {},
   "outputs": [
    {
     "name": "stdout",
     "output_type": "stream",
     "text": [
      "Training: 0.5144276816478912\n",
      "Testing: 0.5188484599641534\n"
     ]
    }
   ],
   "source": [
    "ridge = Ridge()\n",
    "\n",
    "ridge.fit(X_train_sc, y_train)\n",
    "\n",
    "print(f'Training: {ridge.score(X_train_sc, y_train)}')\n",
    "print(f'Testing: {ridge.score(X_test_sc, y_test)}')"
   ]
  },
  {
   "cell_type": "markdown",
   "metadata": {},
   "source": [
    "**I realized the issue here.  Left in a lot of data that was used to create our new dependent variable.  This has been corrected more or less.**"
   ]
  },
  {
   "cell_type": "markdown",
   "metadata": {},
   "source": [
    "### **Neural Nets: Predicting Call Volumes**"
   ]
  },
  {
   "cell_type": "code",
   "execution_count": 47,
   "metadata": {},
   "outputs": [
    {
     "data": {
      "text/plain": [
       "(19098, 12)"
      ]
     },
     "execution_count": 47,
     "metadata": {},
     "output_type": "execute_result"
    }
   ],
   "source": [
    "X_train_sc.shape"
   ]
  },
  {
   "cell_type": "code",
   "execution_count": 48,
   "metadata": {
    "collapsed": true,
    "jupyter": {
     "outputs_hidden": true
    }
   },
   "outputs": [
    {
     "name": "stdout",
     "output_type": "stream",
     "text": [
      "Epoch 1/250\n",
      "191/191 [==============================] - 1s 3ms/step - loss: 13364.7992 - mae: 97.2732 - val_loss: 1867.4083 - val_mae: 34.3947\n",
      "Epoch 2/250\n",
      "191/191 [==============================] - 0s 2ms/step - loss: 1729.0116 - mae: 33.1219 - val_loss: 1540.7322 - val_mae: 31.4156\n",
      "Epoch 3/250\n",
      "191/191 [==============================] - 0s 2ms/step - loss: 1540.0927 - mae: 31.0258 - val_loss: 1377.6001 - val_mae: 29.6936\n",
      "Epoch 4/250\n",
      "191/191 [==============================] - 0s 2ms/step - loss: 1380.4523 - mae: 29.3440 - val_loss: 1208.0341 - val_mae: 27.6213\n",
      "Epoch 5/250\n",
      "191/191 [==============================] - 0s 2ms/step - loss: 1156.7756 - mae: 26.8369 - val_loss: 951.9470 - val_mae: 24.2269\n",
      "Epoch 6/250\n",
      "191/191 [==============================] - 0s 2ms/step - loss: 882.1051 - mae: 23.1614 - val_loss: 677.9046 - val_mae: 20.3166\n",
      "Epoch 7/250\n",
      "191/191 [==============================] - 0s 2ms/step - loss: 654.5568 - mae: 19.8745 - val_loss: 603.5363 - val_mae: 18.7212\n",
      "Epoch 8/250\n",
      "191/191 [==============================] - 0s 2ms/step - loss: 598.4790 - mae: 18.7138 - val_loss: 564.5815 - val_mae: 18.3441\n",
      "Epoch 9/250\n",
      "191/191 [==============================] - 0s 2ms/step - loss: 567.1586 - mae: 18.3566 - val_loss: 552.4608 - val_mae: 17.9662\n",
      "Epoch 10/250\n",
      "191/191 [==============================] - 0s 2ms/step - loss: 573.8193 - mae: 18.3674 - val_loss: 540.7748 - val_mae: 17.8514\n",
      "Epoch 11/250\n",
      "191/191 [==============================] - 0s 2ms/step - loss: 552.0783 - mae: 17.9690 - val_loss: 538.1838 - val_mae: 17.8264\n",
      "Epoch 12/250\n",
      "191/191 [==============================] - 0s 2ms/step - loss: 550.7340 - mae: 18.0051 - val_loss: 526.9356 - val_mae: 17.5420\n",
      "Epoch 13/250\n",
      "191/191 [==============================] - 0s 2ms/step - loss: 562.8618 - mae: 18.0837 - val_loss: 525.9844 - val_mae: 17.4478\n",
      "Epoch 14/250\n",
      "191/191 [==============================] - 0s 2ms/step - loss: 558.7879 - mae: 17.8475 - val_loss: 519.7847 - val_mae: 17.5613\n",
      "Epoch 15/250\n",
      "191/191 [==============================] - 0s 2ms/step - loss: 522.5029 - mae: 17.5966 - val_loss: 520.8530 - val_mae: 17.3879\n",
      "Epoch 16/250\n",
      "191/191 [==============================] - 0s 2ms/step - loss: 535.0095 - mae: 17.6815 - val_loss: 517.1758 - val_mae: 17.3512\n",
      "Epoch 17/250\n",
      "191/191 [==============================] - 0s 2ms/step - loss: 523.7357 - mae: 17.4460 - val_loss: 512.8272 - val_mae: 17.2769\n",
      "Epoch 18/250\n",
      "191/191 [==============================] - 0s 2ms/step - loss: 524.6591 - mae: 17.4804 - val_loss: 511.8543 - val_mae: 17.2598\n",
      "Epoch 19/250\n",
      "191/191 [==============================] - 0s 2ms/step - loss: 518.1267 - mae: 17.3712 - val_loss: 515.2817 - val_mae: 17.6331\n",
      "Epoch 20/250\n",
      "191/191 [==============================] - 0s 2ms/step - loss: 520.6709 - mae: 17.4466 - val_loss: 517.4263 - val_mae: 17.5146\n",
      "Epoch 21/250\n",
      "191/191 [==============================] - 0s 2ms/step - loss: 548.7995 - mae: 17.6880 - val_loss: 510.5954 - val_mae: 17.2695\n",
      "Epoch 22/250\n",
      "191/191 [==============================] - 0s 2ms/step - loss: 501.1952 - mae: 17.3167 - val_loss: 506.9568 - val_mae: 17.1715\n",
      "Epoch 23/250\n",
      "191/191 [==============================] - 0s 2ms/step - loss: 512.0713 - mae: 17.3739 - val_loss: 512.3693 - val_mae: 17.3052\n",
      "Epoch 24/250\n",
      "191/191 [==============================] - 0s 2ms/step - loss: 539.2592 - mae: 17.6162 - val_loss: 521.9028 - val_mae: 17.2070\n",
      "Epoch 25/250\n",
      "191/191 [==============================] - 0s 2ms/step - loss: 526.3824 - mae: 17.3876 - val_loss: 505.2448 - val_mae: 17.1356\n",
      "Epoch 26/250\n",
      "191/191 [==============================] - 0s 2ms/step - loss: 534.4528 - mae: 17.3693 - val_loss: 505.1987 - val_mae: 17.1117\n",
      "Epoch 27/250\n",
      "191/191 [==============================] - 0s 2ms/step - loss: 503.6841 - mae: 17.0743 - val_loss: 509.5093 - val_mae: 17.1194\n",
      "Epoch 28/250\n",
      "191/191 [==============================] - 0s 2ms/step - loss: 498.6938 - mae: 17.0751 - val_loss: 516.7435 - val_mae: 17.3870\n",
      "Epoch 29/250\n",
      "191/191 [==============================] - 0s 2ms/step - loss: 535.8887 - mae: 17.4494 - val_loss: 507.0620 - val_mae: 17.2630\n",
      "Epoch 30/250\n",
      "191/191 [==============================] - 0s 2ms/step - loss: 497.2184 - mae: 17.0269 - val_loss: 519.9515 - val_mae: 17.7044\n",
      "Epoch 31/250\n",
      "191/191 [==============================] - 0s 2ms/step - loss: 517.3101 - mae: 17.3094 - val_loss: 500.2043 - val_mae: 17.1718\n",
      "Epoch 32/250\n",
      "191/191 [==============================] - 0s 2ms/step - loss: 495.6214 - mae: 17.0570 - val_loss: 498.5366 - val_mae: 17.1066\n",
      "Epoch 33/250\n",
      "191/191 [==============================] - 0s 2ms/step - loss: 507.8287 - mae: 17.0986 - val_loss: 515.5000 - val_mae: 17.5630\n",
      "Epoch 34/250\n",
      "191/191 [==============================] - 0s 2ms/step - loss: 507.9397 - mae: 17.2207 - val_loss: 500.5132 - val_mae: 17.0586\n",
      "Epoch 35/250\n",
      "191/191 [==============================] - 0s 2ms/step - loss: 509.3271 - mae: 17.2019 - val_loss: 503.3254 - val_mae: 16.8884\n",
      "Epoch 36/250\n",
      "191/191 [==============================] - 0s 2ms/step - loss: 510.3462 - mae: 17.1015 - val_loss: 498.1990 - val_mae: 17.0094\n",
      "Epoch 37/250\n",
      "191/191 [==============================] - 0s 2ms/step - loss: 517.1130 - mae: 17.2343 - val_loss: 499.2603 - val_mae: 16.9442\n",
      "Epoch 38/250\n",
      "191/191 [==============================] - 0s 2ms/step - loss: 488.7868 - mae: 16.8734 - val_loss: 499.2213 - val_mae: 17.0283\n",
      "Epoch 39/250\n",
      "191/191 [==============================] - 0s 2ms/step - loss: 516.1975 - mae: 17.1554 - val_loss: 498.8863 - val_mae: 17.0692\n",
      "Epoch 40/250\n",
      "191/191 [==============================] - 0s 2ms/step - loss: 485.6183 - mae: 16.9900 - val_loss: 498.2309 - val_mae: 16.9798\n",
      "Epoch 41/250\n",
      "191/191 [==============================] - 0s 2ms/step - loss: 502.8216 - mae: 17.1193 - val_loss: 504.1632 - val_mae: 17.0530\n",
      "Epoch 42/250\n",
      "191/191 [==============================] - 0s 2ms/step - loss: 503.8120 - mae: 17.0912 - val_loss: 502.7564 - val_mae: 16.9586\n",
      "Epoch 43/250\n",
      "191/191 [==============================] - 0s 2ms/step - loss: 495.3539 - mae: 16.9941 - val_loss: 504.5967 - val_mae: 17.1983\n",
      "Epoch 44/250\n",
      "191/191 [==============================] - 0s 2ms/step - loss: 494.2433 - mae: 16.9726 - val_loss: 501.6748 - val_mae: 17.0996\n",
      "Epoch 45/250\n",
      "191/191 [==============================] - 0s 2ms/step - loss: 507.9289 - mae: 17.0606 - val_loss: 502.1725 - val_mae: 17.1915\n",
      "Epoch 46/250\n",
      "191/191 [==============================] - 0s 2ms/step - loss: 510.9508 - mae: 17.0337 - val_loss: 503.9727 - val_mae: 17.1424\n",
      "Epoch 47/250\n",
      "191/191 [==============================] - 0s 2ms/step - loss: 483.5600 - mae: 16.9587 - val_loss: 511.9633 - val_mae: 17.6418\n",
      "Epoch 48/250\n",
      "191/191 [==============================] - 0s 2ms/step - loss: 483.8457 - mae: 16.9415 - val_loss: 494.3386 - val_mae: 16.9428\n",
      "Epoch 49/250\n",
      "191/191 [==============================] - 0s 2ms/step - loss: 482.5318 - mae: 16.7008 - val_loss: 503.6686 - val_mae: 17.0963\n",
      "Epoch 50/250\n",
      "191/191 [==============================] - 0s 2ms/step - loss: 483.6924 - mae: 16.9835 - val_loss: 502.3062 - val_mae: 16.8739\n",
      "Epoch 51/250\n",
      "191/191 [==============================] - 0s 2ms/step - loss: 491.8935 - mae: 16.8725 - val_loss: 492.0695 - val_mae: 16.9265\n",
      "Epoch 52/250\n",
      "191/191 [==============================] - 0s 2ms/step - loss: 489.1326 - mae: 16.8428 - val_loss: 497.6453 - val_mae: 16.8400\n",
      "Epoch 53/250\n",
      "191/191 [==============================] - 0s 2ms/step - loss: 499.2431 - mae: 16.9766 - val_loss: 491.5316 - val_mae: 16.8594\n",
      "Epoch 54/250\n",
      "191/191 [==============================] - 0s 2ms/step - loss: 496.9686 - mae: 17.0021 - val_loss: 501.5848 - val_mae: 17.0471\n",
      "Epoch 55/250\n",
      "191/191 [==============================] - 0s 2ms/step - loss: 507.1633 - mae: 17.1573 - val_loss: 501.4160 - val_mae: 17.0215\n",
      "Epoch 56/250\n",
      "191/191 [==============================] - 0s 2ms/step - loss: 471.5943 - mae: 16.6539 - val_loss: 503.4285 - val_mae: 17.2033\n",
      "Epoch 57/250\n",
      "191/191 [==============================] - 0s 2ms/step - loss: 484.8457 - mae: 16.8006 - val_loss: 498.0172 - val_mae: 17.1379\n",
      "Epoch 58/250\n",
      "191/191 [==============================] - 0s 2ms/step - loss: 498.3267 - mae: 16.8237 - val_loss: 494.7939 - val_mae: 16.8994\n",
      "Epoch 59/250\n",
      "191/191 [==============================] - 0s 2ms/step - loss: 487.5913 - mae: 16.9174 - val_loss: 493.0438 - val_mae: 17.0333\n",
      "Epoch 60/250\n",
      "191/191 [==============================] - 0s 2ms/step - loss: 490.8237 - mae: 16.8880 - val_loss: 504.3005 - val_mae: 17.1876\n",
      "Epoch 61/250\n",
      "191/191 [==============================] - 1s 5ms/step - loss: 478.2821 - mae: 16.7051 - val_loss: 492.2595 - val_mae: 16.9219\n",
      "Epoch 62/250\n",
      "191/191 [==============================] - 1s 3ms/step - loss: 496.0162 - mae: 16.8990 - val_loss: 492.4071 - val_mae: 16.9035\n",
      "Epoch 63/250\n",
      "191/191 [==============================] - 1s 3ms/step - loss: 484.0269 - mae: 16.9029 - val_loss: 503.9081 - val_mae: 17.2515\n",
      "Epoch 64/250\n",
      "191/191 [==============================] - 0s 3ms/step - loss: 471.4339 - mae: 16.6604 - val_loss: 490.4834 - val_mae: 16.9939\n",
      "Epoch 65/250\n",
      "191/191 [==============================] - 0s 2ms/step - loss: 482.1752 - mae: 16.6433 - val_loss: 493.6579 - val_mae: 17.0889\n",
      "Epoch 66/250\n",
      "191/191 [==============================] - 0s 2ms/step - loss: 478.6647 - mae: 16.7275 - val_loss: 500.2404 - val_mae: 17.2373\n",
      "Epoch 67/250\n",
      "191/191 [==============================] - 1s 3ms/step - loss: 473.4077 - mae: 16.7524 - val_loss: 507.1978 - val_mae: 17.4085\n",
      "Epoch 68/250\n",
      "191/191 [==============================] - 1s 3ms/step - loss: 486.6299 - mae: 16.7238 - val_loss: 499.6959 - val_mae: 17.0400\n",
      "Epoch 69/250\n",
      "191/191 [==============================] - 0s 2ms/step - loss: 492.1834 - mae: 16.8511 - val_loss: 493.7168 - val_mae: 17.0191\n",
      "Epoch 70/250\n",
      "191/191 [==============================] - 0s 2ms/step - loss: 458.1787 - mae: 16.4230 - val_loss: 505.9492 - val_mae: 17.3536\n",
      "Epoch 71/250\n",
      "191/191 [==============================] - 0s 2ms/step - loss: 474.0794 - mae: 16.5605 - val_loss: 488.1582 - val_mae: 16.7886\n",
      "Epoch 72/250\n",
      "191/191 [==============================] - 0s 2ms/step - loss: 474.5870 - mae: 16.6986 - val_loss: 503.3914 - val_mae: 17.3117\n",
      "Epoch 73/250\n",
      "191/191 [==============================] - 0s 3ms/step - loss: 468.8368 - mae: 16.6078 - val_loss: 490.9712 - val_mae: 16.9428\n",
      "Epoch 74/250\n",
      "191/191 [==============================] - 0s 2ms/step - loss: 484.0219 - mae: 16.6349 - val_loss: 488.5519 - val_mae: 16.9893\n",
      "Epoch 75/250\n",
      "191/191 [==============================] - 0s 2ms/step - loss: 468.7091 - mae: 16.5907 - val_loss: 500.1869 - val_mae: 17.1470\n",
      "Epoch 76/250\n",
      "191/191 [==============================] - 0s 2ms/step - loss: 481.8393 - mae: 16.6797 - val_loss: 490.7952 - val_mae: 16.8581\n",
      "Epoch 77/250\n",
      "191/191 [==============================] - 0s 2ms/step - loss: 481.0432 - mae: 16.5928 - val_loss: 505.2773 - val_mae: 17.1412\n",
      "Epoch 78/250\n",
      "191/191 [==============================] - 0s 2ms/step - loss: 490.5207 - mae: 16.8781 - val_loss: 501.0245 - val_mae: 17.1785\n",
      "Epoch 79/250\n",
      "191/191 [==============================] - 0s 2ms/step - loss: 473.1371 - mae: 16.5594 - val_loss: 489.4051 - val_mae: 16.7857\n",
      "Epoch 80/250\n",
      "191/191 [==============================] - 0s 2ms/step - loss: 500.3387 - mae: 16.8896 - val_loss: 496.9651 - val_mae: 17.0416\n",
      "Epoch 81/250\n",
      "191/191 [==============================] - 0s 2ms/step - loss: 461.7241 - mae: 16.5369 - val_loss: 488.1247 - val_mae: 16.9484\n",
      "Epoch 82/250\n",
      "191/191 [==============================] - 0s 2ms/step - loss: 459.2826 - mae: 16.5485 - val_loss: 485.5757 - val_mae: 16.7569\n",
      "Epoch 83/250\n",
      "191/191 [==============================] - 0s 2ms/step - loss: 481.9856 - mae: 16.5437 - val_loss: 491.4978 - val_mae: 16.7002\n",
      "Epoch 84/250\n",
      "191/191 [==============================] - 0s 3ms/step - loss: 461.5691 - mae: 16.4752 - val_loss: 505.8367 - val_mae: 17.4275\n",
      "Epoch 85/250\n",
      "191/191 [==============================] - 0s 3ms/step - loss: 461.7599 - mae: 16.4381 - val_loss: 496.5376 - val_mae: 17.0902\n",
      "Epoch 86/250\n",
      "191/191 [==============================] - 0s 2ms/step - loss: 469.2515 - mae: 16.6652 - val_loss: 487.3144 - val_mae: 16.7826\n",
      "Epoch 87/250\n",
      "191/191 [==============================] - 1s 3ms/step - loss: 476.5967 - mae: 16.5354 - val_loss: 501.9675 - val_mae: 17.0954\n",
      "Epoch 88/250\n",
      "191/191 [==============================] - 0s 2ms/step - loss: 465.8778 - mae: 16.5299 - val_loss: 496.6230 - val_mae: 16.9396\n",
      "Epoch 89/250\n",
      "191/191 [==============================] - 0s 2ms/step - loss: 463.8793 - mae: 16.5485 - val_loss: 504.2532 - val_mae: 17.4075\n",
      "Epoch 90/250\n",
      "191/191 [==============================] - 0s 2ms/step - loss: 462.7845 - mae: 16.4097 - val_loss: 492.5886 - val_mae: 16.8077\n",
      "Epoch 91/250\n",
      "191/191 [==============================] - 0s 2ms/step - loss: 468.8769 - mae: 16.5483 - val_loss: 487.4704 - val_mae: 16.9119\n",
      "Epoch 92/250\n",
      "191/191 [==============================] - 0s 2ms/step - loss: 473.2367 - mae: 16.5511 - val_loss: 489.0440 - val_mae: 16.8371\n",
      "Epoch 93/250\n",
      "191/191 [==============================] - 0s 2ms/step - loss: 459.9135 - mae: 16.4433 - val_loss: 491.6644 - val_mae: 16.9385\n",
      "Epoch 94/250\n",
      "191/191 [==============================] - 0s 2ms/step - loss: 456.5166 - mae: 16.3549 - val_loss: 485.1889 - val_mae: 16.7502\n",
      "Epoch 95/250\n",
      "191/191 [==============================] - 1s 3ms/step - loss: 451.9213 - mae: 16.2087 - val_loss: 489.4315 - val_mae: 16.9497\n",
      "Epoch 96/250\n",
      "191/191 [==============================] - 0s 2ms/step - loss: 461.3075 - mae: 16.4073 - val_loss: 500.6782 - val_mae: 17.2387\n",
      "Epoch 97/250\n",
      "191/191 [==============================] - 0s 2ms/step - loss: 468.8897 - mae: 16.5461 - val_loss: 514.5368 - val_mae: 17.5613\n",
      "Epoch 98/250\n",
      "191/191 [==============================] - 0s 2ms/step - loss: 467.6969 - mae: 16.5681 - val_loss: 491.3958 - val_mae: 17.0033\n",
      "Epoch 99/250\n",
      "191/191 [==============================] - 0s 2ms/step - loss: 474.2421 - mae: 16.4945 - val_loss: 490.9735 - val_mae: 17.0648\n",
      "Epoch 100/250\n",
      "191/191 [==============================] - 0s 2ms/step - loss: 469.1692 - mae: 16.5588 - val_loss: 485.7155 - val_mae: 16.8598\n",
      "Epoch 101/250\n",
      "191/191 [==============================] - 0s 2ms/step - loss: 481.4991 - mae: 16.5855 - val_loss: 505.3315 - val_mae: 17.2121\n",
      "Epoch 102/250\n",
      "191/191 [==============================] - 0s 2ms/step - loss: 472.2774 - mae: 16.4827 - val_loss: 490.1944 - val_mae: 16.8760\n",
      "Epoch 103/250\n",
      "191/191 [==============================] - 0s 2ms/step - loss: 466.2966 - mae: 16.3421 - val_loss: 484.6960 - val_mae: 16.9848\n",
      "Epoch 104/250\n",
      "191/191 [==============================] - 0s 2ms/step - loss: 467.6818 - mae: 16.4694 - val_loss: 514.6546 - val_mae: 17.1401\n",
      "Epoch 105/250\n",
      "191/191 [==============================] - 0s 2ms/step - loss: 463.5002 - mae: 16.4911 - val_loss: 488.9660 - val_mae: 16.6623\n",
      "Epoch 106/250\n",
      "191/191 [==============================] - 0s 2ms/step - loss: 470.5688 - mae: 16.3466 - val_loss: 492.1631 - val_mae: 16.8543\n",
      "Epoch 107/250\n",
      "191/191 [==============================] - 0s 2ms/step - loss: 480.6037 - mae: 16.4764 - val_loss: 490.5541 - val_mae: 16.7403\n",
      "Epoch 108/250\n",
      "191/191 [==============================] - 0s 2ms/step - loss: 471.1667 - mae: 16.4625 - val_loss: 483.0913 - val_mae: 16.9032\n",
      "Epoch 109/250\n",
      "191/191 [==============================] - 0s 2ms/step - loss: 457.3780 - mae: 16.4304 - val_loss: 488.2387 - val_mae: 16.9144\n",
      "Epoch 110/250\n",
      "191/191 [==============================] - 0s 2ms/step - loss: 462.9245 - mae: 16.3938 - val_loss: 487.6490 - val_mae: 16.8354\n",
      "Epoch 111/250\n",
      "191/191 [==============================] - 0s 2ms/step - loss: 443.2279 - mae: 16.1254 - val_loss: 507.0720 - val_mae: 17.3288\n",
      "Epoch 112/250\n",
      "191/191 [==============================] - 0s 2ms/step - loss: 464.3297 - mae: 16.3875 - val_loss: 484.3126 - val_mae: 16.9164\n",
      "Epoch 113/250\n",
      "191/191 [==============================] - 0s 2ms/step - loss: 448.7791 - mae: 16.2813 - val_loss: 491.4381 - val_mae: 17.1498\n",
      "Epoch 114/250\n",
      "191/191 [==============================] - 0s 2ms/step - loss: 446.1505 - mae: 16.1895 - val_loss: 492.8210 - val_mae: 17.0507\n",
      "Epoch 115/250\n",
      "191/191 [==============================] - 0s 2ms/step - loss: 457.7561 - mae: 16.1858 - val_loss: 494.0284 - val_mae: 17.1523\n",
      "Epoch 116/250\n",
      "191/191 [==============================] - 0s 2ms/step - loss: 453.6789 - mae: 16.2272 - val_loss: 497.9312 - val_mae: 17.2349\n",
      "Epoch 117/250\n",
      "191/191 [==============================] - 1s 3ms/step - loss: 456.0927 - mae: 16.2972 - val_loss: 490.7180 - val_mae: 16.8495\n",
      "Epoch 118/250\n",
      "191/191 [==============================] - 1s 3ms/step - loss: 446.4088 - mae: 16.1464 - val_loss: 492.5514 - val_mae: 17.2135\n",
      "Epoch 119/250\n",
      "191/191 [==============================] - 0s 3ms/step - loss: 449.5355 - mae: 16.2160 - val_loss: 510.5341 - val_mae: 17.2718\n",
      "Epoch 120/250\n",
      "191/191 [==============================] - 1s 3ms/step - loss: 454.5608 - mae: 16.3193 - val_loss: 493.1397 - val_mae: 16.9033\n",
      "Epoch 121/250\n",
      "191/191 [==============================] - 1s 3ms/step - loss: 465.0987 - mae: 16.4147 - val_loss: 485.4333 - val_mae: 16.8543\n",
      "Epoch 122/250\n",
      "191/191 [==============================] - 1s 3ms/step - loss: 447.7217 - mae: 16.0922 - val_loss: 483.0154 - val_mae: 16.7407\n",
      "Epoch 123/250\n",
      "191/191 [==============================] - 1s 3ms/step - loss: 450.4233 - mae: 16.2641 - val_loss: 480.0862 - val_mae: 16.7768\n",
      "Epoch 124/250\n",
      "191/191 [==============================] - 1s 3ms/step - loss: 463.5523 - mae: 16.3059 - val_loss: 496.1143 - val_mae: 17.2504\n",
      "Epoch 125/250\n",
      "191/191 [==============================] - 0s 2ms/step - loss: 465.4822 - mae: 16.4772 - val_loss: 482.8897 - val_mae: 16.7250\n",
      "Epoch 126/250\n",
      "191/191 [==============================] - 0s 2ms/step - loss: 448.3838 - mae: 16.1495 - val_loss: 508.6343 - val_mae: 17.4640\n",
      "Epoch 127/250\n",
      "191/191 [==============================] - 0s 2ms/step - loss: 457.6452 - mae: 16.4287 - val_loss: 485.1446 - val_mae: 16.8047\n",
      "Epoch 128/250\n",
      "191/191 [==============================] - 0s 2ms/step - loss: 452.3190 - mae: 16.2261 - val_loss: 484.7556 - val_mae: 16.8198\n",
      "Epoch 129/250\n",
      "191/191 [==============================] - 0s 2ms/step - loss: 450.4419 - mae: 16.1687 - val_loss: 482.5928 - val_mae: 16.7183\n",
      "Epoch 130/250\n",
      "191/191 [==============================] - 0s 2ms/step - loss: 438.3006 - mae: 16.0656 - val_loss: 481.3736 - val_mae: 16.7624\n",
      "Epoch 131/250\n",
      "191/191 [==============================] - 0s 2ms/step - loss: 443.1172 - mae: 16.1419 - val_loss: 482.6033 - val_mae: 16.9616\n",
      "Epoch 132/250\n",
      "191/191 [==============================] - 0s 2ms/step - loss: 458.7473 - mae: 16.2360 - val_loss: 481.2867 - val_mae: 16.7682\n",
      "Epoch 133/250\n",
      "191/191 [==============================] - 0s 2ms/step - loss: 443.3665 - mae: 16.0897 - val_loss: 488.7398 - val_mae: 17.0057\n",
      "Epoch 134/250\n",
      "191/191 [==============================] - 0s 2ms/step - loss: 455.7351 - mae: 16.3540 - val_loss: 480.8919 - val_mae: 16.9039\n",
      "Epoch 135/250\n",
      "191/191 [==============================] - 0s 2ms/step - loss: 458.9766 - mae: 16.1405 - val_loss: 490.5015 - val_mae: 16.8682\n",
      "Epoch 136/250\n",
      "191/191 [==============================] - 0s 2ms/step - loss: 442.8193 - mae: 16.1147 - val_loss: 505.2830 - val_mae: 17.4967\n",
      "Epoch 137/250\n",
      "191/191 [==============================] - 0s 2ms/step - loss: 459.8782 - mae: 16.3617 - val_loss: 486.3386 - val_mae: 16.9126\n",
      "Epoch 138/250\n",
      "191/191 [==============================] - 0s 2ms/step - loss: 452.4635 - mae: 16.2246 - val_loss: 488.5879 - val_mae: 16.9166\n",
      "Epoch 139/250\n",
      "191/191 [==============================] - 0s 2ms/step - loss: 433.9905 - mae: 15.8735 - val_loss: 487.6388 - val_mae: 16.8556\n",
      "Epoch 140/250\n",
      "191/191 [==============================] - 0s 2ms/step - loss: 456.6181 - mae: 16.1820 - val_loss: 497.1522 - val_mae: 16.9873\n",
      "Epoch 141/250\n",
      "191/191 [==============================] - 0s 2ms/step - loss: 457.1156 - mae: 16.1366 - val_loss: 477.8057 - val_mae: 16.7579\n",
      "Epoch 142/250\n",
      "191/191 [==============================] - 0s 2ms/step - loss: 438.9196 - mae: 16.1016 - val_loss: 482.8994 - val_mae: 16.8021\n",
      "Epoch 143/250\n",
      "191/191 [==============================] - 0s 2ms/step - loss: 434.2423 - mae: 15.9756 - val_loss: 480.9272 - val_mae: 17.0268\n",
      "Epoch 144/250\n",
      "191/191 [==============================] - 0s 2ms/step - loss: 440.7356 - mae: 15.9964 - val_loss: 482.9359 - val_mae: 16.6379\n",
      "Epoch 145/250\n",
      "191/191 [==============================] - 0s 2ms/step - loss: 440.2947 - mae: 16.1659 - val_loss: 486.6246 - val_mae: 16.7845\n",
      "Epoch 146/250\n",
      "191/191 [==============================] - 0s 2ms/step - loss: 432.7496 - mae: 15.9963 - val_loss: 483.5568 - val_mae: 16.7433\n",
      "Epoch 147/250\n",
      "191/191 [==============================] - 0s 2ms/step - loss: 429.4008 - mae: 15.9095 - val_loss: 480.4159 - val_mae: 16.8751\n",
      "Epoch 148/250\n",
      "191/191 [==============================] - 0s 2ms/step - loss: 441.7320 - mae: 16.0560 - val_loss: 483.3821 - val_mae: 16.8106\n",
      "Epoch 149/250\n",
      "191/191 [==============================] - 0s 2ms/step - loss: 440.7193 - mae: 15.9716 - val_loss: 482.3188 - val_mae: 16.7398\n",
      "Epoch 150/250\n",
      "191/191 [==============================] - 0s 2ms/step - loss: 435.6527 - mae: 15.9266 - val_loss: 489.1652 - val_mae: 17.0218\n",
      "Epoch 151/250\n",
      "191/191 [==============================] - 0s 2ms/step - loss: 450.5554 - mae: 16.2352 - val_loss: 484.9726 - val_mae: 16.7889\n",
      "Epoch 152/250\n",
      "191/191 [==============================] - 0s 2ms/step - loss: 435.2550 - mae: 15.9244 - val_loss: 480.1750 - val_mae: 16.8292\n",
      "Epoch 153/250\n",
      "191/191 [==============================] - 0s 2ms/step - loss: 457.8787 - mae: 16.0629 - val_loss: 480.5579 - val_mae: 16.7664\n",
      "Epoch 154/250\n",
      "191/191 [==============================] - 0s 2ms/step - loss: 448.7822 - mae: 16.0607 - val_loss: 480.6586 - val_mae: 16.7919\n",
      "Epoch 155/250\n",
      "191/191 [==============================] - 0s 2ms/step - loss: 440.1059 - mae: 15.9606 - val_loss: 473.8696 - val_mae: 16.6397\n",
      "Epoch 156/250\n",
      "191/191 [==============================] - 0s 2ms/step - loss: 432.8486 - mae: 15.9262 - val_loss: 496.8823 - val_mae: 17.1777\n",
      "Epoch 157/250\n",
      "191/191 [==============================] - 0s 2ms/step - loss: 439.5241 - mae: 15.9812 - val_loss: 480.4321 - val_mae: 17.0034\n",
      "Epoch 158/250\n",
      "191/191 [==============================] - 0s 2ms/step - loss: 440.9634 - mae: 16.0220 - val_loss: 482.1344 - val_mae: 16.8666\n",
      "Epoch 159/250\n",
      "191/191 [==============================] - 0s 2ms/step - loss: 430.5236 - mae: 15.9240 - val_loss: 481.4426 - val_mae: 16.8341\n",
      "Epoch 160/250\n",
      "191/191 [==============================] - 0s 2ms/step - loss: 438.4235 - mae: 15.8780 - val_loss: 485.6284 - val_mae: 16.7487\n",
      "Epoch 161/250\n",
      "191/191 [==============================] - 0s 2ms/step - loss: 447.6646 - mae: 16.0116 - val_loss: 477.6061 - val_mae: 16.8721\n",
      "Epoch 162/250\n",
      "191/191 [==============================] - 0s 2ms/step - loss: 442.8625 - mae: 16.0060 - val_loss: 487.8953 - val_mae: 17.1406\n",
      "Epoch 163/250\n",
      "191/191 [==============================] - 0s 2ms/step - loss: 427.0104 - mae: 15.8749 - val_loss: 483.3915 - val_mae: 16.7079\n",
      "Epoch 164/250\n",
      "191/191 [==============================] - 0s 2ms/step - loss: 447.3213 - mae: 16.0298 - val_loss: 486.1891 - val_mae: 16.9049\n",
      "Epoch 165/250\n",
      "191/191 [==============================] - 0s 2ms/step - loss: 431.8378 - mae: 15.8132 - val_loss: 479.1063 - val_mae: 16.7042\n",
      "Epoch 166/250\n",
      "191/191 [==============================] - 0s 2ms/step - loss: 413.5822 - mae: 15.6403 - val_loss: 478.4160 - val_mae: 16.8742\n",
      "Epoch 167/250\n",
      "191/191 [==============================] - 0s 2ms/step - loss: 425.3946 - mae: 15.8496 - val_loss: 477.6555 - val_mae: 16.6616\n",
      "Epoch 168/250\n",
      "191/191 [==============================] - 0s 2ms/step - loss: 430.0482 - mae: 15.6971 - val_loss: 482.6671 - val_mae: 16.8122\n",
      "Epoch 169/250\n",
      "191/191 [==============================] - 0s 2ms/step - loss: 428.3351 - mae: 15.8723 - val_loss: 476.3002 - val_mae: 16.6719\n",
      "Epoch 170/250\n",
      "191/191 [==============================] - 0s 2ms/step - loss: 440.2146 - mae: 16.0621 - val_loss: 483.5804 - val_mae: 16.9869\n",
      "Epoch 171/250\n",
      "191/191 [==============================] - 0s 2ms/step - loss: 412.3317 - mae: 15.6596 - val_loss: 489.8543 - val_mae: 17.1283\n",
      "Epoch 172/250\n",
      "191/191 [==============================] - 0s 2ms/step - loss: 425.1245 - mae: 15.6883 - val_loss: 475.6586 - val_mae: 16.7163\n",
      "Epoch 173/250\n",
      "191/191 [==============================] - 0s 2ms/step - loss: 424.3469 - mae: 15.7523 - val_loss: 475.2270 - val_mae: 16.7222\n",
      "Epoch 174/250\n",
      "191/191 [==============================] - 0s 2ms/step - loss: 421.5008 - mae: 15.7494 - val_loss: 477.0542 - val_mae: 16.8701\n",
      "Epoch 175/250\n",
      "191/191 [==============================] - 0s 2ms/step - loss: 439.9328 - mae: 15.7952 - val_loss: 470.8826 - val_mae: 16.7608\n",
      "Epoch 176/250\n",
      "191/191 [==============================] - 0s 3ms/step - loss: 435.9864 - mae: 15.8960 - val_loss: 477.4319 - val_mae: 16.7055\n",
      "Epoch 177/250\n",
      "191/191 [==============================] - 1s 3ms/step - loss: 422.6722 - mae: 15.6968 - val_loss: 490.4122 - val_mae: 17.1317\n",
      "Epoch 178/250\n",
      "191/191 [==============================] - 0s 2ms/step - loss: 443.1145 - mae: 15.8573 - val_loss: 471.8994 - val_mae: 16.7505\n",
      "Epoch 179/250\n",
      "191/191 [==============================] - 0s 2ms/step - loss: 443.9063 - mae: 15.7746 - val_loss: 474.3022 - val_mae: 16.6676\n",
      "Epoch 180/250\n",
      "191/191 [==============================] - 0s 2ms/step - loss: 429.2419 - mae: 15.7758 - val_loss: 474.5919 - val_mae: 16.6277\n",
      "Epoch 181/250\n",
      "191/191 [==============================] - 0s 2ms/step - loss: 440.4729 - mae: 15.8153 - val_loss: 475.8989 - val_mae: 16.9244\n",
      "Epoch 182/250\n",
      "191/191 [==============================] - 0s 2ms/step - loss: 442.3812 - mae: 15.7622 - val_loss: 480.4822 - val_mae: 16.9637\n",
      "Epoch 183/250\n",
      "191/191 [==============================] - 0s 2ms/step - loss: 419.2026 - mae: 15.7096 - val_loss: 475.5240 - val_mae: 16.8549\n",
      "Epoch 184/250\n",
      "191/191 [==============================] - 0s 2ms/step - loss: 426.4284 - mae: 15.8178 - val_loss: 477.1158 - val_mae: 16.6597\n",
      "Epoch 185/250\n",
      "191/191 [==============================] - 0s 2ms/step - loss: 425.4760 - mae: 15.7859 - val_loss: 471.2390 - val_mae: 16.8121\n",
      "Epoch 186/250\n",
      "191/191 [==============================] - 0s 2ms/step - loss: 412.0620 - mae: 15.5903 - val_loss: 489.5725 - val_mae: 17.1428\n",
      "Epoch 187/250\n",
      "191/191 [==============================] - 0s 2ms/step - loss: 420.8606 - mae: 15.7451 - val_loss: 478.5771 - val_mae: 16.7130\n",
      "Epoch 188/250\n",
      "191/191 [==============================] - 0s 2ms/step - loss: 431.2478 - mae: 15.6427 - val_loss: 484.8531 - val_mae: 17.1250\n",
      "Epoch 189/250\n",
      "191/191 [==============================] - 0s 2ms/step - loss: 417.6655 - mae: 15.7624 - val_loss: 476.0931 - val_mae: 16.9299\n",
      "Epoch 190/250\n",
      "191/191 [==============================] - 0s 2ms/step - loss: 407.3777 - mae: 15.5094 - val_loss: 481.9872 - val_mae: 16.8310\n",
      "Epoch 191/250\n",
      "191/191 [==============================] - 0s 2ms/step - loss: 424.8537 - mae: 15.7924 - val_loss: 475.4699 - val_mae: 16.9127\n",
      "Epoch 192/250\n",
      "191/191 [==============================] - 0s 2ms/step - loss: 422.3075 - mae: 15.6907 - val_loss: 473.2351 - val_mae: 16.7863\n",
      "Epoch 193/250\n",
      "191/191 [==============================] - 0s 2ms/step - loss: 412.6894 - mae: 15.4847 - val_loss: 472.8674 - val_mae: 16.7110\n",
      "Epoch 194/250\n",
      "191/191 [==============================] - 0s 2ms/step - loss: 419.6550 - mae: 15.6925 - val_loss: 468.9687 - val_mae: 16.6890\n",
      "Epoch 195/250\n",
      "191/191 [==============================] - 0s 2ms/step - loss: 420.7108 - mae: 15.7158 - val_loss: 480.9867 - val_mae: 17.1351\n",
      "Epoch 196/250\n",
      "191/191 [==============================] - 0s 2ms/step - loss: 431.4798 - mae: 15.7043 - val_loss: 471.9974 - val_mae: 16.8253\n",
      "Epoch 197/250\n",
      "191/191 [==============================] - 0s 2ms/step - loss: 433.9280 - mae: 15.7362 - val_loss: 487.2274 - val_mae: 17.1058\n",
      "Epoch 198/250\n",
      "191/191 [==============================] - 0s 2ms/step - loss: 414.4750 - mae: 15.4316 - val_loss: 477.5264 - val_mae: 16.8815\n",
      "Epoch 199/250\n",
      "191/191 [==============================] - 0s 2ms/step - loss: 418.4765 - mae: 15.5568 - val_loss: 470.6636 - val_mae: 16.6859\n",
      "Epoch 200/250\n",
      "191/191 [==============================] - 0s 2ms/step - loss: 414.6054 - mae: 15.6010 - val_loss: 477.4562 - val_mae: 17.0416\n",
      "Epoch 201/250\n",
      "191/191 [==============================] - 0s 2ms/step - loss: 418.4520 - mae: 15.5461 - val_loss: 484.2304 - val_mae: 16.9884\n",
      "Epoch 202/250\n",
      "191/191 [==============================] - 0s 2ms/step - loss: 419.8950 - mae: 15.6148 - val_loss: 474.0613 - val_mae: 16.9066\n",
      "Epoch 203/250\n",
      "191/191 [==============================] - 0s 2ms/step - loss: 409.3950 - mae: 15.4109 - val_loss: 474.8463 - val_mae: 16.8109\n",
      "Epoch 204/250\n",
      "191/191 [==============================] - 0s 2ms/step - loss: 407.5750 - mae: 15.4955 - val_loss: 481.8434 - val_mae: 17.1034\n",
      "Epoch 205/250\n",
      "191/191 [==============================] - 0s 2ms/step - loss: 416.6108 - mae: 15.6027 - val_loss: 475.5179 - val_mae: 16.8366\n",
      "Epoch 206/250\n",
      "191/191 [==============================] - 0s 2ms/step - loss: 426.3722 - mae: 15.6767 - val_loss: 467.7029 - val_mae: 16.6426\n",
      "Epoch 207/250\n",
      "191/191 [==============================] - 0s 2ms/step - loss: 417.1775 - mae: 15.5972 - val_loss: 467.8781 - val_mae: 16.7461\n",
      "Epoch 208/250\n",
      "191/191 [==============================] - 0s 2ms/step - loss: 420.9186 - mae: 15.5519 - val_loss: 473.7478 - val_mae: 16.9175\n",
      "Epoch 209/250\n",
      "191/191 [==============================] - 0s 2ms/step - loss: 423.7248 - mae: 15.5384 - val_loss: 475.5911 - val_mae: 16.6314\n",
      "Epoch 210/250\n",
      "191/191 [==============================] - 0s 2ms/step - loss: 406.7560 - mae: 15.4347 - val_loss: 470.6191 - val_mae: 16.8716\n",
      "Epoch 211/250\n",
      "191/191 [==============================] - 0s 2ms/step - loss: 397.9145 - mae: 15.3454 - val_loss: 470.9915 - val_mae: 16.7149\n",
      "Epoch 212/250\n",
      "191/191 [==============================] - 0s 2ms/step - loss: 418.9217 - mae: 15.5443 - val_loss: 467.3182 - val_mae: 16.7216\n",
      "Epoch 213/250\n",
      "191/191 [==============================] - 0s 2ms/step - loss: 406.8531 - mae: 15.4968 - val_loss: 470.5895 - val_mae: 16.8715\n",
      "Epoch 214/250\n",
      "191/191 [==============================] - 0s 2ms/step - loss: 407.1206 - mae: 15.4949 - val_loss: 486.7713 - val_mae: 17.0834\n",
      "Epoch 215/250\n",
      "191/191 [==============================] - 0s 2ms/step - loss: 411.4590 - mae: 15.5121 - val_loss: 483.1340 - val_mae: 16.8606\n",
      "Epoch 216/250\n",
      "191/191 [==============================] - 0s 2ms/step - loss: 395.5930 - mae: 15.2887 - val_loss: 486.8055 - val_mae: 17.1921\n",
      "Epoch 217/250\n",
      "191/191 [==============================] - 0s 2ms/step - loss: 402.9245 - mae: 15.3902 - val_loss: 464.8342 - val_mae: 16.6012\n",
      "Epoch 218/250\n",
      "191/191 [==============================] - 0s 2ms/step - loss: 399.3509 - mae: 15.3654 - val_loss: 477.2621 - val_mae: 16.8320\n",
      "Epoch 219/250\n",
      "191/191 [==============================] - 0s 2ms/step - loss: 404.8714 - mae: 15.2994 - val_loss: 473.0278 - val_mae: 16.7280\n",
      "Epoch 220/250\n",
      "191/191 [==============================] - 0s 2ms/step - loss: 419.6543 - mae: 15.5801 - val_loss: 480.2333 - val_mae: 17.0144\n",
      "Epoch 221/250\n",
      "191/191 [==============================] - 0s 2ms/step - loss: 411.3938 - mae: 15.5453 - val_loss: 467.2902 - val_mae: 16.7441\n",
      "Epoch 222/250\n",
      "191/191 [==============================] - 0s 2ms/step - loss: 395.1918 - mae: 15.2567 - val_loss: 468.9867 - val_mae: 16.7184\n",
      "Epoch 223/250\n",
      "191/191 [==============================] - 0s 2ms/step - loss: 400.6798 - mae: 15.3619 - val_loss: 469.2255 - val_mae: 16.7363\n",
      "Epoch 224/250\n",
      "191/191 [==============================] - 0s 2ms/step - loss: 412.2918 - mae: 15.4632 - val_loss: 480.3216 - val_mae: 16.7930\n",
      "Epoch 225/250\n",
      "191/191 [==============================] - 0s 2ms/step - loss: 411.9284 - mae: 15.3135 - val_loss: 466.0944 - val_mae: 16.6536\n",
      "Epoch 226/250\n",
      "191/191 [==============================] - 0s 2ms/step - loss: 403.3103 - mae: 15.3133 - val_loss: 465.4970 - val_mae: 16.6962\n",
      "Epoch 227/250\n",
      "191/191 [==============================] - 0s 2ms/step - loss: 402.6744 - mae: 15.3332 - val_loss: 483.1113 - val_mae: 16.7964\n",
      "Epoch 228/250\n",
      "191/191 [==============================] - 0s 2ms/step - loss: 395.8583 - mae: 15.3356 - val_loss: 467.0883 - val_mae: 16.6153\n",
      "Epoch 229/250\n",
      "191/191 [==============================] - 0s 2ms/step - loss: 396.0180 - mae: 15.2475 - val_loss: 465.5808 - val_mae: 16.7289\n",
      "Epoch 230/250\n",
      "191/191 [==============================] - 0s 2ms/step - loss: 402.6254 - mae: 15.4108 - val_loss: 474.7707 - val_mae: 16.9054\n",
      "Epoch 231/250\n",
      "191/191 [==============================] - 0s 2ms/step - loss: 413.9529 - mae: 15.3812 - val_loss: 486.1772 - val_mae: 17.1502\n",
      "Epoch 232/250\n",
      "191/191 [==============================] - 0s 2ms/step - loss: 410.4665 - mae: 15.3618 - val_loss: 475.8665 - val_mae: 16.8030\n",
      "Epoch 233/250\n",
      "191/191 [==============================] - 0s 2ms/step - loss: 401.9087 - mae: 15.4454 - val_loss: 474.6059 - val_mae: 16.7526\n",
      "Epoch 234/250\n",
      "191/191 [==============================] - 0s 2ms/step - loss: 406.0387 - mae: 15.4041 - val_loss: 482.7928 - val_mae: 17.1370\n",
      "Epoch 235/250\n",
      "191/191 [==============================] - 0s 2ms/step - loss: 407.0478 - mae: 15.3695 - val_loss: 469.6832 - val_mae: 16.5410\n",
      "Epoch 236/250\n",
      "191/191 [==============================] - 0s 2ms/step - loss: 404.7831 - mae: 15.2465 - val_loss: 478.0107 - val_mae: 16.6801\n",
      "Epoch 237/250\n",
      "191/191 [==============================] - 0s 2ms/step - loss: 402.4255 - mae: 15.3264 - val_loss: 469.0771 - val_mae: 16.7771\n",
      "Epoch 238/250\n",
      "191/191 [==============================] - 0s 2ms/step - loss: 403.5236 - mae: 15.3624 - val_loss: 473.8578 - val_mae: 16.8241\n",
      "Epoch 239/250\n",
      "191/191 [==============================] - 0s 2ms/step - loss: 405.2396 - mae: 15.2853 - val_loss: 468.8833 - val_mae: 16.7897\n",
      "Epoch 240/250\n",
      "191/191 [==============================] - 0s 2ms/step - loss: 384.8400 - mae: 15.0964 - val_loss: 463.6785 - val_mae: 16.6896\n",
      "Epoch 241/250\n",
      "191/191 [==============================] - 0s 2ms/step - loss: 390.2290 - mae: 15.2329 - val_loss: 483.7846 - val_mae: 17.1885\n",
      "Epoch 242/250\n",
      "191/191 [==============================] - 0s 2ms/step - loss: 393.4951 - mae: 15.1998 - val_loss: 491.0570 - val_mae: 17.3337\n",
      "Epoch 243/250\n",
      "191/191 [==============================] - 0s 2ms/step - loss: 397.8815 - mae: 15.2714 - val_loss: 470.7227 - val_mae: 16.8035\n",
      "Epoch 244/250\n",
      "191/191 [==============================] - 0s 2ms/step - loss: 398.3615 - mae: 15.2771 - val_loss: 476.4839 - val_mae: 16.7093\n",
      "Epoch 245/250\n",
      "191/191 [==============================] - 0s 2ms/step - loss: 385.0525 - mae: 15.1094 - val_loss: 462.3214 - val_mae: 16.5822\n",
      "Epoch 246/250\n",
      "191/191 [==============================] - 0s 2ms/step - loss: 398.1260 - mae: 15.2066 - val_loss: 476.0431 - val_mae: 16.9609\n",
      "Epoch 247/250\n",
      "191/191 [==============================] - 0s 2ms/step - loss: 390.6617 - mae: 14.9728 - val_loss: 464.8485 - val_mae: 16.4969\n",
      "Epoch 248/250\n",
      "191/191 [==============================] - 0s 2ms/step - loss: 396.7643 - mae: 15.1480 - val_loss: 462.5733 - val_mae: 16.6322\n",
      "Epoch 249/250\n",
      "191/191 [==============================] - 0s 2ms/step - loss: 395.9521 - mae: 15.1451 - val_loss: 466.3865 - val_mae: 16.7144\n",
      "Epoch 250/250\n",
      "191/191 [==============================] - 0s 2ms/step - loss: 403.5859 - mae: 15.1538 - val_loss: 471.7593 - val_mae: 16.7412\n"
     ]
    }
   ],
   "source": [
    "# making no changes, I want the NNet baseline\n",
    "# Insert model here...\n",
    "model = Sequential()\n",
    "\n",
    "model.add(Dense(128, activation = 'relu', input_shape = (12,)))\n",
    "model.add(Dense(64, activation = 'relu'))\n",
    "model.add(Dense(64, activation = 'relu'))\n",
    "\n",
    "model.add(Dense(1, activation = None))\n",
    "\n",
    "#compile the model\n",
    "model.compile(loss = 'mse', optimizer = 'adam', metrics = ['mae'])\n",
    "\n",
    "# fit the model\n",
    "results = model.fit(X_train_sc, y_train,\n",
    "                    batch_size = 100,\n",
    "                    epochs = 250, \n",
    "                    validation_data = (X_test_sc, y_test),\n",
    "                    verbose = 1)\n",
    "\n"
   ]
  },
  {
   "cell_type": "code",
   "execution_count": 49,
   "metadata": {},
   "outputs": [
    {
     "data": {
      "text/plain": [
       "15.161718368530273"
      ]
     },
     "execution_count": 49,
     "metadata": {},
     "output_type": "execute_result"
    }
   ],
   "source": [
    "results.history['mae'][-1]"
   ]
  },
  {
   "cell_type": "code",
   "execution_count": 50,
   "metadata": {},
   "outputs": [
    {
     "data": {
      "text/plain": [
       "16.74115753173828"
      ]
     },
     "execution_count": 50,
     "metadata": {},
     "output_type": "execute_result"
    }
   ],
   "source": [
    "results.history['val_mae'][-1]"
   ]
  },
  {
   "cell_type": "code",
   "execution_count": 51,
   "metadata": {},
   "outputs": [
    {
     "data": {
      "image/png": "[encoded data removed]",
      "text/plain": [
       "<Figure size 576x360 with 1 Axes>"
      ]
     },
     "metadata": {
      "needs_background": "light"
     },
     "output_type": "display_data"
    }
   ],
   "source": [
    "# Visualize the loss\n",
    "train_loss = results.history['loss']\n",
    "test_loss =  results.history['val_loss']\n",
    "\n",
    "plt.figure(figsize=(8, 5))\n",
    "plt.plot(train_loss, label='Training loss', color='navy')\n",
    "plt.plot(test_loss, label='Testing loss', color='skyblue')\n",
    "plt.legend();"
   ]
  },
  {
   "cell_type": "markdown",
   "metadata": {},
   "source": [
    "Mean Squared Error drops this into the range of being within 21 calls per hour."
   ]
  },
  {
   "cell_type": "code",
   "execution_count": 52,
   "metadata": {},
   "outputs": [
    {
     "data": {
      "image/png": "[encoded data removed]",
      "text/plain": [
       "<Figure size 576x360 with 1 Axes>"
      ]
     },
     "metadata": {
      "needs_background": "light"
     },
     "output_type": "display_data"
    }
   ],
   "source": [
    "# visualising mean accuracy error\n",
    "train_mae = results.history['mae']\n",
    "test_mae =  results.history['val_mae']\n",
    "\n",
    "plt.figure(figsize=(8, 5))\n",
    "plt.plot(train_mae, label='Training MAE', color='navy')\n",
    "plt.plot(test_mae, label='Testing MAE', color='skyblue')\n",
    "plt.legend();"
   ]
  },
  {
   "cell_type": "markdown",
   "metadata": {},
   "source": [
    "MAE results are interesting since this would suggest we can get within 17 calls for predictions BUT it is important to note that this does not penalize large errors as harshly as RMSE does.  Since we want to avoid large mistakes (we're talking emergency/life and death situations) we do want to use RMSE instead of MAE."
   ]
  },
  {
   "cell_type": "code",
   "execution_count": 53,
   "metadata": {},
   "outputs": [],
   "source": [
    "preds = model.predict(X_test_sc)\n",
    "y_df = pd.DataFrame(y_test)"
   ]
  },
  {
   "cell_type": "code",
   "execution_count": 54,
   "metadata": {},
   "outputs": [
    {
     "data": {
      "text/html": [
       "<div>\n",
       "<style scoped>\n",
       "    .dataframe tbody tr th:only-of-type {\n",
       "        vertical-align: middle;\n",
       "    }\n",
       "\n",
       "    .dataframe tbody tr th {\n",
       "        vertical-align: top;\n",
       "    }\n",
       "\n",
       "    .dataframe thead th {\n",
       "        text-align: right;\n",
       "    }\n",
       "</style>\n",
       "<table border=\"1\" class=\"dataframe\">\n",
       "  <thead>\n",
       "    <tr style=\"text-align: right;\">\n",
       "      <th></th>\n",
       "      <th>num_calls</th>\n",
       "      <th>preds</th>\n",
       "    </tr>\n",
       "  </thead>\n",
       "  <tbody>\n",
       "    <tr>\n",
       "      <th>count</th>\n",
       "      <td>6367.000000</td>\n",
       "      <td>6367.000000</td>\n",
       "    </tr>\n",
       "    <tr>\n",
       "      <th>mean</th>\n",
       "      <td>136.157845</td>\n",
       "      <td>134.268570</td>\n",
       "    </tr>\n",
       "    <tr>\n",
       "      <th>std</th>\n",
       "      <td>54.344129</td>\n",
       "      <td>49.656021</td>\n",
       "    </tr>\n",
       "    <tr>\n",
       "      <th>min</th>\n",
       "      <td>36.000000</td>\n",
       "      <td>50.258030</td>\n",
       "    </tr>\n",
       "    <tr>\n",
       "      <th>25%</th>\n",
       "      <td>88.000000</td>\n",
       "      <td>88.880684</td>\n",
       "    </tr>\n",
       "    <tr>\n",
       "      <th>50%</th>\n",
       "      <td>127.000000</td>\n",
       "      <td>122.294922</td>\n",
       "    </tr>\n",
       "    <tr>\n",
       "      <th>75%</th>\n",
       "      <td>185.000000</td>\n",
       "      <td>182.385872</td>\n",
       "    </tr>\n",
       "    <tr>\n",
       "      <th>max</th>\n",
       "      <td>377.000000</td>\n",
       "      <td>261.466064</td>\n",
       "    </tr>\n",
       "  </tbody>\n",
       "</table>\n",
       "</div>"
      ],
      "text/plain": [
       "         num_calls        preds\n",
       "count  6367.000000  6367.000000\n",
       "mean    136.157845   134.268570\n",
       "std      54.344129    49.656021\n",
       "min      36.000000    50.258030\n",
       "25%      88.000000    88.880684\n",
       "50%     127.000000   122.294922\n",
       "75%     185.000000   182.385872\n",
       "max     377.000000   261.466064"
      ]
     },
     "execution_count": 54,
     "metadata": {},
     "output_type": "execute_result"
    }
   ],
   "source": [
    "y_df['preds'] = preds\n",
    "y_df['error'] = (y_df['preds'] - y_df['num_calls'])\n",
    "y_df[['num_calls', 'preds']].describe()"
   ]
  },
  {
   "cell_type": "markdown",
   "metadata": {
    "jupyter": {
     "outputs_hidden": true
    }
   },
   "source": [
    "Interesting thing to note here (at least I think so) is that the mean and std are very close between num_calls and preds but preds do not even come close to the top end of actual maximum num_calls being off by a full 120 calls.  Other wise this would seem to indicate a pretty solid result for predicting call volumes.  Outliers will be outliers and we will never get close to seeing a disaster scenario coming but hopefully this will account for most situations within what we might consider the norm."
   ]
  },
  {
   "cell_type": "code",
   "execution_count": 55,
   "metadata": {},
   "outputs": [
    {
     "name": "stdout",
     "output_type": "stream",
     "text": [
      "Training: 0.8676335518449162\n",
      "Testing: 0.840234343111754\n"
     ]
    }
   ],
   "source": [
    "train_preds = model.predict(X_train_sc)\n",
    "\n",
    "training =  r2_score(y_train, train_preds)\n",
    "testing = r2_score(y_test, preds)\n",
    "\n",
    "print(f'Training: {training}')\n",
    "print(f'Testing: {testing}')"
   ]
  },
  {
   "cell_type": "code",
   "execution_count": 56,
   "metadata": {},
   "outputs": [
    {
     "data": {
      "text/plain": [
       "(19.719267252428562, 21.72002101590659)"
      ]
     },
     "execution_count": 56,
     "metadata": {},
     "output_type": "execute_result"
    }
   ],
   "source": [
    "sqrt(mean_squared_error(y_train, train_preds)), sqrt(mean_squared_error(y_test, preds))"
   ]
  },
  {
   "cell_type": "markdown",
   "metadata": {},
   "source": [
    "### **Recurrent Neural Network**"
   ]
  },
  {
   "cell_type": "code",
   "execution_count": 26,
   "metadata": {},
   "outputs": [],
   "source": [
    "from tensorflow.keras.models import Sequential\n",
    "from tensorflow.keras.layers import Dense, Dropout, GRU\n",
    "from tensorflow.keras.regularizers import l2\n",
    "from tensorflow.keras.callbacks import EarlyStopping\n",
    "from tensorflow.keras.preprocessing.sequence import TimeseriesGenerator\n",
    "from tensorflow.keras.optimizers import Adam"
   ]
  },
  {
   "cell_type": "code",
   "execution_count": 27,
   "metadata": {},
   "outputs": [],
   "source": [
    "df = pd.read_csv('../data/final_calls_weather_tfk.csv')\n",
    "\n",
    "df['DATE'] = pd.to_datetime(df['DATE'])\n",
    "\n",
    "df.set_index(df['DATE'], inplace = True)"
   ]
  },
  {
   "cell_type": "code",
   "execution_count": 28,
   "metadata": {},
   "outputs": [],
   "source": [
    "X = df.drop(columns = ['num_calls', 'BROOKLYN', 'BRONX' ,'MANHATTAN', \n",
    "                       'UNKNOWN','Unnamed: 0', 'RICHMOND / STATEN ISLAND','DATE', 'Unnamed: 0.1'\n",
    "                       ])\n",
    "y = df['num_calls']\n",
    "\n",
    "X = pd.get_dummies(X, columns = ['STATION'])\n",
    "X = pd.get_dummies(X, columns = ['NAME'])\n",
    "\n",
    "X_train, X_test, y_train, y_test = train_test_split(X, y)\n",
    "\n",
    "sc = StandardScaler()\n",
    "\n",
    "X_train_sc = sc.fit_transform(X_train)\n",
    "X_test_sc = sc.transform(X_test)"
   ]
  },
  {
   "cell_type": "code",
   "execution_count": 29,
   "metadata": {},
   "outputs": [],
   "source": [
    "train_sequences = TimeseriesGenerator(X_train_sc, y_train, length = 3, batch_size = 64)\n",
    "\n",
    "test_sequences = TimeseriesGenerator(X_test_sc, y_test, length=3, batch_size = 64)\n",
    "\n",
    "d =train_sequences[0][0][0].shape"
   ]
  },
  {
   "cell_type": "code",
   "execution_count": 30,
   "metadata": {},
   "outputs": [],
   "source": [
    "stop = EarlyStopping(monitor = 'mae', patience = 10, min_delta = .01)\n",
    "\n",
    "# set up structure\n",
    "model = Sequential()\n",
    "model.add(GRU(8, input_shape=d, return_sequences=True))\n",
    "model.add(GRU(8, return_sequences=False))\n",
    "\n",
    "model.add(Dense(4, activation='relu'))\n",
    "model.add(Dense(1, activation=None))\n",
    "\n",
    "# compile\n",
    "model.compile(optimizer=Adam(lr=.0005), loss='mse', metrics=['mae'])\n",
    "\n",
    "results = model.fit(train_sequences, \n",
    "          epochs = 100,\n",
    "          batch_size = 256,\n",
    "          validation_data = test_sequences,\n",
    "          callbacks = stop,\n",
    "                   verbose = 0)"
   ]
  },
  {
   "cell_type": "code",
   "execution_count": 31,
   "metadata": {},
   "outputs": [
    {
     "data": {
      "image/png": "[encoded data removed]",
      "text/plain": [
       "<Figure size 864x576 with 1 Axes>"
      ]
     },
     "metadata": {
      "needs_background": "light"
     },
     "output_type": "display_data"
    }
   ],
   "source": [
    "train_mae = results.history['loss']\n",
    "test_mae =  results.history['val_loss']\n",
    "\n",
    "plt.figure(figsize=(12, 8))\n",
    "plt.plot(train_mae, label='Training Loss', color='navy')\n",
    "plt.plot(test_mae, label='Testing Loss', color='skyblue')\n",
    "plt.legend();"
   ]
  },
  {
   "cell_type": "code",
   "execution_count": null,
   "metadata": {},
   "outputs": [],
   "source": []
  }
 ],
 "metadata": {
  "kernelspec": {
   "display_name": "Python 3",
   "language": "python",
   "name": "python3"
  },
  "language_info": {
   "codemirror_mode": {
    "name": "ipython",
    "version": 3
   },
   "file_extension": ".py",
   "mimetype": "text/x-python",
   "name": "python",
   "nbconvert_exporter": "python",
   "pygments_lexer": "ipython3",
   "version": "3.8.5"
  }
 },
 "nbformat": 4,
 "nbformat_minor": 4
}
