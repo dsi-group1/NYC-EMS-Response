{
 "cells": [
  {
   "cell_type": "code",
   "execution_count": 13,
   "metadata": {},
   "outputs": [],
   "source": [
    "import pandas as pd\n",
    "import numpy as np\n",
    "import matplotlib.pyplot as plt\n",
    "import seaborn as sns\n",
    "import pickle\n",
    "from math import sqrt\n",
    "\n",
    "from sklearn.model_selection import train_test_split\n",
    "from sklearn.linear_model import LinearRegression, Lasso, Ridge\n",
    "from sklearn.preprocessing import StandardScaler\n",
    "from sklearn.ensemble import BaggingRegressor, RandomForestRegressor\n",
    "from sklearn.metrics import r2_score, mean_squared_error\n",
    "from sklearn.pipeline import Pipeline\n",
    "\n",
    "from tensorflow.keras.models import Sequential\n",
    "from tensorflow.keras.layers import Dense, Dropout\n",
    "from tensorflow.keras.regularizers import l2\n",
    "from tensorflow.keras.callbacks import EarlyStopping"
   ]
  },
  {
   "cell_type": "code",
   "execution_count": 14,
   "metadata": {},
   "outputs": [],
   "source": [
    "df = pd.read_csv('../data/hourlycalls_weather_traffic.csv')"
   ]
  },
  {
   "cell_type": "code",
   "execution_count": null,
   "metadata": {
    "jupyter": {
     "source_hidden": true
    }
   },
   "outputs": [],
   "source": [
    "# NOTE: features[N:M] actually is features[N] through features [M-1] -- it's non-inclusive\n",
    "\n",
    "# features[0]       --- 'CAD_INCIDENT_ID'                                            ---- DROP (only an index)\n",
    "# features[1]       --- 'INITIAL_SEVERITY_LEVEL_CODE'\n",
    "# features[2]       --- 'FINAL_SEVERITY_LEVEL_CODE'\n",
    "# features[3]       --- 'FIRST_ASSIGNMENT_DATETIME'                                  ---- DROP\n",
    "# features[4]       --- 'VALID_DISPATCH_RSPNS_TIME_INDC' \n",
    "# features[5]       --- 'DISPATCH_RESPONSE_SECONDS_QY'                               ---- DROP\n",
    "# features[6]       --- 'FIRST_ACTIVATION_DATETIME' \n",
    "# features[7]       --- 'VALID_INCIDENT_RSPNS_TIME_INDC'\n",
    "# features[8]       --- 'INCIDENT_RESPONSE_SECONDS_QY'                               ------> y\n",
    "# features[9]       --- 'INCIDENT_TRAVEL_TM_SECONDS_QY'\n",
    "# features[10]      --- 'INCIDENT_CLOSE_DATETIME' \n",
    "# features[11]      --- 'HELD_INDICATOR' \n",
    "# features[12]      --- 'REOPEN_INDICATOR'\n",
    "# features[13]      --- 'SPECIAL_EVENT_INDICATOR' \n",
    "# features[14]      --- 'STANDBY_INDICATOR'\n",
    "# features[15]      --- 'TRANSFER_INDICATOR'\n",
    "# features[16:96]   --- 'INITIAL_CALL_TYPE' dummies\n",
    "# features[96:186]  --- 'FINAL_CALL_TYPE' dummies\n",
    "# features[186:195] --- 'INCIDENT_DISPOSITION_CODE' dummies\n",
    "# features[195:198] --- 'BOROUGH' dummies\n",
    "# features[198:230] --- 'INCIDENT_DISPATCH_AREA' dummies\n",
    "# features[230:594] --- 'ZIPCODE' dummies\n",
    "# features[594:670] --- 'POLICEPRECINCT' dummies\n",
    "# features[670:720] --- 'CITYCOUNCILDISTRICT' dummies\n",
    "# features[720:788] --- 'COMMUNITYDISTRICT' dummies\n",
    "# features[788:819] --- 'COMMUNITYSCHOOLDISTRICT' dummies\n",
    "# features[829:831] --- 'CONGRESSIONALDISTRICT' dummies\n",
    "# features[831]     --- 'CALL_YEAR'\n",
    "# features[832]     --- 'CALL_DAY'\n",
    "# features[833]     --- 'CALL_TIME'\n",
    "# features[834]     --- 'CALL_UTC'\n",
    "# features[835:846] --- 'CALL_MONTH' dummies\n",
    "# features[846]     --- 'CALL_MONTH' (numeric)\n",
    "# features[847]     --- 'AWIND'\n",
    "# features[848]     --- 'PRCP'\n",
    "# features[849]     --- 'SNOW'\n",
    "# features[850]     --- 'SNWD'\n",
    "# features[851]     --- 'TMAX'\n",
    "# features[852]     --- 'TMIN'\n",
    "# features[853]     --- 'TAVG_CALC'"
   ]
  },
  {
   "cell_type": "code",
   "execution_count": 31,
   "metadata": {},
   "outputs": [
    {
     "data": {
      "text/plain": [
       "count    25465.000000\n",
       "mean         0.134018\n",
       "std          0.393702\n",
       "min          0.000000\n",
       "25%          0.000000\n",
       "50%          0.000000\n",
       "75%          0.050000\n",
       "max          5.810000\n",
       "Name: PRCP, dtype: float64"
      ]
     },
     "execution_count": 31,
     "metadata": {},
     "output_type": "execute_result"
    }
   ],
   "source": [
    "df['PRCP'].describe()"
   ]
  },
  {
   "cell_type": "code",
   "execution_count": null,
   "metadata": {},
   "outputs": [],
   "source": [
    "df.columns"
   ]
  },
  {
   "cell_type": "code",
   "execution_count": 6,
   "metadata": {},
   "outputs": [],
   "source": [
    "# Clean Data and Remove features that would outright count up to the total number of calls\n",
    "features = ['Unnamed: 0', 'Unnamed: 0.1', 'BRONX', 'BROOKLYN', 'MANHATTAN', 'QUEENS', \n",
    "            'RICHMOND / STATEN ISLAND', 'UNKNOWN', 'NAME', 'num_calls', 'DATE']\n",
    "\n",
    "\n",
    "X = df.drop(columns= features)\n",
    "\n",
    "X = X.fillna(X['AWND'].mean())\n",
    "\n",
    "X = pd.get_dummies(data = X, columns = ['STATION'], drop_first = True)\n",
    "\n",
    "y = df['num_calls']\n",
    "\n",
    "X_train, X_test, y_train, y_test = train_test_split(X, y, random_state = 42)"
   ]
  },
  {
   "cell_type": "code",
   "execution_count": 17,
   "metadata": {},
   "outputs": [
    {
     "data": {
      "text/plain": [
       "Index(['year', 'month', 'day', 'hour', 'AWND', 'PRCP', 'SNOW', 'SNWD', 'TMAX',\n",
       "       'TMIN', 'TAVG_CALC', 'Traffic Incidents'],\n",
       "      dtype='object')"
      ]
     },
     "execution_count": 17,
     "metadata": {},
     "output_type": "execute_result"
    }
   ],
   "source": [
    "X.columns"
   ]
  },
  {
   "cell_type": "code",
   "execution_count": 11,
   "metadata": {},
   "outputs": [],
   "source": [
    "# scaling data\n",
    "sc = StandardScaler()\n",
    "\n",
    "X_train_sc = sc.fit_transform(X_train)\n",
    "X_test_sc = sc.transform(X_test)"
   ]
  },
  {
   "cell_type": "code",
   "execution_count": 43,
   "metadata": {},
   "outputs": [],
   "source": [
    "X = X.fillna(X['AWND'].mean())"
   ]
  },
  {
   "cell_type": "code",
   "execution_count": 30,
   "metadata": {},
   "outputs": [
    {
     "data": {
      "text/plain": [
       "numpy.ndarray"
      ]
     },
     "execution_count": 30,
     "metadata": {},
     "output_type": "execute_result"
    }
   ],
   "source": [
    "type(X_train_sc)"
   ]
  },
  {
   "cell_type": "code",
   "execution_count": 44,
   "metadata": {},
   "outputs": [
    {
     "name": "stdout",
     "output_type": "stream",
     "text": [
      "Training: 0.5144276829337519\n",
      "Testing: 0.5188483809790554\n"
     ]
    }
   ],
   "source": [
    "# linear regression is go to for modelling since it is the simplest in this case\n",
    "linreg = LinearRegression()\n",
    "\n",
    "linreg.fit(X_train_sc, y_train)\n",
    "\n",
    "print(f'Training: {linreg.score(X_train_sc, y_train)}')\n",
    "print(f'Testing: {linreg.score(X_test_sc, y_test)}')"
   ]
  },
  {
   "cell_type": "markdown",
   "metadata": {},
   "source": [
    "This does not seem likely, not sure yet why this is the result but there is definitely something not quite right here."
   ]
  },
  {
   "cell_type": "code",
   "execution_count": 45,
   "metadata": {},
   "outputs": [
    {
     "name": "stdout",
     "output_type": "stream",
     "text": [
      "Training: 0.5120454233455058\n",
      "Testing: 0.5163948752009309\n"
     ]
    }
   ],
   "source": [
    "lasso = Lasso(max_iter = 10_000)\n",
    "\n",
    "lasso.fit(X_train_sc, y_train)\n",
    "\n",
    "print(f'Training: {lasso.score(X_train_sc, y_train)}')\n",
    "print(f'Testing: {lasso.score(X_test_sc, y_test)}')"
   ]
  },
  {
   "cell_type": "code",
   "execution_count": 46,
   "metadata": {},
   "outputs": [
    {
     "name": "stdout",
     "output_type": "stream",
     "text": [
      "Training: 0.5144276816478912\n",
      "Testing: 0.5188484599641534\n"
     ]
    }
   ],
   "source": [
    "ridge = Ridge()\n",
    "\n",
    "ridge.fit(X_train_sc, y_train)\n",
    "\n",
    "print(f'Training: {ridge.score(X_train_sc, y_train)}')\n",
    "print(f'Testing: {ridge.score(X_test_sc, y_test)}')"
   ]
  },
  {
   "cell_type": "markdown",
   "metadata": {},
   "source": [
    "**I realized the issue here.  Left in a lot of data that was used to create our new dependent variable.  This has been corrected more or less.**"
   ]
  },
  {
   "cell_type": "markdown",
   "metadata": {},
   "source": [
    "### **Neural Nets: Predicting Call Volumes**"
   ]
  },
  {
   "cell_type": "code",
   "execution_count": 47,
   "metadata": {},
   "outputs": [
    {
     "data": {
      "text/plain": [
       "(19098, 12)"
      ]
     },
     "execution_count": 47,
     "metadata": {},
     "output_type": "execute_result"
    }
   ],
   "source": [
    "X_train_sc.shape"
   ]
  },
  {
   "cell_type": "code",
   "execution_count": 12,
   "metadata": {
    "collapsed": true,
    "jupyter": {
     "outputs_hidden": true
    }
   },
   "outputs": [
    {
     "name": "stdout",
     "output_type": "stream",
     "text": [
      "Epoch 1/250\n",
      "191/191 [==============================] - 1s 2ms/step - loss: 13942.4786 - mae: 100.1119 - val_loss: 1877.7753 - val_mae: 34.6136\n",
      "Epoch 2/250\n",
      "191/191 [==============================] - 0s 1ms/step - loss: 1819.1523 - mae: 34.0199 - val_loss: 1572.8887 - val_mae: 31.7310\n",
      "Epoch 3/250\n",
      "191/191 [==============================] - 0s 1ms/step - loss: 1497.1460 - mae: 30.9463 - val_loss: 1367.4949 - val_mae: 29.5760\n",
      "Epoch 4/250\n",
      "191/191 [==============================] - 0s 1ms/step - loss: 1320.3213 - mae: 28.7312 - val_loss: 1122.4434 - val_mae: 26.4789\n",
      "Epoch 5/250\n",
      "191/191 [==============================] - 0s 1ms/step - loss: 1051.2029 - mae: 25.5746 - val_loss: 885.1971 - val_mae: 23.6635\n",
      "Epoch 6/250\n",
      "191/191 [==============================] - 0s 1ms/step - loss: 850.3890 - mae: 22.8820 - val_loss: 748.0832 - val_mae: 21.8380\n",
      "Epoch 7/250\n",
      "191/191 [==============================] - 0s 1ms/step - loss: 745.0198 - mae: 21.0676 - val_loss: 652.3526 - val_mae: 19.7200\n",
      "Epoch 8/250\n",
      "191/191 [==============================] - 0s 1ms/step - loss: 660.0072 - mae: 19.8149 - val_loss: 622.9047 - val_mae: 19.5427\n",
      "Epoch 9/250\n",
      "191/191 [==============================] - 0s 1ms/step - loss: 632.5557 - mae: 19.3582 - val_loss: 618.7515 - val_mae: 19.8063\n",
      "Epoch 10/250\n",
      "191/191 [==============================] - 0s 1ms/step - loss: 624.0267 - mae: 19.2987 - val_loss: 583.3065 - val_mae: 18.7751\n",
      "Epoch 11/250\n",
      "191/191 [==============================] - 0s 1ms/step - loss: 622.3892 - mae: 18.9952 - val_loss: 594.1969 - val_mae: 19.2851\n",
      "Epoch 12/250\n",
      "191/191 [==============================] - 0s 974us/step - loss: 577.9605 - mae: 18.5726 - val_loss: 571.4675 - val_mae: 18.6194\n",
      "Epoch 13/250\n",
      "191/191 [==============================] - 0s 982us/step - loss: 588.0250 - mae: 18.8318 - val_loss: 563.7725 - val_mae: 18.5206\n",
      "Epoch 14/250\n",
      "191/191 [==============================] - 0s 959us/step - loss: 579.5719 - mae: 18.4874 - val_loss: 562.1815 - val_mae: 17.9538\n",
      "Epoch 15/250\n",
      "191/191 [==============================] - 0s 1ms/step - loss: 563.6981 - mae: 18.3146 - val_loss: 550.5130 - val_mae: 18.0602\n",
      "Epoch 16/250\n",
      "191/191 [==============================] - 0s 993us/step - loss: 575.9979 - mae: 18.4073 - val_loss: 541.1273 - val_mae: 17.8092\n",
      "Epoch 17/250\n",
      "191/191 [==============================] - 0s 1ms/step - loss: 564.1325 - mae: 18.1176 - val_loss: 546.5602 - val_mae: 18.1063\n",
      "Epoch 18/250\n",
      "191/191 [==============================] - 0s 1ms/step - loss: 566.6153 - mae: 18.2493 - val_loss: 534.5551 - val_mae: 17.7102\n",
      "Epoch 19/250\n",
      "191/191 [==============================] - 0s 976us/step - loss: 593.5385 - mae: 18.2527 - val_loss: 540.3757 - val_mae: 17.5840\n",
      "Epoch 20/250\n",
      "191/191 [==============================] - 0s 2ms/step - loss: 549.1191 - mae: 17.8274 - val_loss: 532.5987 - val_mae: 17.6512\n",
      "Epoch 21/250\n",
      "191/191 [==============================] - 0s 1ms/step - loss: 540.0316 - mae: 17.8760 - val_loss: 527.2061 - val_mae: 17.5720\n",
      "Epoch 22/250\n",
      "191/191 [==============================] - 0s 985us/step - loss: 542.6004 - mae: 17.8862 - val_loss: 530.7764 - val_mae: 17.6259\n",
      "Epoch 23/250\n",
      "191/191 [==============================] - 0s 992us/step - loss: 534.0433 - mae: 17.6387 - val_loss: 543.1111 - val_mae: 17.6499\n",
      "Epoch 24/250\n",
      "191/191 [==============================] - 0s 996us/step - loss: 544.4505 - mae: 17.7291 - val_loss: 519.9136 - val_mae: 17.3867\n",
      "Epoch 25/250\n",
      "191/191 [==============================] - 0s 1ms/step - loss: 531.4430 - mae: 17.7129 - val_loss: 525.9185 - val_mae: 17.5990\n",
      "Epoch 26/250\n",
      "191/191 [==============================] - 0s 973us/step - loss: 522.8785 - mae: 17.6069 - val_loss: 525.5058 - val_mae: 17.3833\n",
      "Epoch 27/250\n",
      "191/191 [==============================] - 0s 1ms/step - loss: 534.3658 - mae: 17.7624 - val_loss: 532.1099 - val_mae: 17.6172\n",
      "Epoch 28/250\n",
      "191/191 [==============================] - 0s 993us/step - loss: 541.9755 - mae: 17.6296 - val_loss: 514.4888 - val_mae: 17.2875\n",
      "Epoch 29/250\n",
      "191/191 [==============================] - 0s 996us/step - loss: 527.3923 - mae: 17.5676 - val_loss: 520.7384 - val_mae: 17.4649\n",
      "Epoch 30/250\n",
      "191/191 [==============================] - 0s 991us/step - loss: 538.6420 - mae: 17.6530 - val_loss: 516.9797 - val_mae: 17.3198\n",
      "Epoch 31/250\n",
      "191/191 [==============================] - 0s 1ms/step - loss: 529.3803 - mae: 17.5265 - val_loss: 508.9148 - val_mae: 17.1237\n",
      "Epoch 32/250\n",
      "191/191 [==============================] - 0s 1ms/step - loss: 521.7241 - mae: 17.3970 - val_loss: 518.0917 - val_mae: 17.4444\n",
      "Epoch 33/250\n",
      "191/191 [==============================] - 0s 1ms/step - loss: 532.8556 - mae: 17.3900 - val_loss: 533.5139 - val_mae: 17.4876\n",
      "Epoch 34/250\n",
      "191/191 [==============================] - 0s 987us/step - loss: 517.0210 - mae: 17.3572 - val_loss: 509.5804 - val_mae: 17.2746\n",
      "Epoch 35/250\n",
      "191/191 [==============================] - 0s 1ms/step - loss: 528.5858 - mae: 17.3290 - val_loss: 511.4766 - val_mae: 17.4699\n",
      "Epoch 36/250\n",
      "191/191 [==============================] - 0s 1ms/step - loss: 516.1522 - mae: 17.3508 - val_loss: 523.4092 - val_mae: 17.1938\n",
      "Epoch 37/250\n",
      "191/191 [==============================] - 0s 988us/step - loss: 524.0404 - mae: 17.3616 - val_loss: 509.7583 - val_mae: 17.0279\n",
      "Epoch 38/250\n",
      "191/191 [==============================] - 0s 991us/step - loss: 498.0336 - mae: 17.1279 - val_loss: 513.1421 - val_mae: 17.3660\n",
      "Epoch 39/250\n",
      "191/191 [==============================] - 0s 1ms/step - loss: 498.6257 - mae: 17.1393 - val_loss: 516.7812 - val_mae: 17.5191\n",
      "Epoch 40/250\n",
      "191/191 [==============================] - 0s 1ms/step - loss: 533.2050 - mae: 17.4628 - val_loss: 504.4351 - val_mae: 17.2572\n",
      "Epoch 41/250\n",
      "191/191 [==============================] - 0s 1ms/step - loss: 499.5464 - mae: 17.2409 - val_loss: 515.0407 - val_mae: 17.4370\n",
      "Epoch 42/250\n",
      "191/191 [==============================] - 0s 1ms/step - loss: 504.7368 - mae: 17.1103 - val_loss: 529.0040 - val_mae: 18.0176\n",
      "Epoch 43/250\n",
      "191/191 [==============================] - 0s 1ms/step - loss: 506.8925 - mae: 17.3143 - val_loss: 505.1422 - val_mae: 16.9379\n",
      "Epoch 44/250\n",
      "191/191 [==============================] - 0s 1ms/step - loss: 505.4804 - mae: 17.2022 - val_loss: 497.7855 - val_mae: 17.0416\n",
      "Epoch 45/250\n",
      "191/191 [==============================] - 0s 1ms/step - loss: 513.4607 - mae: 17.1356 - val_loss: 505.3140 - val_mae: 17.1372\n",
      "Epoch 46/250\n",
      "191/191 [==============================] - 0s 1ms/step - loss: 497.1458 - mae: 17.1440 - val_loss: 509.8072 - val_mae: 17.4286\n",
      "Epoch 47/250\n",
      "191/191 [==============================] - 0s 1ms/step - loss: 512.3645 - mae: 17.1943 - val_loss: 506.2478 - val_mae: 17.0944\n",
      "Epoch 48/250\n",
      "191/191 [==============================] - 0s 1ms/step - loss: 486.0982 - mae: 16.9205 - val_loss: 502.2195 - val_mae: 17.1333\n",
      "Epoch 49/250\n",
      "191/191 [==============================] - 0s 1ms/step - loss: 501.5653 - mae: 17.1148 - val_loss: 501.4179 - val_mae: 17.1139\n",
      "Epoch 50/250\n",
      "191/191 [==============================] - 0s 1ms/step - loss: 482.1697 - mae: 16.9176 - val_loss: 499.9557 - val_mae: 17.0565\n",
      "Epoch 51/250\n",
      "191/191 [==============================] - 0s 1ms/step - loss: 506.3033 - mae: 17.1096 - val_loss: 515.5939 - val_mae: 17.3440\n",
      "Epoch 52/250\n",
      "191/191 [==============================] - 0s 1ms/step - loss: 507.6477 - mae: 17.1376 - val_loss: 507.7193 - val_mae: 16.9881\n",
      "Epoch 53/250\n",
      "191/191 [==============================] - 0s 1ms/step - loss: 500.1653 - mae: 16.9870 - val_loss: 501.2372 - val_mae: 17.1415\n",
      "Epoch 54/250\n",
      "191/191 [==============================] - 0s 1ms/step - loss: 502.8826 - mae: 17.0868 - val_loss: 499.1226 - val_mae: 16.9177\n",
      "Epoch 55/250\n",
      "191/191 [==============================] - 0s 1ms/step - loss: 492.4760 - mae: 16.8825 - val_loss: 500.1646 - val_mae: 17.0337\n",
      "Epoch 56/250\n",
      "191/191 [==============================] - 0s 1ms/step - loss: 484.1589 - mae: 16.8119 - val_loss: 506.7292 - val_mae: 17.2202\n",
      "Epoch 57/250\n",
      "191/191 [==============================] - 0s 1ms/step - loss: 501.9687 - mae: 17.1041 - val_loss: 505.1262 - val_mae: 17.3808\n",
      "Epoch 58/250\n",
      "191/191 [==============================] - 0s 1ms/step - loss: 495.0856 - mae: 16.9208 - val_loss: 505.7079 - val_mae: 17.1515\n",
      "Epoch 59/250\n",
      "191/191 [==============================] - 0s 1ms/step - loss: 501.3403 - mae: 17.0566 - val_loss: 503.6364 - val_mae: 17.1522\n",
      "Epoch 60/250\n",
      "191/191 [==============================] - 0s 1ms/step - loss: 491.1718 - mae: 17.0410 - val_loss: 500.3832 - val_mae: 16.8378\n",
      "Epoch 61/250\n",
      "191/191 [==============================] - 0s 1ms/step - loss: 494.9299 - mae: 16.9400 - val_loss: 496.5108 - val_mae: 16.9495\n",
      "Epoch 62/250\n",
      "191/191 [==============================] - 0s 2ms/step - loss: 492.7127 - mae: 16.9545 - val_loss: 501.7770 - val_mae: 16.9734\n",
      "Epoch 63/250\n",
      "191/191 [==============================] - 0s 1ms/step - loss: 489.0364 - mae: 16.8678 - val_loss: 505.1617 - val_mae: 17.0605\n",
      "Epoch 64/250\n",
      "191/191 [==============================] - 0s 1ms/step - loss: 490.2284 - mae: 17.0140 - val_loss: 501.4715 - val_mae: 17.0342\n",
      "Epoch 65/250\n",
      "191/191 [==============================] - 0s 1ms/step - loss: 482.9153 - mae: 16.7602 - val_loss: 501.6818 - val_mae: 17.0001\n",
      "Epoch 66/250\n",
      "191/191 [==============================] - 0s 991us/step - loss: 488.1612 - mae: 16.9718 - val_loss: 497.4446 - val_mae: 17.1416\n",
      "Epoch 67/250\n",
      "191/191 [==============================] - 0s 1ms/step - loss: 500.7758 - mae: 16.9952 - val_loss: 508.4842 - val_mae: 17.2426\n",
      "Epoch 68/250\n",
      "191/191 [==============================] - 0s 1ms/step - loss: 497.4207 - mae: 16.8676 - val_loss: 497.9668 - val_mae: 17.0750\n",
      "Epoch 69/250\n",
      "191/191 [==============================] - 0s 1ms/step - loss: 486.9046 - mae: 16.9523 - val_loss: 516.4440 - val_mae: 17.4854\n",
      "Epoch 70/250\n",
      "191/191 [==============================] - 0s 1ms/step - loss: 488.6362 - mae: 17.0514 - val_loss: 494.9440 - val_mae: 17.0719\n",
      "Epoch 71/250\n",
      "191/191 [==============================] - 0s 1ms/step - loss: 494.0929 - mae: 17.0442 - val_loss: 492.1282 - val_mae: 17.0775\n",
      "Epoch 72/250\n",
      "191/191 [==============================] - 0s 1ms/step - loss: 491.2025 - mae: 16.9872 - val_loss: 504.2328 - val_mae: 17.1907\n",
      "Epoch 73/250\n",
      "191/191 [==============================] - 0s 1ms/step - loss: 482.3787 - mae: 16.7534 - val_loss: 500.5985 - val_mae: 17.1540\n",
      "Epoch 74/250\n",
      "191/191 [==============================] - 0s 1ms/step - loss: 490.1490 - mae: 16.9656 - val_loss: 505.7710 - val_mae: 17.1355\n",
      "Epoch 75/250\n",
      "191/191 [==============================] - 0s 1ms/step - loss: 475.2590 - mae: 16.8280 - val_loss: 497.9571 - val_mae: 17.1694\n",
      "Epoch 76/250\n",
      "191/191 [==============================] - 0s 1ms/step - loss: 498.9676 - mae: 16.8908 - val_loss: 493.2017 - val_mae: 17.0525\n",
      "Epoch 77/250\n",
      "191/191 [==============================] - 0s 1ms/step - loss: 488.9951 - mae: 16.7814 - val_loss: 503.9633 - val_mae: 17.1004\n",
      "Epoch 78/250\n",
      "191/191 [==============================] - 0s 1ms/step - loss: 498.2328 - mae: 16.9699 - val_loss: 489.7330 - val_mae: 16.8315\n",
      "Epoch 79/250\n",
      "191/191 [==============================] - 0s 1ms/step - loss: 478.3073 - mae: 16.6261 - val_loss: 495.0402 - val_mae: 17.2331\n",
      "Epoch 80/250\n",
      "191/191 [==============================] - 0s 1ms/step - loss: 479.4117 - mae: 16.8464 - val_loss: 494.1630 - val_mae: 17.0382\n",
      "Epoch 81/250\n",
      "191/191 [==============================] - 0s 982us/step - loss: 472.0561 - mae: 16.7322 - val_loss: 487.6565 - val_mae: 16.9382\n",
      "Epoch 82/250\n",
      "191/191 [==============================] - 0s 1ms/step - loss: 481.8837 - mae: 16.6949 - val_loss: 498.8720 - val_mae: 17.0150\n",
      "Epoch 83/250\n",
      "191/191 [==============================] - 0s 1ms/step - loss: 477.4979 - mae: 16.8005 - val_loss: 491.3570 - val_mae: 17.1040\n",
      "Epoch 84/250\n",
      "191/191 [==============================] - 0s 1ms/step - loss: 485.3567 - mae: 16.7409 - val_loss: 493.8027 - val_mae: 17.0586\n",
      "Epoch 85/250\n",
      "191/191 [==============================] - 0s 997us/step - loss: 479.7177 - mae: 16.8775 - val_loss: 494.4673 - val_mae: 17.0288\n",
      "Epoch 86/250\n",
      "191/191 [==============================] - 0s 1ms/step - loss: 494.1785 - mae: 16.8657 - val_loss: 495.1697 - val_mae: 17.0332\n",
      "Epoch 87/250\n",
      "191/191 [==============================] - 0s 968us/step - loss: 504.8089 - mae: 16.9639 - val_loss: 490.0061 - val_mae: 17.0184\n",
      "Epoch 88/250\n",
      "191/191 [==============================] - 0s 1ms/step - loss: 475.0192 - mae: 16.7592 - val_loss: 497.5148 - val_mae: 17.1099\n",
      "Epoch 89/250\n",
      "191/191 [==============================] - 0s 1ms/step - loss: 493.8940 - mae: 16.7543 - val_loss: 493.3125 - val_mae: 17.1186\n",
      "Epoch 90/250\n",
      "191/191 [==============================] - 0s 998us/step - loss: 493.3748 - mae: 16.8768 - val_loss: 499.3348 - val_mae: 17.2553\n",
      "Epoch 91/250\n",
      "191/191 [==============================] - 0s 991us/step - loss: 483.0178 - mae: 16.7569 - val_loss: 491.3371 - val_mae: 16.9345\n",
      "Epoch 92/250\n",
      "191/191 [==============================] - 0s 996us/step - loss: 475.0014 - mae: 16.7190 - val_loss: 497.6882 - val_mae: 17.1617\n",
      "Epoch 93/250\n",
      "191/191 [==============================] - 0s 1ms/step - loss: 481.7322 - mae: 16.9809 - val_loss: 488.7377 - val_mae: 16.8197\n",
      "Epoch 94/250\n",
      "191/191 [==============================] - 0s 1ms/step - loss: 483.5136 - mae: 16.8507 - val_loss: 490.6922 - val_mae: 17.1238\n",
      "Epoch 95/250\n",
      "191/191 [==============================] - 0s 1ms/step - loss: 471.0961 - mae: 16.5993 - val_loss: 497.7856 - val_mae: 17.0261\n",
      "Epoch 96/250\n",
      "191/191 [==============================] - 0s 1ms/step - loss: 490.3793 - mae: 16.8725 - val_loss: 489.4944 - val_mae: 17.0270\n",
      "Epoch 97/250\n",
      "191/191 [==============================] - 0s 1ms/step - loss: 487.5038 - mae: 16.7795 - val_loss: 494.4900 - val_mae: 17.2608\n",
      "Epoch 98/250\n",
      "191/191 [==============================] - 0s 1ms/step - loss: 473.5857 - mae: 16.7721 - val_loss: 512.3329 - val_mae: 17.4391\n",
      "Epoch 99/250\n",
      "191/191 [==============================] - 0s 1ms/step - loss: 465.9276 - mae: 16.5460 - val_loss: 491.3563 - val_mae: 16.9884\n",
      "Epoch 100/250\n",
      "191/191 [==============================] - 0s 1ms/step - loss: 497.9658 - mae: 16.9328 - val_loss: 491.7274 - val_mae: 16.9836\n",
      "Epoch 101/250\n",
      "191/191 [==============================] - 0s 1ms/step - loss: 462.2522 - mae: 16.5060 - val_loss: 490.8219 - val_mae: 17.1969\n",
      "Epoch 102/250\n",
      "191/191 [==============================] - 0s 1ms/step - loss: 486.5498 - mae: 16.9005 - val_loss: 494.4905 - val_mae: 16.9443\n",
      "Epoch 103/250\n",
      "191/191 [==============================] - 0s 1ms/step - loss: 483.7115 - mae: 16.7543 - val_loss: 487.9203 - val_mae: 16.9364\n",
      "Epoch 104/250\n",
      "191/191 [==============================] - 0s 1ms/step - loss: 466.3014 - mae: 16.5165 - val_loss: 490.5227 - val_mae: 17.1789\n",
      "Epoch 105/250\n",
      "191/191 [==============================] - 0s 1ms/step - loss: 470.4138 - mae: 16.7988 - val_loss: 498.0023 - val_mae: 16.9598\n",
      "Epoch 106/250\n",
      "191/191 [==============================] - 0s 1ms/step - loss: 484.5987 - mae: 16.7273 - val_loss: 497.3141 - val_mae: 17.2003\n",
      "Epoch 107/250\n",
      "191/191 [==============================] - 0s 1ms/step - loss: 463.3391 - mae: 16.5964 - val_loss: 491.1839 - val_mae: 16.9100\n",
      "Epoch 108/250\n",
      "191/191 [==============================] - 0s 1ms/step - loss: 482.8392 - mae: 16.8042 - val_loss: 488.2090 - val_mae: 17.0751\n",
      "Epoch 109/250\n",
      "191/191 [==============================] - 0s 1ms/step - loss: 460.8512 - mae: 16.5365 - val_loss: 491.1752 - val_mae: 17.1979\n",
      "Epoch 110/250\n",
      "191/191 [==============================] - 0s 1ms/step - loss: 474.3867 - mae: 16.7289 - val_loss: 484.3992 - val_mae: 16.9477\n",
      "Epoch 111/250\n",
      "191/191 [==============================] - 0s 1ms/step - loss: 460.7528 - mae: 16.5780 - val_loss: 494.5663 - val_mae: 16.9821\n",
      "Epoch 112/250\n",
      "191/191 [==============================] - 0s 1ms/step - loss: 457.3885 - mae: 16.5457 - val_loss: 497.4839 - val_mae: 17.3455\n",
      "Epoch 113/250\n",
      "191/191 [==============================] - 0s 1ms/step - loss: 478.8152 - mae: 16.7177 - val_loss: 490.6415 - val_mae: 17.0413\n",
      "Epoch 114/250\n",
      "191/191 [==============================] - 0s 1ms/step - loss: 475.3610 - mae: 16.6292 - val_loss: 483.4166 - val_mae: 17.0334\n",
      "Epoch 115/250\n",
      "191/191 [==============================] - 0s 1ms/step - loss: 479.7442 - mae: 16.8483 - val_loss: 491.9018 - val_mae: 17.1764\n",
      "Epoch 116/250\n",
      "191/191 [==============================] - 0s 1ms/step - loss: 480.2096 - mae: 16.6907 - val_loss: 481.0465 - val_mae: 16.9367\n",
      "Epoch 117/250\n",
      "191/191 [==============================] - 0s 1ms/step - loss: 469.5157 - mae: 16.7016 - val_loss: 485.4219 - val_mae: 16.9592\n",
      "Epoch 118/250\n",
      "191/191 [==============================] - 0s 1ms/step - loss: 475.9611 - mae: 16.6404 - val_loss: 482.9199 - val_mae: 16.8728\n",
      "Epoch 119/250\n",
      "191/191 [==============================] - 0s 1ms/step - loss: 474.6128 - mae: 16.5578 - val_loss: 484.9593 - val_mae: 16.8947\n",
      "Epoch 120/250\n",
      "191/191 [==============================] - 0s 1ms/step - loss: 465.0203 - mae: 16.4977 - val_loss: 489.1037 - val_mae: 17.1330\n",
      "Epoch 121/250\n",
      "191/191 [==============================] - 0s 1ms/step - loss: 483.1837 - mae: 16.9181 - val_loss: 498.2528 - val_mae: 17.0820\n",
      "Epoch 122/250\n",
      "191/191 [==============================] - 0s 1ms/step - loss: 476.3568 - mae: 16.8152 - val_loss: 484.3879 - val_mae: 16.7798\n",
      "Epoch 123/250\n",
      "191/191 [==============================] - 0s 1ms/step - loss: 458.7916 - mae: 16.4845 - val_loss: 481.6702 - val_mae: 16.7987\n",
      "Epoch 124/250\n",
      "191/191 [==============================] - 0s 1ms/step - loss: 470.8480 - mae: 16.6909 - val_loss: 487.5579 - val_mae: 17.0565\n",
      "Epoch 125/250\n",
      "191/191 [==============================] - 0s 1ms/step - loss: 477.2858 - mae: 16.6843 - val_loss: 483.6084 - val_mae: 16.9200\n",
      "Epoch 126/250\n",
      "191/191 [==============================] - 0s 1ms/step - loss: 469.1851 - mae: 16.5811 - val_loss: 486.8746 - val_mae: 16.7596\n",
      "Epoch 127/250\n",
      "191/191 [==============================] - 0s 1ms/step - loss: 454.4708 - mae: 16.3282 - val_loss: 488.1039 - val_mae: 16.7188\n",
      "Epoch 128/250\n",
      "191/191 [==============================] - 0s 1ms/step - loss: 474.0199 - mae: 16.7552 - val_loss: 487.5686 - val_mae: 17.0091\n",
      "Epoch 129/250\n",
      "191/191 [==============================] - 0s 1ms/step - loss: 452.1473 - mae: 16.3681 - val_loss: 485.6320 - val_mae: 17.1257\n",
      "Epoch 130/250\n",
      "191/191 [==============================] - 0s 1ms/step - loss: 475.9186 - mae: 16.7459 - val_loss: 492.9204 - val_mae: 17.2918\n",
      "Epoch 131/250\n",
      "191/191 [==============================] - 0s 1ms/step - loss: 494.0188 - mae: 16.8798 - val_loss: 484.7741 - val_mae: 16.8545\n",
      "Epoch 132/250\n",
      "191/191 [==============================] - 0s 1ms/step - loss: 465.3154 - mae: 16.5343 - val_loss: 524.0346 - val_mae: 17.6963\n",
      "Epoch 133/250\n",
      "191/191 [==============================] - 0s 1ms/step - loss: 472.2990 - mae: 16.6924 - val_loss: 484.2278 - val_mae: 17.0098\n",
      "Epoch 134/250\n",
      "191/191 [==============================] - 0s 1ms/step - loss: 467.3655 - mae: 16.4826 - val_loss: 505.8081 - val_mae: 17.5236\n",
      "Epoch 135/250\n",
      "191/191 [==============================] - 0s 1ms/step - loss: 464.3038 - mae: 16.6189 - val_loss: 479.0432 - val_mae: 16.8068\n",
      "Epoch 136/250\n",
      "191/191 [==============================] - 0s 1ms/step - loss: 473.3239 - mae: 16.4580 - val_loss: 477.1198 - val_mae: 16.7740\n",
      "Epoch 137/250\n",
      "191/191 [==============================] - 0s 952us/step - loss: 460.1413 - mae: 16.3296 - val_loss: 477.2711 - val_mae: 16.7806\n",
      "Epoch 138/250\n",
      "191/191 [==============================] - 0s 998us/step - loss: 457.2026 - mae: 16.5065 - val_loss: 486.9275 - val_mae: 17.0453\n",
      "Epoch 139/250\n",
      "191/191 [==============================] - 0s 928us/step - loss: 457.3566 - mae: 16.5231 - val_loss: 478.9100 - val_mae: 16.8935\n",
      "Epoch 140/250\n",
      "191/191 [==============================] - 0s 908us/step - loss: 456.5797 - mae: 16.4264 - val_loss: 498.5482 - val_mae: 17.3996\n",
      "Epoch 141/250\n",
      "191/191 [==============================] - 0s 1ms/step - loss: 474.6248 - mae: 16.6856 - val_loss: 483.8177 - val_mae: 16.8563\n",
      "Epoch 142/250\n",
      "191/191 [==============================] - 0s 1ms/step - loss: 464.6012 - mae: 16.5909 - val_loss: 476.3594 - val_mae: 16.8448\n",
      "Epoch 143/250\n",
      "191/191 [==============================] - 0s 930us/step - loss: 453.1636 - mae: 16.2128 - val_loss: 477.9844 - val_mae: 16.8070\n",
      "Epoch 144/250\n",
      "191/191 [==============================] - 0s 1ms/step - loss: 454.5729 - mae: 16.4047 - val_loss: 479.8815 - val_mae: 16.8784\n",
      "Epoch 145/250\n",
      "191/191 [==============================] - 0s 1ms/step - loss: 454.1392 - mae: 16.3884 - val_loss: 481.2706 - val_mae: 16.8647\n",
      "Epoch 146/250\n",
      "191/191 [==============================] - 0s 1ms/step - loss: 470.2291 - mae: 16.6645 - val_loss: 476.2463 - val_mae: 16.9220\n",
      "Epoch 147/250\n",
      "191/191 [==============================] - 0s 1ms/step - loss: 464.7228 - mae: 16.5204 - val_loss: 475.7193 - val_mae: 16.8048\n",
      "Epoch 148/250\n",
      "191/191 [==============================] - 0s 1ms/step - loss: 468.2698 - mae: 16.5086 - val_loss: 478.5934 - val_mae: 17.0430\n",
      "Epoch 149/250\n",
      "191/191 [==============================] - 0s 993us/step - loss: 462.0483 - mae: 16.5153 - val_loss: 490.3723 - val_mae: 17.1721\n",
      "Epoch 150/250\n",
      "191/191 [==============================] - 0s 1ms/step - loss: 459.4184 - mae: 16.5051 - val_loss: 487.3745 - val_mae: 17.1955\n",
      "Epoch 151/250\n",
      "191/191 [==============================] - 0s 971us/step - loss: 456.2612 - mae: 16.5216 - val_loss: 476.1114 - val_mae: 16.7238\n",
      "Epoch 152/250\n",
      "191/191 [==============================] - 0s 1ms/step - loss: 449.7688 - mae: 16.2846 - val_loss: 482.8285 - val_mae: 16.9099\n",
      "Epoch 153/250\n",
      "191/191 [==============================] - 0s 937us/step - loss: 445.3521 - mae: 16.2399 - val_loss: 483.1413 - val_mae: 17.0332\n",
      "Epoch 154/250\n",
      "191/191 [==============================] - 0s 1ms/step - loss: 446.0493 - mae: 16.3205 - val_loss: 490.0918 - val_mae: 17.3380\n",
      "Epoch 155/250\n",
      "191/191 [==============================] - 0s 998us/step - loss: 446.6005 - mae: 16.3012 - val_loss: 477.1355 - val_mae: 16.7975\n",
      "Epoch 156/250\n",
      "191/191 [==============================] - 0s 962us/step - loss: 448.2524 - mae: 16.2291 - val_loss: 483.4303 - val_mae: 16.8333\n",
      "Epoch 157/250\n",
      "191/191 [==============================] - 0s 1ms/step - loss: 450.7875 - mae: 16.2023 - val_loss: 475.0479 - val_mae: 16.8638\n",
      "Epoch 158/250\n",
      "191/191 [==============================] - 0s 1ms/step - loss: 452.5754 - mae: 16.2594 - val_loss: 504.3078 - val_mae: 17.6693\n",
      "Epoch 159/250\n",
      "191/191 [==============================] - 0s 1ms/step - loss: 471.8768 - mae: 16.7165 - val_loss: 490.2063 - val_mae: 17.0046\n",
      "Epoch 160/250\n",
      "191/191 [==============================] - 0s 1ms/step - loss: 454.0894 - mae: 16.2587 - val_loss: 472.6548 - val_mae: 16.8405\n",
      "Epoch 161/250\n",
      "191/191 [==============================] - 0s 1ms/step - loss: 443.1960 - mae: 16.2912 - val_loss: 482.4567 - val_mae: 16.9714\n",
      "Epoch 162/250\n",
      "191/191 [==============================] - 0s 1ms/step - loss: 453.0599 - mae: 16.3339 - val_loss: 483.9511 - val_mae: 17.1191\n",
      "Epoch 163/250\n",
      "191/191 [==============================] - 0s 1ms/step - loss: 443.3445 - mae: 16.2349 - val_loss: 478.2006 - val_mae: 16.9040\n",
      "Epoch 164/250\n",
      "191/191 [==============================] - 0s 1ms/step - loss: 449.1793 - mae: 16.4723 - val_loss: 474.8141 - val_mae: 16.8246\n",
      "Epoch 165/250\n",
      "191/191 [==============================] - 0s 1ms/step - loss: 440.4725 - mae: 16.3342 - val_loss: 499.0533 - val_mae: 17.1866\n",
      "Epoch 166/250\n",
      "191/191 [==============================] - 0s 977us/step - loss: 451.5709 - mae: 16.3191 - val_loss: 488.8019 - val_mae: 17.3830\n",
      "Epoch 167/250\n",
      "191/191 [==============================] - 0s 1ms/step - loss: 455.9220 - mae: 16.3943 - val_loss: 478.9817 - val_mae: 16.6295\n",
      "Epoch 168/250\n",
      "191/191 [==============================] - 0s 1ms/step - loss: 469.6406 - mae: 16.5908 - val_loss: 475.0475 - val_mae: 16.7834\n",
      "Epoch 169/250\n",
      "191/191 [==============================] - 0s 946us/step - loss: 438.3251 - mae: 16.1306 - val_loss: 481.4515 - val_mae: 17.0877\n",
      "Epoch 170/250\n",
      "191/191 [==============================] - 0s 945us/step - loss: 445.2726 - mae: 16.1642 - val_loss: 479.0703 - val_mae: 17.0269\n",
      "Epoch 171/250\n",
      "191/191 [==============================] - 0s 929us/step - loss: 452.9961 - mae: 16.2770 - val_loss: 494.5747 - val_mae: 17.0306\n",
      "Epoch 172/250\n",
      "191/191 [==============================] - 0s 919us/step - loss: 446.2612 - mae: 16.2241 - val_loss: 483.2338 - val_mae: 16.8947\n",
      "Epoch 173/250\n",
      "191/191 [==============================] - 0s 962us/step - loss: 445.4066 - mae: 16.2655 - val_loss: 470.8829 - val_mae: 16.7585\n",
      "Epoch 174/250\n",
      "191/191 [==============================] - 0s 1ms/step - loss: 469.7587 - mae: 16.3934 - val_loss: 480.7080 - val_mae: 16.8876\n",
      "Epoch 175/250\n",
      "191/191 [==============================] - 0s 1ms/step - loss: 433.8871 - mae: 16.0888 - val_loss: 479.0259 - val_mae: 16.8232\n",
      "Epoch 176/250\n",
      "191/191 [==============================] - 0s 964us/step - loss: 445.7079 - mae: 16.1819 - val_loss: 500.0006 - val_mae: 17.6784\n",
      "Epoch 177/250\n",
      "191/191 [==============================] - 0s 934us/step - loss: 434.5390 - mae: 16.0978 - val_loss: 481.2341 - val_mae: 16.9409\n",
      "Epoch 178/250\n",
      "191/191 [==============================] - 0s 927us/step - loss: 457.5845 - mae: 16.3160 - val_loss: 473.6354 - val_mae: 16.9248\n",
      "Epoch 179/250\n",
      "191/191 [==============================] - 0s 943us/step - loss: 446.8746 - mae: 16.2130 - val_loss: 471.8648 - val_mae: 16.9513\n",
      "Epoch 180/250\n",
      "191/191 [==============================] - 0s 953us/step - loss: 436.3250 - mae: 16.0849 - val_loss: 477.9336 - val_mae: 16.8949\n",
      "Epoch 181/250\n",
      "191/191 [==============================] - 0s 947us/step - loss: 462.9965 - mae: 16.2752 - val_loss: 471.3881 - val_mae: 16.6710\n",
      "Epoch 182/250\n",
      "191/191 [==============================] - 0s 952us/step - loss: 430.4323 - mae: 16.0468 - val_loss: 475.6782 - val_mae: 17.0304\n",
      "Epoch 183/250\n",
      "191/191 [==============================] - 0s 933us/step - loss: 445.3288 - mae: 16.1555 - val_loss: 478.1703 - val_mae: 16.8262\n",
      "Epoch 184/250\n",
      "191/191 [==============================] - 0s 986us/step - loss: 430.7899 - mae: 16.0095 - val_loss: 479.3240 - val_mae: 16.8710\n",
      "Epoch 185/250\n",
      "191/191 [==============================] - 0s 954us/step - loss: 447.5495 - mae: 16.1558 - val_loss: 476.1237 - val_mae: 16.9084\n",
      "Epoch 186/250\n",
      "191/191 [==============================] - 0s 935us/step - loss: 440.6693 - mae: 16.2003 - val_loss: 496.4267 - val_mae: 17.0203\n",
      "Epoch 187/250\n",
      "191/191 [==============================] - 0s 1ms/step - loss: 460.5563 - mae: 16.3958 - val_loss: 477.0011 - val_mae: 16.8791\n",
      "Epoch 188/250\n",
      "191/191 [==============================] - 0s 953us/step - loss: 445.8535 - mae: 16.2555 - val_loss: 479.8316 - val_mae: 16.7108\n",
      "Epoch 189/250\n",
      "191/191 [==============================] - 0s 1ms/step - loss: 453.6675 - mae: 16.3029 - val_loss: 484.8222 - val_mae: 16.9849\n",
      "Epoch 190/250\n",
      "191/191 [==============================] - 0s 1ms/step - loss: 444.7342 - mae: 16.2160 - val_loss: 482.7958 - val_mae: 16.9738\n",
      "Epoch 191/250\n",
      "191/191 [==============================] - 0s 1ms/step - loss: 442.1647 - mae: 16.0647 - val_loss: 479.7212 - val_mae: 16.8830\n",
      "Epoch 192/250\n",
      "191/191 [==============================] - 0s 996us/step - loss: 437.3231 - mae: 16.1089 - val_loss: 477.4073 - val_mae: 16.9612\n",
      "Epoch 193/250\n",
      "191/191 [==============================] - 0s 944us/step - loss: 442.7768 - mae: 16.0849 - val_loss: 479.9196 - val_mae: 17.0606\n",
      "Epoch 194/250\n",
      "191/191 [==============================] - 0s 960us/step - loss: 440.6827 - mae: 16.0818 - val_loss: 472.2542 - val_mae: 16.9044\n",
      "Epoch 195/250\n",
      "191/191 [==============================] - 0s 948us/step - loss: 446.8773 - mae: 16.2813 - val_loss: 480.8773 - val_mae: 16.7386\n",
      "Epoch 196/250\n",
      "191/191 [==============================] - 0s 1ms/step - loss: 432.9408 - mae: 15.9865 - val_loss: 507.3530 - val_mae: 17.6822\n",
      "Epoch 197/250\n",
      "191/191 [==============================] - 0s 940us/step - loss: 448.9366 - mae: 16.2230 - val_loss: 473.9264 - val_mae: 16.8786\n",
      "Epoch 198/250\n",
      "191/191 [==============================] - 0s 983us/step - loss: 441.9161 - mae: 16.1162 - val_loss: 472.7734 - val_mae: 17.0143\n",
      "Epoch 199/250\n",
      "191/191 [==============================] - 0s 1ms/step - loss: 436.9098 - mae: 16.0538 - val_loss: 467.8070 - val_mae: 16.8044\n",
      "Epoch 200/250\n",
      "191/191 [==============================] - 0s 1ms/step - loss: 430.0925 - mae: 15.9565 - val_loss: 473.4671 - val_mae: 16.7891\n",
      "Epoch 201/250\n",
      "191/191 [==============================] - 0s 1ms/step - loss: 436.5045 - mae: 16.0954 - val_loss: 478.5661 - val_mae: 16.7887\n",
      "Epoch 202/250\n",
      "191/191 [==============================] - 0s 944us/step - loss: 442.0178 - mae: 16.1146 - val_loss: 467.1854 - val_mae: 16.8280\n",
      "Epoch 203/250\n",
      "191/191 [==============================] - 0s 1ms/step - loss: 445.1338 - mae: 16.2870 - val_loss: 481.0380 - val_mae: 16.7933\n",
      "Epoch 204/250\n",
      "191/191 [==============================] - 0s 1ms/step - loss: 422.9775 - mae: 15.9248 - val_loss: 466.0168 - val_mae: 16.6150\n",
      "Epoch 205/250\n",
      "191/191 [==============================] - 0s 1ms/step - loss: 439.6105 - mae: 16.1955 - val_loss: 475.0322 - val_mae: 16.8665\n",
      "Epoch 206/250\n",
      "191/191 [==============================] - 0s 967us/step - loss: 429.1323 - mae: 16.0125 - val_loss: 474.5283 - val_mae: 16.8822\n",
      "Epoch 207/250\n",
      "191/191 [==============================] - 0s 936us/step - loss: 429.9142 - mae: 16.0194 - val_loss: 469.1823 - val_mae: 16.7064\n",
      "Epoch 208/250\n",
      "191/191 [==============================] - 0s 951us/step - loss: 442.2076 - mae: 16.0463 - val_loss: 467.3227 - val_mae: 16.8230\n",
      "Epoch 209/250\n",
      "191/191 [==============================] - 0s 992us/step - loss: 426.0742 - mae: 15.7998 - val_loss: 467.0799 - val_mae: 16.8214\n",
      "Epoch 210/250\n",
      "191/191 [==============================] - 0s 1ms/step - loss: 428.6020 - mae: 16.0033 - val_loss: 480.9623 - val_mae: 16.7992\n",
      "Epoch 211/250\n",
      "191/191 [==============================] - 0s 1ms/step - loss: 445.0507 - mae: 16.1243 - val_loss: 476.2879 - val_mae: 16.7228\n",
      "Epoch 212/250\n",
      "191/191 [==============================] - 0s 1ms/step - loss: 434.4866 - mae: 15.9242 - val_loss: 496.0229 - val_mae: 17.4668\n",
      "Epoch 213/250\n",
      "191/191 [==============================] - 0s 1ms/step - loss: 455.4182 - mae: 16.3680 - val_loss: 471.3540 - val_mae: 16.8374\n",
      "Epoch 214/250\n",
      "191/191 [==============================] - 0s 1ms/step - loss: 429.0040 - mae: 15.9549 - val_loss: 472.4144 - val_mae: 16.8422\n",
      "Epoch 215/250\n",
      "191/191 [==============================] - 0s 1ms/step - loss: 423.7652 - mae: 15.9371 - val_loss: 471.7647 - val_mae: 16.9052\n",
      "Epoch 216/250\n",
      "191/191 [==============================] - 0s 1ms/step - loss: 445.9035 - mae: 16.0918 - val_loss: 465.2184 - val_mae: 16.6188\n",
      "Epoch 217/250\n",
      "191/191 [==============================] - 0s 1ms/step - loss: 440.7128 - mae: 16.1014 - val_loss: 484.8438 - val_mae: 17.0478\n",
      "Epoch 218/250\n",
      "191/191 [==============================] - 0s 1ms/step - loss: 432.6085 - mae: 16.0359 - val_loss: 468.9950 - val_mae: 16.7958\n",
      "Epoch 219/250\n",
      "191/191 [==============================] - 0s 1ms/step - loss: 442.7981 - mae: 16.1557 - val_loss: 472.8934 - val_mae: 17.0667\n",
      "Epoch 220/250\n",
      "191/191 [==============================] - 0s 1ms/step - loss: 431.7399 - mae: 15.9547 - val_loss: 467.5870 - val_mae: 16.7951\n",
      "Epoch 221/250\n",
      "191/191 [==============================] - 0s 999us/step - loss: 426.4780 - mae: 15.9064 - val_loss: 468.6076 - val_mae: 16.8207\n",
      "Epoch 222/250\n",
      "191/191 [==============================] - 0s 1ms/step - loss: 442.6442 - mae: 16.1163 - val_loss: 474.8044 - val_mae: 16.6799\n",
      "Epoch 223/250\n",
      "191/191 [==============================] - 0s 1ms/step - loss: 432.6506 - mae: 15.9251 - val_loss: 466.6625 - val_mae: 16.6640\n",
      "Epoch 224/250\n",
      "191/191 [==============================] - 0s 1ms/step - loss: 433.0369 - mae: 15.9656 - val_loss: 479.6360 - val_mae: 17.1190\n",
      "Epoch 225/250\n",
      "191/191 [==============================] - 0s 949us/step - loss: 439.6300 - mae: 16.1648 - val_loss: 477.7377 - val_mae: 16.9703\n",
      "Epoch 226/250\n",
      "191/191 [==============================] - 0s 1ms/step - loss: 431.8252 - mae: 16.0233 - val_loss: 470.7150 - val_mae: 16.7564\n",
      "Epoch 227/250\n",
      "191/191 [==============================] - 0s 965us/step - loss: 426.8672 - mae: 15.9360 - val_loss: 470.5785 - val_mae: 17.0344\n",
      "Epoch 228/250\n",
      "191/191 [==============================] - 0s 996us/step - loss: 435.6349 - mae: 15.9663 - val_loss: 481.2040 - val_mae: 17.0228\n",
      "Epoch 229/250\n",
      "191/191 [==============================] - 0s 990us/step - loss: 428.1663 - mae: 16.0264 - val_loss: 464.7137 - val_mae: 16.7297\n",
      "Epoch 230/250\n",
      "191/191 [==============================] - 0s 1ms/step - loss: 438.5807 - mae: 16.0048 - val_loss: 467.4388 - val_mae: 16.8051\n",
      "Epoch 231/250\n",
      "191/191 [==============================] - 0s 972us/step - loss: 423.5938 - mae: 15.8451 - val_loss: 485.8582 - val_mae: 17.0057\n",
      "Epoch 232/250\n",
      "191/191 [==============================] - 0s 1ms/step - loss: 419.2268 - mae: 15.8064 - val_loss: 468.5997 - val_mae: 16.7512\n",
      "Epoch 233/250\n",
      "191/191 [==============================] - 0s 1ms/step - loss: 433.3073 - mae: 16.0649 - val_loss: 472.6965 - val_mae: 16.7549\n",
      "Epoch 234/250\n",
      "191/191 [==============================] - 0s 1ms/step - loss: 426.5543 - mae: 15.7464 - val_loss: 486.6158 - val_mae: 17.1950\n",
      "Epoch 235/250\n",
      "191/191 [==============================] - 0s 969us/step - loss: 434.0428 - mae: 15.9477 - val_loss: 459.5807 - val_mae: 16.6400\n",
      "Epoch 236/250\n",
      "191/191 [==============================] - 0s 966us/step - loss: 435.0001 - mae: 15.9306 - val_loss: 462.1811 - val_mae: 16.7190\n",
      "Epoch 237/250\n",
      "191/191 [==============================] - 0s 945us/step - loss: 424.0474 - mae: 15.7245 - val_loss: 496.1207 - val_mae: 17.1185\n",
      "Epoch 238/250\n",
      "191/191 [==============================] - 0s 956us/step - loss: 447.3152 - mae: 15.9453 - val_loss: 468.5814 - val_mae: 16.8717\n",
      "Epoch 239/250\n",
      "191/191 [==============================] - 0s 1ms/step - loss: 419.5449 - mae: 15.7667 - val_loss: 478.9538 - val_mae: 16.8376\n",
      "Epoch 240/250\n",
      "191/191 [==============================] - 0s 1ms/step - loss: 417.6836 - mae: 15.7536 - val_loss: 460.2169 - val_mae: 16.5821\n",
      "Epoch 241/250\n",
      "191/191 [==============================] - 0s 1ms/step - loss: 417.4694 - mae: 15.5787 - val_loss: 462.9805 - val_mae: 16.7847\n",
      "Epoch 242/250\n",
      "191/191 [==============================] - 0s 1ms/step - loss: 424.0523 - mae: 15.7754 - val_loss: 462.4565 - val_mae: 16.5883\n",
      "Epoch 243/250\n",
      "191/191 [==============================] - 0s 956us/step - loss: 427.9639 - mae: 15.9372 - val_loss: 482.8105 - val_mae: 16.9113\n",
      "Epoch 244/250\n",
      "191/191 [==============================] - 0s 977us/step - loss: 413.8142 - mae: 15.7095 - val_loss: 471.9855 - val_mae: 16.7201\n",
      "Epoch 245/250\n",
      "191/191 [==============================] - 0s 1ms/step - loss: 425.4969 - mae: 15.8653 - val_loss: 465.6466 - val_mae: 16.6677\n",
      "Epoch 246/250\n",
      "191/191 [==============================] - 0s 1ms/step - loss: 417.1691 - mae: 15.7245 - val_loss: 464.2484 - val_mae: 16.7215\n",
      "Epoch 247/250\n",
      "191/191 [==============================] - 0s 1ms/step - loss: 422.4456 - mae: 15.7786 - val_loss: 471.4530 - val_mae: 16.6754\n",
      "Epoch 248/250\n",
      "191/191 [==============================] - 0s 959us/step - loss: 410.3306 - mae: 15.6173 - val_loss: 469.8896 - val_mae: 16.7585\n",
      "Epoch 249/250\n",
      "191/191 [==============================] - 0s 988us/step - loss: 435.6543 - mae: 15.8884 - val_loss: 465.0430 - val_mae: 16.5035\n",
      "Epoch 250/250\n",
      "191/191 [==============================] - 0s 1ms/step - loss: 413.2546 - mae: 15.5818 - val_loss: 462.6320 - val_mae: 16.5930\n"
     ]
    }
   ],
   "source": [
    "# making no changes, I want the NNet baseline\n",
    "# Insert model here...\n",
    "model = Sequential()\n",
    "\n",
    "model.add(Dense(128, activation = 'relu', input_shape = (12,)))\n",
    "model.add(Dense(64, activation = 'relu'))\n",
    "model.add(Dense(64, activation = 'relu'))\n",
    "\n",
    "model.add(Dense(1, activation = None))\n",
    "\n",
    "#compile the model\n",
    "model.compile(loss = 'mse', optimizer = 'adam', metrics = ['mae'])\n",
    "\n",
    "# fit the model\n",
    "results = model.fit(X_train_sc, y_train,\n",
    "                    batch_size = 100,\n",
    "                    epochs = 250, \n",
    "                    validation_data = (X_test_sc, y_test),\n",
    "                    verbose = 1)\n",
    "\n"
   ]
  },
  {
   "cell_type": "code",
   "execution_count": 33,
   "metadata": {},
   "outputs": [
    {
     "ename": "ValueError",
     "evalue": "The first argument to `Layer.call` must always be passed.",
     "output_type": "error",
     "traceback": [
      "\u001b[0;31m---------------------------------------------------------------------------\u001b[0m",
      "\u001b[0;31mValueError\u001b[0m                                Traceback (most recent call last)",
      "\u001b[0;32m<ipython-input-33-ca9576a7bc7b>\u001b[0m in \u001b[0;36m<module>\u001b[0;34m\u001b[0m\n\u001b[1;32m      2\u001b[0m pipe = Pipeline([\n\u001b[1;32m      3\u001b[0m     \u001b[0mStandardScaler\u001b[0m\u001b[0;34m(\u001b[0m\u001b[0;34m)\u001b[0m\u001b[0;34m,\u001b[0m\u001b[0;34m\u001b[0m\u001b[0;34m\u001b[0m\u001b[0m\n\u001b[0;32m----> 4\u001b[0;31m     \u001b[0mmodel\u001b[0m\u001b[0;34m(\u001b[0m\u001b[0;34m)\u001b[0m\u001b[0;34m\u001b[0m\u001b[0;34m\u001b[0m\u001b[0m\n\u001b[0m\u001b[1;32m      5\u001b[0m ])\n\u001b[1;32m      6\u001b[0m \u001b[0mmodel\u001b[0m\u001b[0;34m.\u001b[0m\u001b[0msave\u001b[0m\u001b[0;34m(\u001b[0m\u001b[0;34m'../app/resources/NYC-st-app-model_h5'\u001b[0m\u001b[0;34m,\u001b[0m\u001b[0msave_format\u001b[0m\u001b[0;34m=\u001b[0m\u001b[0;34m'h5'\u001b[0m\u001b[0;34m)\u001b[0m\u001b[0;34m\u001b[0m\u001b[0;34m\u001b[0m\u001b[0m\n",
      "\u001b[0;32m~/opt/anaconda3/lib/python3.8/site-packages/tensorflow/python/keras/engine/base_layer.py\u001b[0m in \u001b[0;36m__call__\u001b[0;34m(self, *args, **kwargs)\u001b[0m\n\u001b[1;32m    940\u001b[0m     \u001b[0;31m#   not to any other argument.\u001b[0m\u001b[0;34m\u001b[0m\u001b[0;34m\u001b[0m\u001b[0;34m\u001b[0m\u001b[0m\n\u001b[1;32m    941\u001b[0m     \u001b[0;31m# - setting the SavedModel saving spec.\u001b[0m\u001b[0;34m\u001b[0m\u001b[0;34m\u001b[0m\u001b[0;34m\u001b[0m\u001b[0m\n\u001b[0;32m--> 942\u001b[0;31m     \u001b[0minputs\u001b[0m\u001b[0;34m,\u001b[0m \u001b[0margs\u001b[0m\u001b[0;34m,\u001b[0m \u001b[0mkwargs\u001b[0m \u001b[0;34m=\u001b[0m \u001b[0mself\u001b[0m\u001b[0;34m.\u001b[0m\u001b[0m_split_out_first_arg\u001b[0m\u001b[0;34m(\u001b[0m\u001b[0margs\u001b[0m\u001b[0;34m,\u001b[0m \u001b[0mkwargs\u001b[0m\u001b[0;34m)\u001b[0m\u001b[0;34m\u001b[0m\u001b[0;34m\u001b[0m\u001b[0m\n\u001b[0m\u001b[1;32m    943\u001b[0m     \u001b[0minput_list\u001b[0m \u001b[0;34m=\u001b[0m \u001b[0mnest\u001b[0m\u001b[0;34m.\u001b[0m\u001b[0mflatten\u001b[0m\u001b[0;34m(\u001b[0m\u001b[0minputs\u001b[0m\u001b[0;34m)\u001b[0m\u001b[0;34m\u001b[0m\u001b[0;34m\u001b[0m\u001b[0m\n\u001b[1;32m    944\u001b[0m \u001b[0;34m\u001b[0m\u001b[0m\n",
      "\u001b[0;32m~/opt/anaconda3/lib/python3.8/site-packages/tensorflow/python/keras/engine/base_layer.py\u001b[0m in \u001b[0;36m_split_out_first_arg\u001b[0;34m(self, args, kwargs)\u001b[0m\n\u001b[1;32m   3045\u001b[0m       \u001b[0minputs\u001b[0m \u001b[0;34m=\u001b[0m \u001b[0mkwargs\u001b[0m\u001b[0;34m.\u001b[0m\u001b[0mpop\u001b[0m\u001b[0;34m(\u001b[0m\u001b[0mself\u001b[0m\u001b[0;34m.\u001b[0m\u001b[0m_call_fn_args\u001b[0m\u001b[0;34m[\u001b[0m\u001b[0;36m0\u001b[0m\u001b[0;34m]\u001b[0m\u001b[0;34m)\u001b[0m\u001b[0;34m\u001b[0m\u001b[0;34m\u001b[0m\u001b[0m\n\u001b[1;32m   3046\u001b[0m     \u001b[0;32melse\u001b[0m\u001b[0;34m:\u001b[0m\u001b[0;34m\u001b[0m\u001b[0;34m\u001b[0m\u001b[0m\n\u001b[0;32m-> 3047\u001b[0;31m       raise ValueError(\n\u001b[0m\u001b[1;32m   3048\u001b[0m           'The first argument to `Layer.call` must always be passed.')\n\u001b[1;32m   3049\u001b[0m     \u001b[0;32mreturn\u001b[0m \u001b[0minputs\u001b[0m\u001b[0;34m,\u001b[0m \u001b[0margs\u001b[0m\u001b[0;34m,\u001b[0m \u001b[0mkwargs\u001b[0m\u001b[0;34m\u001b[0m\u001b[0;34m\u001b[0m\u001b[0m\n",
      "\u001b[0;31mValueError\u001b[0m: The first argument to `Layer.call` must always be passed."
     ]
    }
   ],
   "source": [
    "# save model for Streamlit app\n",
    "pipe = Pipeline([\n",
    "    StandardScaler(),\n",
    "    model.predict()\n",
    "])\n",
    "model.save('../app/resources/NYC-st-app-model_h5',save_format='h5')"
   ]
  },
  {
   "cell_type": "code",
   "execution_count": 49,
   "metadata": {},
   "outputs": [
    {
     "data": {
      "text/plain": [
       "15.161718368530273"
      ]
     },
     "execution_count": 49,
     "metadata": {},
     "output_type": "execute_result"
    }
   ],
   "source": [
    "results.history['mae'][-1]"
   ]
  },
  {
   "cell_type": "code",
   "execution_count": 50,
   "metadata": {},
   "outputs": [
    {
     "data": {
      "text/plain": [
       "16.74115753173828"
      ]
     },
     "execution_count": 50,
     "metadata": {},
     "output_type": "execute_result"
    }
   ],
   "source": [
    "results.history['val_mae'][-1]"
   ]
  },
  {
   "cell_type": "code",
   "execution_count": 51,
   "metadata": {},
   "outputs": [
    {
     "data": {
      "image/png": "[encoded data removed]",
      "text/plain": [
       "<Figure size 576x360 with 1 Axes>"
      ]
     },
     "metadata": {
      "needs_background": "light"
     },
     "output_type": "display_data"
    }
   ],
   "source": [
    "# Visualize the loss\n",
    "train_loss = results.history['loss']\n",
    "test_loss =  results.history['val_loss']\n",
    "\n",
    "plt.figure(figsize=(8, 5))\n",
    "plt.plot(train_loss, label='Training loss', color='navy')\n",
    "plt.plot(test_loss, label='Testing loss', color='skyblue')\n",
    "plt.legend();"
   ]
  },
  {
   "cell_type": "markdown",
   "metadata": {},
   "source": [
    "Mean Squared Error drops this into the range of being within 21 calls per hour."
   ]
  },
  {
   "cell_type": "code",
   "execution_count": 52,
   "metadata": {},
   "outputs": [
    {
     "data": {
      "image/png": "[encoded data removed]",
      "text/plain": [
       "<Figure size 576x360 with 1 Axes>"
      ]
     },
     "metadata": {
      "needs_background": "light"
     },
     "output_type": "display_data"
    }
   ],
   "source": [
    "# visualising mean accuracy error\n",
    "train_mae = results.history['mae']\n",
    "test_mae =  results.history['val_mae']\n",
    "\n",
    "plt.figure(figsize=(8, 5))\n",
    "plt.plot(train_mae, label='Training MAE', color='navy')\n",
    "plt.plot(test_mae, label='Testing MAE', color='skyblue')\n",
    "plt.legend();"
   ]
  },
  {
   "cell_type": "markdown",
   "metadata": {},
   "source": [
    "MAE results are interesting since this would suggest we can get within 17 calls for predictions BUT it is important to note that this does not penalize large errors as harshly as RMSE does.  Since we want to avoid large mistakes (we're talking emergency/life and death situations) we do want to use RMSE instead of MAE."
   ]
  },
  {
   "cell_type": "code",
   "execution_count": 53,
   "metadata": {},
   "outputs": [],
   "source": [
    "preds = model.predict(X_test_sc)\n",
    "y_df = pd.DataFrame(y_test)"
   ]
  },
  {
   "cell_type": "code",
   "execution_count": 54,
   "metadata": {},
   "outputs": [
    {
     "data": {
      "text/html": [
       "<div>\n",
       "<style scoped>\n",
       "    .dataframe tbody tr th:only-of-type {\n",
       "        vertical-align: middle;\n",
       "    }\n",
       "\n",
       "    .dataframe tbody tr th {\n",
       "        vertical-align: top;\n",
       "    }\n",
       "\n",
       "    .dataframe thead th {\n",
       "        text-align: right;\n",
       "    }\n",
       "</style>\n",
       "<table border=\"1\" class=\"dataframe\">\n",
       "  <thead>\n",
       "    <tr style=\"text-align: right;\">\n",
       "      <th></th>\n",
       "      <th>num_calls</th>\n",
       "      <th>preds</th>\n",
       "    </tr>\n",
       "  </thead>\n",
       "  <tbody>\n",
       "    <tr>\n",
       "      <th>count</th>\n",
       "      <td>6367.000000</td>\n",
       "      <td>6367.000000</td>\n",
       "    </tr>\n",
       "    <tr>\n",
       "      <th>mean</th>\n",
       "      <td>136.157845</td>\n",
       "      <td>134.268570</td>\n",
       "    </tr>\n",
       "    <tr>\n",
       "      <th>std</th>\n",
       "      <td>54.344129</td>\n",
       "      <td>49.656021</td>\n",
       "    </tr>\n",
       "    <tr>\n",
       "      <th>min</th>\n",
       "      <td>36.000000</td>\n",
       "      <td>50.258030</td>\n",
       "    </tr>\n",
       "    <tr>\n",
       "      <th>25%</th>\n",
       "      <td>88.000000</td>\n",
       "      <td>88.880684</td>\n",
       "    </tr>\n",
       "    <tr>\n",
       "      <th>50%</th>\n",
       "      <td>127.000000</td>\n",
       "      <td>122.294922</td>\n",
       "    </tr>\n",
       "    <tr>\n",
       "      <th>75%</th>\n",
       "      <td>185.000000</td>\n",
       "      <td>182.385872</td>\n",
       "    </tr>\n",
       "    <tr>\n",
       "      <th>max</th>\n",
       "      <td>377.000000</td>\n",
       "      <td>261.466064</td>\n",
       "    </tr>\n",
       "  </tbody>\n",
       "</table>\n",
       "</div>"
      ],
      "text/plain": [
       "         num_calls        preds\n",
       "count  6367.000000  6367.000000\n",
       "mean    136.157845   134.268570\n",
       "std      54.344129    49.656021\n",
       "min      36.000000    50.258030\n",
       "25%      88.000000    88.880684\n",
       "50%     127.000000   122.294922\n",
       "75%     185.000000   182.385872\n",
       "max     377.000000   261.466064"
      ]
     },
     "execution_count": 54,
     "metadata": {},
     "output_type": "execute_result"
    }
   ],
   "source": [
    "y_df['preds'] = preds\n",
    "y_df['error'] = (y_df['preds'] - y_df['num_calls'])\n",
    "y_df[['num_calls', 'preds']].describe()"
   ]
  },
  {
   "cell_type": "markdown",
   "metadata": {
    "jupyter": {
     "outputs_hidden": true
    }
   },
   "source": [
    "Interesting thing to note here (at least I think so) is that the mean and std are very close between num_calls and preds but preds do not even come close to the top end of actual maximum num_calls being off by a full 120 calls.  Other wise this would seem to indicate a pretty solid result for predicting call volumes.  Outliers will be outliers and we will never get close to seeing a disaster scenario coming but hopefully this will account for most situations within what we might consider the norm."
   ]
  },
  {
   "cell_type": "code",
   "execution_count": 55,
   "metadata": {},
   "outputs": [
    {
     "name": "stdout",
     "output_type": "stream",
     "text": [
      "Training: 0.8676335518449162\n",
      "Testing: 0.840234343111754\n"
     ]
    }
   ],
   "source": [
    "train_preds = model.predict(X_train_sc)\n",
    "\n",
    "training =  r2_score(y_train, train_preds)\n",
    "testing = r2_score(y_test, preds)\n",
    "\n",
    "print(f'Training: {training}')\n",
    "print(f'Testing: {testing}')"
   ]
  },
  {
   "cell_type": "code",
   "execution_count": 56,
   "metadata": {},
   "outputs": [
    {
     "data": {
      "text/plain": [
       "(19.719267252428562, 21.72002101590659)"
      ]
     },
     "execution_count": 56,
     "metadata": {},
     "output_type": "execute_result"
    }
   ],
   "source": [
    "sqrt(mean_squared_error(y_train, train_preds)), sqrt(mean_squared_error(y_test, preds))"
   ]
  },
  {
   "cell_type": "markdown",
   "metadata": {},
   "source": [
    "### **Recurrent Neural Network**"
   ]
  },
  {
   "cell_type": "code",
   "execution_count": 26,
   "metadata": {},
   "outputs": [],
   "source": [
    "from tensorflow.keras.models import Sequential\n",
    "from tensorflow.keras.layers import Dense, Dropout, GRU\n",
    "from tensorflow.keras.regularizers import l2\n",
    "from tensorflow.keras.callbacks import EarlyStopping\n",
    "from tensorflow.keras.preprocessing.sequence import TimeseriesGenerator\n",
    "from tensorflow.keras.optimizers import Adam"
   ]
  },
  {
   "cell_type": "code",
   "execution_count": 27,
   "metadata": {},
   "outputs": [],
   "source": [
    "df = pd.read_csv('../data/final_calls_weather_tfk.csv')\n",
    "\n",
    "df['DATE'] = pd.to_datetime(df['DATE'])\n",
    "\n",
    "df.set_index(df['DATE'], inplace = True)"
   ]
  },
  {
   "cell_type": "code",
   "execution_count": 28,
   "metadata": {},
   "outputs": [],
   "source": [
    "X = df.drop(columns = ['num_calls', 'BROOKLYN', 'BRONX' ,'MANHATTAN', \n",
    "                       'UNKNOWN','Unnamed: 0', 'RICHMOND / STATEN ISLAND','DATE', 'Unnamed: 0.1'\n",
    "                       ])\n",
    "y = df['num_calls']\n",
    "\n",
    "X = pd.get_dummies(X, columns = ['STATION'])\n",
    "X = pd.get_dummies(X, columns = ['NAME'])\n",
    "\n",
    "X_train, X_test, y_train, y_test = train_test_split(X, y)\n",
    "\n",
    "sc = StandardScaler()\n",
    "\n",
    "X_train_sc = sc.fit_transform(X_train)\n",
    "X_test_sc = sc.transform(X_test)"
   ]
  },
  {
   "cell_type": "code",
   "execution_count": 29,
   "metadata": {},
   "outputs": [],
   "source": [
    "train_sequences = TimeseriesGenerator(X_train_sc, y_train, length = 3, batch_size = 64)\n",
    "\n",
    "test_sequences = TimeseriesGenerator(X_test_sc, y_test, length=3, batch_size = 64)\n",
    "\n",
    "d =train_sequences[0][0][0].shape"
   ]
  },
  {
   "cell_type": "code",
   "execution_count": 30,
   "metadata": {},
   "outputs": [],
   "source": [
    "stop = EarlyStopping(monitor = 'mae', patience = 10, min_delta = .01)\n",
    "\n",
    "# set up structure\n",
    "model = Sequential()\n",
    "model.add(GRU(8, input_shape=d, return_sequences=True))\n",
    "model.add(GRU(8, return_sequences=False))\n",
    "\n",
    "model.add(Dense(4, activation='relu'))\n",
    "model.add(Dense(1, activation=None))\n",
    "\n",
    "# compile\n",
    "model.compile(optimizer=Adam(lr=.0005), loss='mse', metrics=['mae'])\n",
    "\n",
    "results = model.fit(train_sequences, \n",
    "          epochs = 100,\n",
    "          batch_size = 256,\n",
    "          validation_data = test_sequences,\n",
    "          callbacks = stop,\n",
    "                   verbose = 0)"
   ]
  },
  {
   "cell_type": "code",
   "execution_count": 31,
   "metadata": {},
   "outputs": [
    {
     "data": {
      "image/png": "[encoded data removed]",
      "text/plain": [
       "<Figure size 864x576 with 1 Axes>"
      ]
     },
     "metadata": {
      "needs_background": "light"
     },
     "output_type": "display_data"
    }
   ],
   "source": [
    "train_mae = results.history['loss']\n",
    "test_mae =  results.history['val_loss']\n",
    "\n",
    "plt.figure(figsize=(12, 8))\n",
    "plt.plot(train_mae, label='Training Loss', color='navy')\n",
    "plt.plot(test_mae, label='Testing Loss', color='skyblue')\n",
    "plt.legend();"
   ]
  },
  {
   "cell_type": "code",
   "execution_count": null,
   "metadata": {},
   "outputs": [],
   "source": []
  }
 ],
 "metadata": {
  "kernelspec": {
   "display_name": "Python 3",
   "language": "python",
   "name": "python3"
  },
  "language_info": {
   "codemirror_mode": {
    "name": "ipython",
    "version": 3
   },
   "file_extension": ".py",
   "mimetype": "text/x-python",
   "name": "python",
   "nbconvert_exporter": "python",
   "pygments_lexer": "ipython3",
   "version": "3.8.5"
  }
 },
 "nbformat": 4,
 "nbformat_minor": 4
}
